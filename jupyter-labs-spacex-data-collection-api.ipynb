{
 "cells": [
  {
   "cell_type": "markdown",
   "metadata": {},
   "source": [
    "<p style=\"text-align:center\">\n",
    "    <a href=\"https://skills.network/?utm_medium=Exinfluencer&utm_source=Exinfluencer&utm_content=000026UJ&utm_term=10006555&utm_id=NA-SkillsNetwork-Channel-SkillsNetworkCoursesIBMDS0321ENSkillsNetwork865-2022-01-01\" target=\"_blank\">\n",
    "    <img src=\"https://cf-courses-data.s3.us.cloud-object-storage.appdomain.cloud/assets/logos/SN_web_lightmode.png\" width=\"200\" alt=\"Skills Network Logo\"  />\n",
    "    </a>\n",
    "</p>\n"
   ]
  },
  {
   "cell_type": "markdown",
   "metadata": {},
   "source": [
    "# **SpaceX  Falcon 9 first stage Landing Prediction**\n"
   ]
  },
  {
   "cell_type": "markdown",
   "metadata": {},
   "source": [
    "# Lab 1: Collecting the data\n"
   ]
  },
  {
   "cell_type": "markdown",
   "metadata": {},
   "source": [
    "Estimated time needed: **45** minutes\n"
   ]
  },
  {
   "cell_type": "markdown",
   "metadata": {},
   "source": [
    "In this capstone, we will predict if the Falcon 9 first stage will land successfully. SpaceX advertises Falcon 9 rocket launches on its website with a cost of 62 million dollars; other providers cost upward of 165 million dollars each, much of the savings is because SpaceX can reuse the first stage. Therefore if we can determine if the first stage will land, we can determine the cost of a launch. This information can be used if an alternate company wants to bid against SpaceX for a rocket launch. In this lab, you will collect and make sure the data is in the correct format from an API. The following is an example of a successful and launch.\n"
   ]
  },
  {
   "cell_type": "markdown",
   "metadata": {},
   "source": [
    "![](https://cf-courses-data.s3.us.cloud-object-storage.appdomain.cloud/IBMDeveloperSkillsNetwork-DS0701EN-SkillsNetwork/lab_v2/images/landing_1.gif)\n"
   ]
  },
  {
   "cell_type": "markdown",
   "metadata": {},
   "source": [
    "Several examples of an unsuccessful landing are shown here:\n"
   ]
  },
  {
   "cell_type": "markdown",
   "metadata": {},
   "source": [
    "![](https://cf-courses-data.s3.us.cloud-object-storage.appdomain.cloud/IBMDeveloperSkillsNetwork-DS0701EN-SkillsNetwork/lab_v2/images/crash.gif)\n"
   ]
  },
  {
   "cell_type": "markdown",
   "metadata": {},
   "source": [
    "Most unsuccessful landings are planned. Space X performs a controlled landing in the oceans. \n"
   ]
  },
  {
   "cell_type": "markdown",
   "metadata": {},
   "source": [
    "## Objectives\n"
   ]
  },
  {
   "cell_type": "markdown",
   "metadata": {},
   "source": [
    "In this lab, you will make a get request to the SpaceX API. You will also do some basic data wrangling and formating. \n",
    "\n",
    "- Request to the SpaceX API\n",
    "- Clean the requested data\n"
   ]
  },
  {
   "cell_type": "markdown",
   "metadata": {},
   "source": [
    "----\n"
   ]
  },
  {
   "cell_type": "markdown",
   "metadata": {},
   "source": [
    "## Import Libraries and Define Auxiliary Functions\n"
   ]
  },
  {
   "cell_type": "markdown",
   "metadata": {},
   "source": [
    "We will import the following libraries into the lab\n"
   ]
  },
  {
   "cell_type": "code",
   "execution_count": 1,
   "metadata": {},
   "outputs": [],
   "source": [
    "# Requests allows us to make HTTP requests which we will use to get data from an API\n",
    "import requests\n",
    "# Pandas is a software library written for the Python programming language for data manipulation and analysis.\n",
    "import pandas as pd\n",
    "# NumPy is a library for the Python programming language, adding support for large, multi-dimensional arrays and matrices, along with a large collection of high-level mathematical functions to operate on these arrays\n",
    "import numpy as np\n",
    "# Datetime is a library that allows us to represent dates\n",
    "import datetime\n",
    "\n",
    "# Setting this option will print all collumns of a dataframe\n",
    "pd.set_option('display.max_columns', None)\n",
    "# Setting this option will print all of the data in a feature\n",
    "pd.set_option('display.max_colwidth', None)"
   ]
  },
  {
   "cell_type": "markdown",
   "metadata": {},
   "source": [
    "Below we will define a series of helper functions that will help us use the API to extract information using identification numbers in the launch data.\n",
    "\n",
    "From the <code>rocket</code> column we would like to learn the booster name.\n"
   ]
  },
  {
   "cell_type": "code",
   "execution_count": 2,
   "metadata": {},
   "outputs": [],
   "source": [
    "# Takes the dataset and uses the rocket column to call the API and append the data to the list\n",
    "def getBoosterVersion(data):\n",
    "    for x in data['rocket']:\n",
    "       if x:\n",
    "        response = requests.get(\"https://api.spacexdata.com/v4/rockets/\"+str(x)).json()\n",
    "        BoosterVersion.append(response['name'])"
   ]
  },
  {
   "cell_type": "markdown",
   "metadata": {},
   "source": [
    "From the <code>launchpad</code> we would like to know the name of the launch site being used, the logitude, and the latitude.\n"
   ]
  },
  {
   "cell_type": "code",
   "execution_count": 3,
   "metadata": {},
   "outputs": [],
   "source": [
    "# Takes the dataset and uses the launchpad column to call the API and append the data to the list\n",
    "def getLaunchSite(data):\n",
    "    for x in data['launchpad']:\n",
    "       if x:\n",
    "         response = requests.get(\"https://api.spacexdata.com/v4/launchpads/\"+str(x)).json()\n",
    "         Longitude.append(response['longitude'])\n",
    "         Latitude.append(response['latitude'])\n",
    "         LaunchSite.append(response['name'])"
   ]
  },
  {
   "cell_type": "markdown",
   "metadata": {},
   "source": [
    "From the <code>payload</code> we would like to learn the mass of the payload and the orbit that it is going to.\n"
   ]
  },
  {
   "cell_type": "code",
   "execution_count": 46,
   "metadata": {},
   "outputs": [],
   "source": [
    "def getPayloadData(data):\n",
    "    for loads in data['payloads']:\n",
    "        if loads:\n",
    "            # Assuming there might be multiple payloads in a launch, loop through them\n",
    "            for load in loads:\n",
    "                response = requests.get(\"https://api.spacexdata.com/v4/payloads/\"+str(load)).json()\n",
    "                print(\"Response:\", response)  # Add this line to check the response\n",
    "                PayloadMass.append(response['mass_kg'])\n",
    "                Orbit.append(response['orbit'])\n"
   ]
  },
  {
   "cell_type": "markdown",
   "metadata": {},
   "source": [
    "From <code>cores</code> we would like to learn the outcome of the landing, the type of the landing, number of flights with that core, whether gridfins were used, wheter the core is reused, wheter legs were used, the landing pad used, the block of the core which is a number used to seperate version of cores, the number of times this specific core has been reused, and the serial of the core.\n"
   ]
  },
  {
   "cell_type": "code",
   "execution_count": 49,
   "metadata": {},
   "outputs": [],
   "source": [
    "def getCoreData(data):\n",
    "    for cores_list in data['cores']:\n",
    "        for core in cores_list:\n",
    "            if core['core'] is not None:\n",
    "                response = requests.get(\"https://api.spacexdata.com/v4/cores/\"+str(core['core'])).json()\n",
    "                print(\"Response:\", response)  # Add this line to check the response\n",
    "                Block.append(response['block'])\n",
    "                ReusedCount.append(response['reuse_count'])\n",
    "                Serial.append(response['serial'])\n",
    "            else:\n",
    "                Block.append(None)\n",
    "                ReusedCount.append(None)\n",
    "                Serial.append(None)\n",
    "            Outcome.append(str(core['landing_success'])+' '+str(core['landing_type']))\n",
    "            Flights.append(core['flight'])\n",
    "            GridFins.append(core['gridfins'])\n",
    "            Reused.append(core['reused'])\n",
    "            Legs.append(core['legs'])\n",
    "            LandingPad.append(core['landpad'])\n"
   ]
  },
  {
   "cell_type": "markdown",
   "metadata": {},
   "source": [
    "Now let's start requesting rocket launch data from SpaceX API with the following URL:\n"
   ]
  },
  {
   "cell_type": "code",
   "execution_count": 6,
   "metadata": {},
   "outputs": [],
   "source": [
    "spacex_url=\"https://api.spacexdata.com/v4/launches/past\""
   ]
  },
  {
   "cell_type": "code",
   "execution_count": 7,
   "metadata": {},
   "outputs": [],
   "source": [
    "response = requests.get(spacex_url)"
   ]
  },
  {
   "cell_type": "markdown",
   "metadata": {},
   "source": [
    "Check the content of the response\n"
   ]
  },
  {
   "cell_type": "markdown",
   "metadata": {},
   "source": [
    "You should see the response contains massive information about SpaceX launches. Next, let's try to discover some more relevant information for this project.\n"
   ]
  },
  {
   "cell_type": "markdown",
   "metadata": {},
   "source": [
    "### Task 1: Request and parse the SpaceX launch data using the GET request\n"
   ]
  },
  {
   "cell_type": "markdown",
   "metadata": {},
   "source": [
    "To make the requested JSON results more consistent, we will use the following static response object for this project:\n"
   ]
  },
  {
   "cell_type": "code",
   "execution_count": 9,
   "metadata": {},
   "outputs": [],
   "source": [
    "static_json_url='https://cf-courses-data.s3.us.cloud-object-storage.appdomain.cloud/IBM-DS0321EN-SkillsNetwork/datasets/API_call_spacex_api.json'"
   ]
  },
  {
   "cell_type": "markdown",
   "metadata": {},
   "source": [
    "We should see that the request was successfull with the 200 status response code\n"
   ]
  },
  {
   "cell_type": "code",
   "execution_count": 10,
   "metadata": {},
   "outputs": [
    {
     "data": {
      "text/plain": [
       "200"
      ]
     },
     "execution_count": 10,
     "metadata": {},
     "output_type": "execute_result"
    }
   ],
   "source": [
    "response.status_code"
   ]
  },
  {
   "cell_type": "markdown",
   "metadata": {},
   "source": [
    "Now we decode the response content as a Json using <code>.json()</code> and turn it into a Pandas dataframe using <code>.json_normalize()</code>\n"
   ]
  },
  {
   "cell_type": "code",
   "execution_count": 28,
   "metadata": {},
   "outputs": [
    {
     "name": "stdout",
     "output_type": "stream",
     "text": [
      "       static_fire_date_utc  static_fire_date_unix    tbd    net  window  \\\n",
      "0  2006-03-17T00:00:00.000Z           1.142554e+09  False  False     0.0   \n",
      "1                      None                    NaN  False  False     0.0   \n",
      "2                      None                    NaN  False  False     0.0   \n",
      "3  2008-09-20T00:00:00.000Z           1.221869e+09  False  False     0.0   \n",
      "4                      None                    NaN  False  False     0.0   \n",
      "\n",
      "                     rocket  success  \\\n",
      "0  5e9d0d95eda69955f709d1eb    False   \n",
      "1  5e9d0d95eda69955f709d1eb    False   \n",
      "2  5e9d0d95eda69955f709d1eb    False   \n",
      "3  5e9d0d95eda69955f709d1eb     True   \n",
      "4  5e9d0d95eda69955f709d1eb     True   \n",
      "\n",
      "                                                                                                                                                                                details  \\\n",
      "0                                                                                                                                      Engine failure at 33 seconds and loss of vehicle   \n",
      "1  Successful first stage burn and transition to second stage, maximum altitude 289 km, Premature engine shutdown at T+7 min 30 s, Failed to reach orbit, Failed to recover first stage   \n",
      "2                                                                                                                  Residual stage 1 thrust led to collision between stage 1 and stage 2   \n",
      "3                        Ratsat was carried to orbit on the first successful orbital launch of any privately funded and developed, liquid-propelled carrier rocket, the SpaceX Falcon 1   \n",
      "4                                                                                                                                                                                  None   \n",
      "\n",
      "  crew ships capsules                                              payloads  \\\n",
      "0   []    []       []                            [5eb0e4b5b6c3bb0006eeb1e1]   \n",
      "1   []    []       []                            [5eb0e4b6b6c3bb0006eeb1e2]   \n",
      "2   []    []       []  [5eb0e4b6b6c3bb0006eeb1e3, 5eb0e4b6b6c3bb0006eeb1e4]   \n",
      "3   []    []       []                            [5eb0e4b7b6c3bb0006eeb1e5]   \n",
      "4   []    []       []                            [5eb0e4b7b6c3bb0006eeb1e6]   \n",
      "\n",
      "                  launchpad  auto_update  \\\n",
      "0  5e9e4502f5090995de566f86         True   \n",
      "1  5e9e4502f5090995de566f86         True   \n",
      "2  5e9e4502f5090995de566f86         True   \n",
      "3  5e9e4502f5090995de566f86         True   \n",
      "4  5e9e4502f5090995de566f86         True   \n",
      "\n",
      "                                                                                                            failures  \\\n",
      "0                                                [{'time': 33, 'altitude': None, 'reason': 'merlin engine failure'}]   \n",
      "1            [{'time': 301, 'altitude': 289, 'reason': 'harmonic oscillation leading to premature engine shutdown'}]   \n",
      "2  [{'time': 140, 'altitude': 35, 'reason': 'residual stage-1 thrust led to collision between stage 1 and stage 2'}]   \n",
      "3                                                                                                                 []   \n",
      "4                                                                                                                 []   \n",
      "\n",
      "   flight_number         name                  date_utc   date_unix  \\\n",
      "0              1    FalconSat  2006-03-24T22:30:00.000Z  1143239400   \n",
      "1              2      DemoSat  2007-03-21T01:10:00.000Z  1174439400   \n",
      "2              3  Trailblazer  2008-08-03T03:34:00.000Z  1217734440   \n",
      "3              4       RatSat  2008-09-28T23:15:00.000Z  1222643700   \n",
      "4              5     RazakSat  2009-07-13T03:35:00.000Z  1247456100   \n",
      "\n",
      "                  date_local date_precision  upcoming  \\\n",
      "0  2006-03-25T10:30:00+12:00           hour     False   \n",
      "1  2007-03-21T13:10:00+12:00           hour     False   \n",
      "2  2008-08-03T15:34:00+12:00           hour     False   \n",
      "3  2008-09-28T11:15:00+12:00           hour     False   \n",
      "4  2009-07-13T15:35:00+12:00           hour     False   \n",
      "\n",
      "                                                                                                                                                                                              cores  \\\n",
      "0  [{'core': '5e9e289df35918033d3b2623', 'flight': 1, 'gridfins': False, 'legs': False, 'reused': False, 'landing_attempt': False, 'landing_success': None, 'landing_type': None, 'landpad': None}]   \n",
      "1  [{'core': '5e9e289ef35918416a3b2624', 'flight': 1, 'gridfins': False, 'legs': False, 'reused': False, 'landing_attempt': False, 'landing_success': None, 'landing_type': None, 'landpad': None}]   \n",
      "2  [{'core': '5e9e289ef3591814873b2625', 'flight': 1, 'gridfins': False, 'legs': False, 'reused': False, 'landing_attempt': False, 'landing_success': None, 'landing_type': None, 'landpad': None}]   \n",
      "3  [{'core': '5e9e289ef3591855dc3b2626', 'flight': 1, 'gridfins': False, 'legs': False, 'reused': False, 'landing_attempt': False, 'landing_success': None, 'landing_type': None, 'landpad': None}]   \n",
      "4  [{'core': '5e9e289ef359184f103b2627', 'flight': 1, 'gridfins': False, 'legs': False, 'reused': False, 'landing_attempt': False, 'landing_success': None, 'landing_type': None, 'landpad': None}]   \n",
      "\n",
      "                         id fairings.reused fairings.recovery_attempt  \\\n",
      "0  5eb87cd9ffd86e000604b32a           False                     False   \n",
      "1  5eb87cdaffd86e000604b32b           False                     False   \n",
      "2  5eb87cdbffd86e000604b32c           False                     False   \n",
      "3  5eb87cdbffd86e000604b32d           False                     False   \n",
      "4  5eb87cdcffd86e000604b32e           False                     False   \n",
      "\n",
      "  fairings.recovered fairings.ships  \\\n",
      "0              False             []   \n",
      "1              False             []   \n",
      "2              False             []   \n",
      "3              False             []   \n",
      "4              False             []   \n",
      "\n",
      "                                 links.patch.small  \\\n",
      "0  https://images2.imgbox.com/3c/0e/T8iJcSN3_o.png   \n",
      "1  https://images2.imgbox.com/4f/e3/I0lkuJ2e_o.png   \n",
      "2  https://images2.imgbox.com/3d/86/cnu0pan8_o.png   \n",
      "3  https://images2.imgbox.com/e9/c9/T8CfiSYb_o.png   \n",
      "4  https://images2.imgbox.com/a7/ba/NBZSw3Ho_o.png   \n",
      "\n",
      "                                 links.patch.large links.reddit.campaign  \\\n",
      "0  https://images2.imgbox.com/40/e3/GypSkayF_o.png                  None   \n",
      "1  https://images2.imgbox.com/be/e7/iNqsqVYM_o.png                  None   \n",
      "2  https://images2.imgbox.com/4b/bd/d8UxLh4q_o.png                  None   \n",
      "3  https://images2.imgbox.com/e0/a7/FNjvKlXW_o.png                  None   \n",
      "4  https://images2.imgbox.com/8d/fc/0qdZMWWx_o.png                  None   \n",
      "\n",
      "  links.reddit.launch links.reddit.media links.reddit.recovery  \\\n",
      "0                None               None                  None   \n",
      "1                None               None                  None   \n",
      "2                None               None                  None   \n",
      "3                None               None                  None   \n",
      "4                None               None                  None   \n",
      "\n",
      "  links.flickr.small links.flickr.original  \\\n",
      "0                 []                    []   \n",
      "1                 []                    []   \n",
      "2                 []                    []   \n",
      "3                 []                    []   \n",
      "4                 []                    []   \n",
      "\n",
      "                                                                                           links.presskit  \\\n",
      "0                                                                                                    None   \n",
      "1                                                                                                    None   \n",
      "2                                                                                                    None   \n",
      "3                                                                                                    None   \n",
      "4  http://www.spacex.com/press/2012/12/19/spacexs-falcon-1-successfully-delivers-razaksat-satellite-orbit   \n",
      "\n",
      "                                 links.webcast links.youtube_id  \\\n",
      "0  https://www.youtube.com/watch?v=0a_00nJ_Y88      0a_00nJ_Y88   \n",
      "1  https://www.youtube.com/watch?v=Lk4zQ2wP-Nc      Lk4zQ2wP-Nc   \n",
      "2  https://www.youtube.com/watch?v=v0w9p3U8860      v0w9p3U8860   \n",
      "3  https://www.youtube.com/watch?v=dLQ2tZEH6G0      dLQ2tZEH6G0   \n",
      "4  https://www.youtube.com/watch?v=yTaIDooc8Og      yTaIDooc8Og   \n",
      "\n",
      "                                                                  links.article  \\\n",
      "0  https://www.space.com/2196-spacex-inaugural-falcon-1-rocket-lost-launch.html   \n",
      "1      https://www.space.com/3590-spacex-falcon-1-rocket-fails-reach-orbit.html   \n",
      "2       http://www.spacex.com/news/2013/02/11/falcon-1-flight-3-mission-summary   \n",
      "3                                          https://en.wikipedia.org/wiki/Ratsat   \n",
      "4                       http://www.spacex.com/news/2013/02/12/falcon-1-flight-5   \n",
      "\n",
      "                                         links.wikipedia  fairings  \n",
      "0                  https://en.wikipedia.org/wiki/DemoSat       NaN  \n",
      "1                  https://en.wikipedia.org/wiki/DemoSat       NaN  \n",
      "2  https://en.wikipedia.org/wiki/Trailblazer_(satellite)       NaN  \n",
      "3                   https://en.wikipedia.org/wiki/Ratsat       NaN  \n",
      "4                 https://en.wikipedia.org/wiki/RazakSAT       NaN  \n"
     ]
    }
   ],
   "source": [
    "# Use json_normalize meethod to convert the json result into a dataframe\n",
    "\n",
    "# Make a GET request\n",
    "response = requests.get(static_json_url)\n",
    "\n",
    "# Check if the request was successful (status code 200)\n",
    "if response.status_code == 200:\n",
    "    # Decode the response content as JSON\n",
    "    api_data = response.json()\n",
    "\n",
    "    # Use json_normalize to convert the JSON data into a DataFrame\n",
    "    launch_data = pd.json_normalize(api_data)\n",
    "\n",
    "    # Display the first 5 rows of the DataFrame\n",
    "    print(launch_data.head())\n",
    "else:\n",
    "    print(f\"Request failed with status code: {response.status_code}\")\n"
   ]
  },
  {
   "cell_type": "markdown",
   "metadata": {},
   "source": [
    "Using the dataframe <code>data</code> print the first 5 rows\n"
   ]
  },
  {
   "cell_type": "code",
   "execution_count": 12,
   "metadata": {},
   "outputs": [],
   "source": [
    "# Get the head of the dataframe\n"
   ]
  },
  {
   "cell_type": "markdown",
   "metadata": {},
   "source": [
    "You will notice that a lot of the data are IDs. For example the rocket column has no information about the rocket just an identification number.\n",
    "\n",
    "We will now use the API again to get information about the launches using the IDs given for each launch. Specifically we will be using columns <code>rocket</code>, <code>payloads</code>, <code>launchpad</code>, and <code>cores</code>.\n"
   ]
  },
  {
   "cell_type": "code",
   "execution_count": 30,
   "metadata": {},
   "outputs": [],
   "source": [
    "# Let's take a subset of our dataframe keeping only the features we want and the flight number, and date_utc.\n",
    "launch_data_subset = launch_data[['rocket', 'payloads', 'launchpad', 'cores', 'flight_number', 'date_utc']]\n",
    "\n",
    "# We will remove rows with multiple cores because those are Falcon rockets with 2 extra rocket boosters and rows that have multiple payloads in a single rocket.\n",
    "launch_data_subset = launch_data_subset[launch_data_subset['cores'].apply(len) == 1]\n",
    "launch_data_subset = launch_data_subset[launch_data_subset['payloads'].apply(len) == 1]\n",
    "\n",
    "# Since payloads and cores are lists of size 1, we will also extract the single value in the list and replace the feature.\n",
    "launch_data_subset['cores'] = launch_data_subset['cores'].map(lambda x: x[0])\n",
    "launch_data_subset['payloads'] = launch_data_subset['payloads'].map(lambda x: x[0])\n",
    "\n",
    "# We also want to convert the date_utc to a datetime datatype and then extract the date leaving the time\n",
    "launch_data_subset['date'] = pd.to_datetime(launch_data_subset['date_utc']).dt.date\n",
    "\n",
    "# Using the date we will restrict the dates of the launches\n",
    "launch_data_subset = launch_data_subset[launch_data_subset['date'] <= datetime.date(2020, 11, 13)]"
   ]
  },
  {
   "cell_type": "markdown",
   "metadata": {},
   "source": [
    "* From the <code>rocket</code> we would like to learn the booster name\n",
    "\n",
    "* From the <code>payload</code> we would like to learn the mass of the payload and the orbit that it is going to\n",
    "\n",
    "* From the <code>launchpad</code> we would like to know the name of the launch site being used, the longitude, and the latitude.\n",
    "\n",
    "* From <code>cores</code> we would like to learn the outcome of the landing, the type of the landing, number of flights with that core, whether gridfins were used, whether the core is reused, whether legs were used, the landing pad used, the block of the core which is a number used to seperate version of cores, the number of times this specific core has been reused, and the serial of the core.\n",
    "\n",
    "The data from these requests will be stored in lists and will be used to create a new dataframe.\n"
   ]
  },
  {
   "cell_type": "code",
   "execution_count": 31,
   "metadata": {},
   "outputs": [],
   "source": [
    "#Global variables \n",
    "BoosterVersion = []\n",
    "PayloadMass = []\n",
    "Orbit = []\n",
    "LaunchSite = []\n",
    "Outcome = []\n",
    "Flights = []\n",
    "GridFins = []\n",
    "Reused = []\n",
    "Legs = []\n",
    "LandingPad = []\n",
    "Block = []\n",
    "ReusedCount = []\n",
    "Serial = []\n",
    "Longitude = []\n",
    "Latitude = []"
   ]
  },
  {
   "cell_type": "markdown",
   "metadata": {},
   "source": [
    "These functions will apply the outputs globally to the above variables. Let's take a looks at <code>BoosterVersion</code> variable. Before we apply  <code>getBoosterVersion</code> the list is empty:\n"
   ]
  },
  {
   "cell_type": "code",
   "execution_count": 32,
   "metadata": {},
   "outputs": [
    {
     "data": {
      "text/plain": [
       "[]"
      ]
     },
     "execution_count": 32,
     "metadata": {},
     "output_type": "execute_result"
    }
   ],
   "source": [
    "BoosterVersion"
   ]
  },
  {
   "cell_type": "markdown",
   "metadata": {},
   "source": [
    "Now, let's apply <code> getBoosterVersion</code> function method to get the booster version\n"
   ]
  },
  {
   "cell_type": "code",
   "execution_count": 35,
   "metadata": {},
   "outputs": [],
   "source": [
    "# Call getBoosterVersion\n",
    "getBoosterVersion(launch_data)"
   ]
  },
  {
   "cell_type": "markdown",
   "metadata": {},
   "source": [
    "the list has now been update \n"
   ]
  },
  {
   "cell_type": "code",
   "execution_count": 36,
   "metadata": {},
   "outputs": [
    {
     "data": {
      "text/plain": [
       "['Falcon 1', 'Falcon 1', 'Falcon 1', 'Falcon 1', 'Falcon 1']"
      ]
     },
     "execution_count": 36,
     "metadata": {},
     "output_type": "execute_result"
    }
   ],
   "source": [
    "BoosterVersion[0:5]"
   ]
  },
  {
   "cell_type": "markdown",
   "metadata": {},
   "source": [
    "we can apply the rest of the  functions here:\n"
   ]
  },
  {
   "cell_type": "code",
   "execution_count": 43,
   "metadata": {},
   "outputs": [],
   "source": [
    "# Call getLaunchSite\n",
    "getLaunchSite(launch_data)"
   ]
  },
  {
   "cell_type": "code",
   "execution_count": 47,
   "metadata": {},
   "outputs": [
    {
     "name": "stdout",
     "output_type": "stream",
     "text": [
      "Response: {'dragon': {'capsule': None, 'mass_returned_kg': None, 'mass_returned_lbs': None, 'flight_time_sec': None, 'manifest': None, 'water_landing': None, 'land_landing': None}, 'name': 'FalconSAT-2', 'type': 'Satellite', 'reused': False, 'launch': '5eb87cd9ffd86e000604b32a', 'customers': ['DARPA'], 'norad_ids': [], 'nationalities': ['United States'], 'manufacturers': ['SSTL'], 'mass_kg': 20, 'mass_lbs': 43, 'orbit': 'LEO', 'reference_system': 'geocentric', 'regime': 'low-earth', 'longitude': None, 'semi_major_axis_km': None, 'eccentricity': None, 'periapsis_km': 400, 'apoapsis_km': 500, 'inclination_deg': 39, 'period_min': None, 'lifespan_years': None, 'epoch': None, 'mean_motion': None, 'raan': None, 'arg_of_pericenter': None, 'mean_anomaly': None, 'id': '5eb0e4b5b6c3bb0006eeb1e1'}\n",
      "Response: {'dragon': {'capsule': None, 'mass_returned_kg': None, 'mass_returned_lbs': None, 'flight_time_sec': None, 'manifest': None, 'water_landing': None, 'land_landing': None}, 'name': 'DemoSAT', 'type': 'Satellite', 'reused': False, 'launch': '5eb87cdaffd86e000604b32b', 'customers': ['DARPA'], 'norad_ids': [], 'nationalities': ['United States'], 'manufacturers': ['SpaceX'], 'mass_kg': None, 'mass_lbs': None, 'orbit': 'LEO', 'reference_system': 'geocentric', 'regime': 'low-earth', 'longitude': None, 'semi_major_axis_km': None, 'eccentricity': None, 'periapsis_km': None, 'apoapsis_km': None, 'inclination_deg': None, 'period_min': None, 'lifespan_years': None, 'epoch': None, 'mean_motion': None, 'raan': None, 'arg_of_pericenter': None, 'mean_anomaly': None, 'id': '5eb0e4b6b6c3bb0006eeb1e2'}\n",
      "Response: {'dragon': {'capsule': None, 'mass_returned_kg': None, 'mass_returned_lbs': None, 'flight_time_sec': None, 'manifest': None, 'water_landing': None, 'land_landing': None}, 'name': 'Trailblazer', 'type': 'Satellite', 'reused': False, 'launch': '5eb87cdbffd86e000604b32c', 'customers': ['NASA'], 'norad_ids': [], 'nationalities': ['United States'], 'manufacturers': ['Space Dev'], 'mass_kg': None, 'mass_lbs': None, 'orbit': 'LEO', 'reference_system': 'geocentric', 'regime': 'low-earth', 'longitude': None, 'semi_major_axis_km': None, 'eccentricity': None, 'periapsis_km': None, 'apoapsis_km': None, 'inclination_deg': None, 'period_min': None, 'lifespan_years': None, 'epoch': None, 'mean_motion': None, 'raan': None, 'arg_of_pericenter': None, 'mean_anomaly': None, 'id': '5eb0e4b6b6c3bb0006eeb1e3'}\n",
      "Response: {'dragon': {'capsule': None, 'mass_returned_kg': None, 'mass_returned_lbs': None, 'flight_time_sec': None, 'manifest': None, 'water_landing': None, 'land_landing': None}, 'name': 'PRESat', 'type': 'Satellite', 'reused': False, 'launch': '5eb87cdbffd86e000604b32c', 'customers': ['ORS'], 'norad_ids': [], 'nationalities': ['United States'], 'manufacturers': [], 'mass_kg': None, 'mass_lbs': None, 'orbit': 'LEO', 'reference_system': 'geocentric', 'regime': 'low-earth', 'longitude': None, 'semi_major_axis_km': None, 'eccentricity': None, 'periapsis_km': None, 'apoapsis_km': None, 'inclination_deg': None, 'period_min': None, 'lifespan_years': None, 'epoch': None, 'mean_motion': None, 'raan': None, 'arg_of_pericenter': None, 'mean_anomaly': None, 'id': '5eb0e4b6b6c3bb0006eeb1e4'}\n",
      "Response: {'dragon': {'capsule': None, 'mass_returned_kg': None, 'mass_returned_lbs': None, 'flight_time_sec': None, 'manifest': None, 'water_landing': None, 'land_landing': None}, 'name': 'RatSat', 'type': 'Satellite', 'reused': False, 'launch': '5eb87cdbffd86e000604b32d', 'customers': ['SpaceX'], 'norad_ids': [33393], 'nationalities': ['United States'], 'manufacturers': ['SpaceX'], 'mass_kg': 165, 'mass_lbs': 363, 'orbit': 'LEO', 'reference_system': 'geocentric', 'regime': 'low-earth', 'longitude': None, 'semi_major_axis_km': 6988.564, 'eccentricity': 0.0013012, 'periapsis_km': 601.336, 'apoapsis_km': 619.523, 'inclination_deg': 9.3448, 'period_min': 96.904, 'lifespan_years': None, 'epoch': '2022-11-30T07:27:28.000Z', 'mean_motion': 14.86006859, 'raan': 192.617, 'arg_of_pericenter': 331.2516, 'mean_anomaly': 28.6966, 'id': '5eb0e4b7b6c3bb0006eeb1e5'}\n",
      "Response: {'dragon': {'capsule': None, 'mass_returned_kg': None, 'mass_returned_lbs': None, 'flight_time_sec': None, 'manifest': None, 'water_landing': None, 'land_landing': None}, 'name': 'RazakSAT', 'type': 'Satellite', 'reused': False, 'launch': '5eb87cdcffd86e000604b32e', 'customers': ['ATSB'], 'norad_ids': [35578], 'nationalities': ['Malaysia'], 'manufacturers': ['Satrec'], 'mass_kg': 200, 'mass_lbs': 440, 'orbit': 'LEO', 'reference_system': 'geocentric', 'regime': 'low-earth', 'longitude': None, 'semi_major_axis_km': 7047.782, 'eccentricity': 0.0016973, 'periapsis_km': 657.685, 'apoapsis_km': 681.609, 'inclination_deg': 8.9865, 'period_min': 98.138, 'lifespan_years': None, 'epoch': '2022-11-30T09:34:29.000Z', 'mean_motion': 14.67317419, 'raan': 230.5004, 'arg_of_pericenter': 297.8648, 'mean_anomaly': 61.9823, 'id': '5eb0e4b7b6c3bb0006eeb1e6'}\n",
      "Response: {'dragon': {'capsule': None, 'mass_returned_kg': None, 'mass_returned_lbs': None, 'flight_time_sec': None, 'manifest': None, 'water_landing': None, 'land_landing': None}, 'name': 'Dragon Qualification Unit', 'type': 'Dragon Boilerplate', 'reused': False, 'launch': '5eb87cddffd86e000604b32f', 'customers': ['SpaceX'], 'norad_ids': [36595], 'nationalities': ['United States'], 'manufacturers': ['SpaceX'], 'mass_kg': None, 'mass_lbs': None, 'orbit': 'LEO', 'reference_system': 'geocentric', 'regime': 'low-earth', 'longitude': None, 'semi_major_axis_km': 6634.458, 'eccentricity': 0.0030715, 'periapsis_km': 235.945, 'apoapsis_km': 276.701, 'inclination_deg': 34.5005, 'period_min': 89.632, 'lifespan_years': None, 'epoch': '2010-06-04T20:04:51.000Z', 'mean_motion': 16.06552645, 'raan': 41.2862, 'arg_of_pericenter': 213.759, 'mean_anomaly': 146.1185, 'id': '5eb0e4b7b6c3bb0006eeb1e7'}\n",
      "Response: {'dragon': {'capsule': '5e9e2c5bf35918ed873b2664', 'mass_returned_kg': None, 'mass_returned_lbs': None, 'flight_time_sec': 11940, 'manifest': None, 'water_landing': True, 'land_landing': False}, 'name': 'COTS Demo Flight 1', 'type': 'Dragon 1.0', 'reused': False, 'launch': '5eb87cdeffd86e000604b330', 'customers': ['NASA(COTS)'], 'norad_ids': [37244], 'nationalities': ['United States'], 'manufacturers': ['SpaceX'], 'mass_kg': None, 'mass_lbs': None, 'orbit': 'LEO', 'reference_system': 'geocentric', 'regime': 'low-earth', 'longitude': None, 'semi_major_axis_km': 6672.063, 'eccentricity': 0.0021812, 'periapsis_km': 279.375, 'apoapsis_km': 308.481, 'inclination_deg': 34.5447, 'period_min': 90.396, 'lifespan_years': None, 'epoch': '2010-12-08T15:34:03.000Z', 'mean_motion': 15.9298967, 'raan': 180.7668, 'arg_of_pericenter': 225.2707, 'mean_anomaly': 136.6556, 'id': '5eb0e4b9b6c3bb0006eeb1e8'}\n",
      "Response: {'dragon': {'capsule': None, 'mass_returned_kg': None, 'mass_returned_lbs': None, 'flight_time_sec': None, 'manifest': None, 'water_landing': None, 'land_landing': None}, 'name': 'Cubesats', 'type': 'Satellite', 'reused': False, 'launch': '5eb87cdeffd86e000604b330', 'customers': ['NRO'], 'norad_ids': [], 'nationalities': [], 'manufacturers': [], 'mass_kg': None, 'mass_lbs': None, 'orbit': 'LEO', 'reference_system': 'geocentric', 'regime': 'low-earth', 'longitude': None, 'semi_major_axis_km': None, 'eccentricity': None, 'periapsis_km': None, 'apoapsis_km': None, 'inclination_deg': None, 'period_min': None, 'lifespan_years': None, 'epoch': None, 'mean_motion': None, 'raan': None, 'arg_of_pericenter': None, 'mean_anomaly': None, 'id': '5eb0e4b9b6c3bb0006eeb1e9'}\n",
      "Response: {'dragon': {'capsule': '5e9e2c5bf3591882af3b2665', 'mass_returned_kg': None, 'mass_returned_lbs': None, 'flight_time_sec': 806400, 'manifest': None, 'water_landing': True, 'land_landing': False}, 'name': 'COTS Demo Flight 2', 'type': 'Dragon 1.0', 'reused': False, 'launch': '5eb87cdfffd86e000604b331', 'customers': ['NASA(COTS)'], 'norad_ids': [38348], 'nationalities': ['United States'], 'manufacturers': ['SpaceX'], 'mass_kg': 525, 'mass_lbs': 1157, 'orbit': 'LEO', 'reference_system': 'geocentric', 'regime': 'low-earth', 'longitude': None, 'semi_major_axis_km': 6711.684, 'eccentricity': 0.0057963, 'periapsis_km': 294.646, 'apoapsis_km': 372.452, 'inclination_deg': 51.6726, 'period_min': 91.202, 'lifespan_years': None, 'epoch': '2012-05-22T09:12:31.000Z', 'mean_motion': 15.78904505, 'raan': 251.5418, 'arg_of_pericenter': 331.7079, 'mean_anomaly': 31.2745, 'id': '5eb0e4bab6c3bb0006eeb1ea'}\n",
      "Response: {'dragon': {'capsule': '5e9e2c5bf3591835983b2666', 'mass_returned_kg': 905, 'mass_returned_lbs': 1995, 'flight_time_sec': 1728000, 'manifest': 'https://en.wikipedia.org/wiki/SpaceX_CRS-1#Payload', 'water_landing': True, 'land_landing': False}, 'name': 'CRS-1', 'type': 'Dragon 1.0', 'reused': False, 'launch': '5eb87ce0ffd86e000604b332', 'customers': ['NASA (CRS)'], 'norad_ids': [38846], 'nationalities': ['United States'], 'manufacturers': ['SpaceX'], 'mass_kg': 400, 'mass_lbs': 881, 'orbit': 'ISS', 'reference_system': 'geocentric', 'regime': 'low-earth', 'longitude': None, 'semi_major_axis_km': 6643.164, 'eccentricity': 0.0092222, 'periapsis_km': 203.764, 'apoapsis_km': 326.293, 'inclination_deg': 51.6539, 'period_min': 89.809, 'lifespan_years': None, 'epoch': '2012-10-08T00:31:33.000Z', 'mean_motion': 16.03395683, 'raan': 281.4248, 'arg_of_pericenter': 54.4728, 'mean_anomaly': 306.4841, 'id': '5eb0e4bab6c3bb0006eeb1eb'}\n",
      "Response: {'dragon': {'capsule': None, 'mass_returned_kg': None, 'mass_returned_lbs': None, 'flight_time_sec': None, 'manifest': None, 'water_landing': None, 'land_landing': None}, 'name': 'Orbcomm-OG2', 'type': 'Dragon 1.0', 'reused': False, 'launch': '5eb87ce0ffd86e000604b332', 'customers': ['Orbcomm'], 'norad_ids': [], 'nationalities': [], 'manufacturers': [], 'mass_kg': 400, 'mass_lbs': 881, 'orbit': 'LEO', 'reference_system': 'geocentric', 'regime': 'low-earth', 'longitude': None, 'semi_major_axis_km': None, 'eccentricity': None, 'periapsis_km': None, 'apoapsis_km': None, 'inclination_deg': 45, 'period_min': None, 'lifespan_years': 5, 'epoch': None, 'mean_motion': None, 'raan': None, 'arg_of_pericenter': None, 'mean_anomaly': None, 'id': '5eb0e4bab6c3bb0006eeb1ec'}\n",
      "Response: {'dragon': {'capsule': '5e9e2c5bf359189ef23b2667', 'mass_returned_kg': 1370, 'mass_returned_lbs': 3020, 'flight_time_sec': 2160000, 'manifest': 'https://en.wikipedia.org/wiki/SpaceX_CRS-2#Payload', 'water_landing': True, 'land_landing': False}, 'name': 'CRS-2', 'type': 'Dragon 1.0', 'reused': False, 'launch': '5eb87ce1ffd86e000604b333', 'customers': ['NASA (CRS)'], 'norad_ids': [39115], 'nationalities': ['United States'], 'manufacturers': ['SpaceX'], 'mass_kg': 677, 'mass_lbs': 1492, 'orbit': 'ISS', 'reference_system': 'geocentric', 'regime': 'low-earth', 'longitude': None, 'semi_major_axis_km': 6640.79, 'eccentricity': 0.0089419, 'periapsis_km': 203.274, 'apoapsis_km': 322.036, 'inclination_deg': 51.6797, 'period_min': 89.761, 'lifespan_years': None, 'epoch': '2013-03-01T20:19:32.000Z', 'mean_motion': 16.04255447, 'raan': 281.5076, 'arg_of_pericenter': 50.5296, 'mean_anomaly': 127.2881, 'id': '5eb0e4bbb6c3bb0006eeb1ed'}\n",
      "Response: {'dragon': {'capsule': None, 'mass_returned_kg': None, 'mass_returned_lbs': None, 'flight_time_sec': None, 'manifest': None, 'water_landing': None, 'land_landing': None}, 'name': 'CASSIOPE', 'type': 'Satellite', 'reused': False, 'launch': '5eb87ce1ffd86e000604b334', 'customers': ['MDA'], 'norad_ids': [39265], 'nationalities': ['Canada'], 'manufacturers': ['MDA'], 'mass_kg': 500, 'mass_lbs': 1100, 'orbit': 'PO', 'reference_system': 'geocentric', 'regime': 'low-earth', 'longitude': None, 'semi_major_axis_km': 7127.09, 'eccentricity': 0.0605753, 'periapsis_km': 317.23, 'apoapsis_km': 1180.681, 'inclination_deg': 80.9625, 'period_min': 99.799, 'lifespan_years': 2, 'epoch': '2022-11-30T12:48:53.000Z', 'mean_motion': 14.42893773, 'raan': 90.7498, 'arg_of_pericenter': 184.5986, 'mean_anomaly': 174.9493, 'id': '5eb0e4bbb6c3bb0006eeb1ee'}\n",
      "Response: {'dragon': {'capsule': None, 'mass_returned_kg': None, 'mass_returned_lbs': None, 'flight_time_sec': None, 'manifest': None, 'water_landing': None, 'land_landing': None}, 'name': 'SES-8', 'type': 'Satellite', 'reused': False, 'launch': '5eb87ce2ffd86e000604b335', 'customers': ['SES'], 'norad_ids': [39460], 'nationalities': ['Luxembourg'], 'manufacturers': ['Orbital ATK'], 'mass_kg': 3170, 'mass_lbs': 6990, 'orbit': 'GTO', 'reference_system': 'geocentric', 'regime': 'geostationary', 'longitude': 95, 'semi_major_axis_km': 42164.65, 'eccentricity': 7.12e-05, 'periapsis_km': 35783.513, 'apoapsis_km': 35789.517, 'inclination_deg': 0.0228, 'period_min': 1436.093, 'lifespan_years': 15, 'epoch': '2022-11-30T11:14:45.000Z', 'mean_motion': 1.00272077, 'raan': 266.5372, 'arg_of_pericenter': 298.5075, 'mean_anomaly': 127.9723, 'id': '5eb0e4bbb6c3bb0006eeb1ef'}\n",
      "Response: {'dragon': {'capsule': None, 'mass_returned_kg': None, 'mass_returned_lbs': None, 'flight_time_sec': None, 'manifest': None, 'water_landing': None, 'land_landing': None}, 'name': 'Thaicom 6', 'type': 'Satellite', 'reused': False, 'launch': '5eb87ce3ffd86e000604b336', 'customers': ['Thaicom'], 'norad_ids': [39500], 'nationalities': ['Thailand'], 'manufacturers': ['Orbital ATK'], 'mass_kg': 3325, 'mass_lbs': 7330, 'orbit': 'GTO', 'reference_system': 'geocentric', 'regime': 'geostationary', 'longitude': 78.5, 'semi_major_axis_km': 42165.407, 'eccentricity': 0.0002977, 'periapsis_km': 35774.719, 'apoapsis_km': 35799.824, 'inclination_deg': 0.0641, 'period_min': 1436.131, 'lifespan_years': 15, 'epoch': '2022-11-30T11:09:59.000Z', 'mean_motion': 1.00269378, 'raan': 115.8521, 'arg_of_pericenter': 114.5434, 'mean_anomaly': 84.8946, 'id': '5eb0e4bbb6c3bb0006eeb1f0'}\n",
      "Response: {'dragon': {'capsule': '5e9e2c5bf3591859a63b2668', 'mass_returned_kg': 1600, 'mass_returned_lbs': 3500, 'flight_time_sec': 2592000, 'manifest': 'https://en.wikipedia.org/wiki/SpaceX_CRS-3#Primary_payload_and_downmass', 'water_landing': True, 'land_landing': False}, 'name': 'CRS-3', 'type': 'Dragon 1.1', 'reused': False, 'launch': '5eb87ce4ffd86e000604b337', 'customers': ['NASA (CRS)'], 'norad_ids': [39680], 'nationalities': ['United States'], 'manufacturers': ['SpaceX'], 'mass_kg': 2296, 'mass_lbs': 5062, 'orbit': 'ISS', 'reference_system': 'geocentric', 'regime': 'low-earth', 'longitude': None, 'semi_major_axis_km': 6700.881, 'eccentricity': 0.0013819, 'periapsis_km': 313.486, 'apoapsis_km': 332.006, 'inclination_deg': 51.6429, 'period_min': 90.982, 'lifespan_years': None, 'epoch': '2014-04-18T19:40:03.000Z', 'mean_motion': 15.82724147, 'raan': 34.0918, 'arg_of_pericenter': 268.425, 'mean_anomaly': 162.2575, 'id': '5eb0e4bbb6c3bb0006eeb1f1'}\n",
      "Response: {'dragon': {'capsule': None, 'mass_returned_kg': None, 'mass_returned_lbs': None, 'flight_time_sec': None, 'manifest': None, 'water_landing': None, 'land_landing': None}, 'name': 'Orbcomm-OG2-M1', 'type': 'Satellite', 'reused': False, 'launch': '5eb87ce4ffd86e000604b338', 'customers': ['Orbcomm'], 'norad_ids': [38847], 'nationalities': ['United States'], 'manufacturers': ['Boeing'], 'mass_kg': 1316, 'mass_lbs': 2901, 'orbit': 'LEO', 'reference_system': 'geocentric', 'regime': 'low-earth', 'longitude': None, 'semi_major_axis_km': 6641.01, 'eccentricity': 0.0090712, 'periapsis_km': 202.633, 'apoapsis_km': 323.117, 'inclination_deg': 51.6528, 'period_min': 89.765, 'lifespan_years': 5, 'epoch': '2012-10-08T03:42:59.000Z', 'mean_motion': 16.04175555, 'raan': 280.7278, 'arg_of_pericenter': 54.0639, 'mean_anomaly': 355.0595, 'id': '5eb0e4bcb6c3bb0006eeb1f2'}\n",
      "Response: {'dragon': {'capsule': None, 'mass_returned_kg': None, 'mass_returned_lbs': None, 'flight_time_sec': None, 'manifest': None, 'water_landing': None, 'land_landing': None}, 'name': 'AsiaSat 8', 'type': 'Satellite', 'reused': False, 'launch': '5eb87ce5ffd86e000604b339', 'customers': ['AsiaSat'], 'norad_ids': [40107], 'nationalities': ['Hong Kong'], 'manufacturers': ['SSL'], 'mass_kg': 4535, 'mass_lbs': 9998, 'orbit': 'GTO', 'reference_system': 'geocentric', 'regime': 'geostationary', 'longitude': 105.5, 'semi_major_axis_km': 42165.071, 'eccentricity': 0.0002099, 'periapsis_km': 35778.085, 'apoapsis_km': 35795.786, 'inclination_deg': 0.013, 'period_min': 1436.114, 'lifespan_years': 15, 'epoch': '2022-11-30T07:19:47.000Z', 'mean_motion': 1.00270577, 'raan': 309.1379, 'arg_of_pericenter': 292.6826, 'mean_anomaly': 293.4039, 'id': '5eb0e4bcb6c3bb0006eeb1f3'}\n",
      "Response: {'dragon': {'capsule': None, 'mass_returned_kg': None, 'mass_returned_lbs': None, 'flight_time_sec': None, 'manifest': None, 'water_landing': None, 'land_landing': None}, 'name': 'AsiaSat 6', 'type': 'Satellite', 'reused': False, 'launch': '5eb87ce6ffd86e000604b33a', 'customers': ['AsiaSat'], 'norad_ids': [40141], 'nationalities': ['Hong Kong'], 'manufacturers': ['SSL'], 'mass_kg': 4428, 'mass_lbs': 9762, 'orbit': 'GTO', 'reference_system': 'geocentric', 'regime': 'geostationary', 'longitude': 120, 'semi_major_axis_km': 42165.635, 'eccentricity': 5.33e-05, 'periapsis_km': 35785.253, 'apoapsis_km': 35789.747, 'inclination_deg': 0.0008, 'period_min': 1436.143, 'lifespan_years': 15, 'epoch': '2022-11-29T23:18:47.000Z', 'mean_motion': 1.00268564, 'raan': 68.8962, 'arg_of_pericenter': 174.7855, 'mean_anomaly': 294.748, 'id': '5eb0e4bcb6c3bb0006eeb1f4'}\n",
      "Response: {'dragon': {'capsule': '5e9e2c5bf3591880643b2669', 'mass_returned_kg': 1486, 'mass_returned_lbs': 3276, 'flight_time_sec': 2987160, 'manifest': 'https://www.nasa.gov/sites/default/files/files/SpaceX_CRS-4_Mission_Overview-1.pdf', 'water_landing': True, 'land_landing': False}, 'name': 'CRS-4', 'type': 'Dragon 1.1', 'reused': False, 'launch': '5eb87ce7ffd86e000604b33b', 'customers': ['NASA (CRS)'], 'norad_ids': [40210], 'nationalities': ['United States'], 'manufacturers': ['SpaceX'], 'mass_kg': 2216, 'mass_lbs': 4885, 'orbit': 'ISS', 'reference_system': 'geocentric', 'regime': 'low-earth', 'longitude': None, 'semi_major_axis_km': 6657.288, 'eccentricity': 0.0113888, 'periapsis_km': 203.334, 'apoapsis_km': 354.971, 'inclination_deg': 51.6518, 'period_min': 90.095, 'lifespan_years': None, 'epoch': '2014-09-21T05:48:51.000Z', 'mean_motion': 15.98295763, 'raan': 344.0345, 'arg_of_pericenter': 46.2662, 'mean_anomaly': 314.7708, 'id': '5eb0e4bcb6c3bb0006eeb1f5'}\n",
      "Response: {'dragon': {'capsule': '5e9e2c5bf35918165f3b266a', 'mass_returned_kg': 1633, 'mass_returned_lbs': 3600, 'flight_time_sec': 2764800, 'manifest': 'https://www.nasa.gov/sites/default/files/files/SpaceX_CRS-5_factsheet.pdf', 'water_landing': True, 'land_landing': False}, 'name': 'CRS-5', 'type': 'Dragon 1.1', 'reused': False, 'launch': '5eb87ce8ffd86e000604b33c', 'customers': ['NASA (CRS)'], 'norad_ids': [40370], 'nationalities': ['United States'], 'manufacturers': ['SpaceX'], 'mass_kg': 2395, 'mass_lbs': 5280, 'orbit': 'ISS', 'reference_system': 'geocentric', 'regime': 'low-earth', 'longitude': None, 'semi_major_axis_km': 6656.902, 'eccentricity': 0.0109236, 'periapsis_km': 206.049, 'apoapsis_km': 351.484, 'inclination_deg': 51.6369, 'period_min': 90.088, 'lifespan_years': None, 'epoch': '2015-01-10T09:44:04.000Z', 'mean_motion': 15.98433248, 'raan': 152.0013, 'arg_of_pericenter': 46.9449, 'mean_anomaly': 314.0689, 'id': '5eb0e4bdb6c3bb0006eeb1f6'}\n",
      "Response: {'dragon': {'capsule': None, 'mass_returned_kg': None, 'mass_returned_lbs': None, 'flight_time_sec': None, 'manifest': None, 'water_landing': None, 'land_landing': None}, 'name': 'DSCOVR', 'type': 'Satellite', 'reused': False, 'launch': '5eb87ceaffd86e000604b33d', 'customers': ['NASA', 'NOAA', 'USAF'], 'norad_ids': [40390], 'nationalities': ['United States'], 'manufacturers': ['Sierra Nevada'], 'mass_kg': 570, 'mass_lbs': 1260, 'orbit': 'ES-L1', 'reference_system': 'heliocentric', 'regime': 'L1-point', 'longitude': None, 'semi_major_axis_km': None, 'eccentricity': None, 'periapsis_km': None, 'apoapsis_km': None, 'inclination_deg': None, 'period_min': None, 'lifespan_years': 5, 'epoch': None, 'mean_motion': None, 'raan': None, 'arg_of_pericenter': None, 'mean_anomaly': None, 'id': '5eb0e4bdb6c3bb0006eeb1f7'}\n",
      "Response: {'dragon': {'capsule': None, 'mass_returned_kg': None, 'mass_returned_lbs': None, 'flight_time_sec': None, 'manifest': None, 'water_landing': None, 'land_landing': None}, 'name': 'ABS-3A', 'type': 'Satellite', 'reused': False, 'launch': '5eb87ceaffd86e000604b33e', 'customers': ['ABS'], 'norad_ids': [40424], 'nationalities': ['Hong Kong'], 'manufacturers': ['Boeing'], 'mass_kg': 1954, 'mass_lbs': 4307, 'orbit': 'GTO', 'reference_system': 'geocentric', 'regime': 'geostationary', 'longitude': -3, 'semi_major_axis_km': 42165.41, 'eccentricity': 0.0002, 'periapsis_km': 35778.842, 'apoapsis_km': 35795.708, 'inclination_deg': 0.0096, 'period_min': 1436.132, 'lifespan_years': 15, 'epoch': '2022-11-30T09:03:20.000Z', 'mean_motion': 1.00269366, 'raan': 347.5612, 'arg_of_pericenter': 149.4972, 'mean_anomaly': 65.0331, 'id': '5eb0e4bdb6c3bb0006eeb1f8'}\n",
      "Response: {'dragon': {'capsule': None, 'mass_returned_kg': None, 'mass_returned_lbs': None, 'flight_time_sec': None, 'manifest': None, 'water_landing': None, 'land_landing': None}, 'name': 'Eutelsat 115 West B', 'type': 'Satellite', 'reused': False, 'launch': '5eb87ceaffd86e000604b33e', 'customers': ['Eutelsat'], 'norad_ids': [40425], 'nationalities': ['France'], 'manufacturers': ['Boeing'], 'mass_kg': 2205, 'mass_lbs': 4861, 'orbit': 'GTO', 'reference_system': 'geocentric', 'regime': 'geostationary', 'longitude': -114.9, 'semi_major_axis_km': 42164.066, 'eccentricity': 2.31e-05, 'periapsis_km': 35784.957, 'apoapsis_km': 35786.905, 'inclination_deg': 0.0057, 'period_min': 1436.063, 'lifespan_years': 15, 'epoch': '2022-11-30T12:56:23.000Z', 'mean_motion': 1.0027416, 'raan': 157.6304, 'arg_of_pericenter': 123.7592, 'mean_anomaly': 227.2143, 'id': '5eb0e4bdb6c3bb0006eeb1f9'}\n",
      "Response: {'dragon': {'capsule': '5e9e2c5cf359188bfb3b266b', 'mass_returned_kg': 1361, 'mass_returned_lbs': 3000, 'flight_time_sec': 3110400, 'manifest': 'https://blogs.nasa.gov/spacex/wp-content/uploads/sites/227/2015/04/SpaceX_CRS-6_Mission_Overview.pdf', 'water_landing': True, 'land_landing': False}, 'name': 'CRS-6', 'type': 'Dragon 1.1', 'reused': False, 'launch': '5eb87cecffd86e000604b33f', 'customers': ['NASA (CRS)'], 'norad_ids': [40588], 'nationalities': ['United States'], 'manufacturers': ['SpaceX'], 'mass_kg': 1898, 'mass_lbs': 4184, 'orbit': 'ISS', 'reference_system': 'geocentric', 'regime': 'low-earth', 'longitude': None, 'semi_major_axis_km': 6661.265, 'eccentricity': 0.0116467, 'periapsis_km': 205.548, 'apoapsis_km': 360.711, 'inclination_deg': 51.6488, 'period_min': 90.176, 'lifespan_years': None, 'epoch': '2015-04-14T20:35:14.000Z', 'mean_motion': 15.96863068, 'raan': 40.8878, 'arg_of_pericenter': 48.0984, 'mean_anomaly': 63.0723, 'id': '5eb0e4bdb6c3bb0006eeb1fa'}\n",
      "Response: {'dragon': {'capsule': None, 'mass_returned_kg': None, 'mass_returned_lbs': None, 'flight_time_sec': None, 'manifest': None, 'water_landing': None, 'land_landing': None}, 'name': 'TürkmenÄlem 52°E / MonacoSAT', 'type': 'Satellite', 'reused': False, 'launch': '5eb87cedffd86e000604b340', 'customers': ['Turkmenistan National Space Agency'], 'norad_ids': [40617], 'nationalities': ['Turkmenistan'], 'manufacturers': ['Thales Alenia Space'], 'mass_kg': 4707, 'mass_lbs': 10377, 'orbit': 'GTO', 'reference_system': 'geocentric', 'regime': 'geostationary', 'longitude': 52, 'semi_major_axis_km': 42164.216, 'eccentricity': 0.000278, 'periapsis_km': 35774.36, 'apoapsis_km': 35797.803, 'inclination_deg': 0.0128, 'period_min': 1436.071, 'lifespan_years': 15, 'epoch': '2022-11-30T11:02:27.000Z', 'mean_motion': 1.00273624, 'raan': 311.2889, 'arg_of_pericenter': 296.2835, 'mean_anomaly': 39.401, 'id': '5eb0e4beb6c3bb0006eeb1fb'}\n",
      "Response: {'dragon': {'capsule': '5e9e2c5cf35918407d3b266c', 'mass_returned_kg': None, 'mass_returned_lbs': None, 'flight_time_sec': 139, 'manifest': 'https://www.nasa.gov/sites/default/files/atoms/files/spacex_crs-7_mission_overview.pdf', 'water_landing': True, 'land_landing': False}, 'name': 'CRS-7', 'type': 'Dragon 1.1', 'reused': False, 'launch': '5eb87ceeffd86e000604b341', 'customers': ['NASA (CRS)'], 'norad_ids': [], 'nationalities': ['United States'], 'manufacturers': ['SpaceX'], 'mass_kg': 2477, 'mass_lbs': 5460.9, 'orbit': 'ISS', 'reference_system': 'geocentric', 'regime': 'low-earth', 'longitude': None, 'semi_major_axis_km': None, 'eccentricity': None, 'periapsis_km': None, 'apoapsis_km': None, 'inclination_deg': 51.6, 'period_min': None, 'lifespan_years': None, 'epoch': None, 'mean_motion': None, 'raan': None, 'arg_of_pericenter': None, 'mean_anomaly': None, 'id': '5eb0e4beb6c3bb0006eeb1fc'}\n",
      "Response: {'dragon': {'capsule': None, 'mass_returned_kg': None, 'mass_returned_lbs': None, 'flight_time_sec': None, 'manifest': None, 'water_landing': None, 'land_landing': None}, 'name': 'Orbcomm-OG2-M2', 'type': 'Satellite', 'reused': False, 'launch': '5eb87cefffd86e000604b342', 'customers': ['Orbcomm'], 'norad_ids': [41187], 'nationalities': ['United States'], 'manufacturers': ['Boeing'], 'mass_kg': 2034, 'mass_lbs': 4484, 'orbit': 'LEO', 'reference_system': 'geocentric', 'regime': 'low-earth', 'longitude': None, 'semi_major_axis_km': 7086.606, 'eccentricity': 0.0001968, 'periapsis_km': 707.076, 'apoapsis_km': 709.866, 'inclination_deg': 47.0034, 'period_min': 98.95, 'lifespan_years': 5, 'epoch': '2022-11-30T06:43:09.000Z', 'mean_motion': 14.55275843, 'raan': 167.138, 'arg_of_pericenter': 1.3541, 'mean_anomaly': 358.7349, 'id': '5eb0e4beb6c3bb0006eeb1fd'}\n",
      "Response: {'dragon': {'capsule': None, 'mass_returned_kg': None, 'mass_returned_lbs': None, 'flight_time_sec': None, 'manifest': None, 'water_landing': None, 'land_landing': None}, 'name': 'Jason-3', 'type': 'Satellite', 'reused': False, 'launch': '5eb87cf0ffd86e000604b343', 'customers': ['NASA', 'NOAA'], 'norad_ids': [41240], 'nationalities': ['United States'], 'manufacturers': ['Thales Alenia Space'], 'mass_kg': 553, 'mass_lbs': 1219, 'orbit': 'PO', 'reference_system': 'geocentric', 'regime': 'low-earth', 'longitude': None, 'semi_major_axis_km': 7715.868, 'eccentricity': 0.0007884, 'periapsis_km': 1331.649, 'apoapsis_km': 1343.816, 'inclination_deg': 66.0415, 'period_min': 112.418, 'lifespan_years': 5, 'epoch': '2022-11-30T13:02:56.000Z', 'mean_motion': 12.80930622, 'raan': 304.0982, 'arg_of_pericenter': 268.0487, 'mean_anomaly': 91.9625, 'id': '5eb0e4beb6c3bb0006eeb1fe'}\n",
      "Response: {'dragon': {'capsule': None, 'mass_returned_kg': None, 'mass_returned_lbs': None, 'flight_time_sec': None, 'manifest': None, 'water_landing': None, 'land_landing': None}, 'name': 'SES-9', 'type': 'Satellite', 'reused': False, 'launch': '5eb87cf2ffd86e000604b344', 'customers': ['SES'], 'norad_ids': [41380], 'nationalities': ['Luxembourg'], 'manufacturers': ['Boeing'], 'mass_kg': 5271, 'mass_lbs': 11621, 'orbit': 'GTO', 'reference_system': 'geocentric', 'regime': 'geostationary', 'longitude': 108.2, 'semi_major_axis_km': 42164.927, 'eccentricity': 6.37e-05, 'periapsis_km': 35784.106, 'apoapsis_km': 35789.478, 'inclination_deg': 0.0149, 'period_min': 1436.107, 'lifespan_years': 15, 'epoch': '2022-11-29T23:15:32.000Z', 'mean_motion': 1.00271089, 'raan': 305.3704, 'arg_of_pericenter': 219.1862, 'mean_anomaly': 1.4633, 'id': '5eb0e4beb6c3bb0006eeb1ff'}\n",
      "Response: {'dragon': {'capsule': '5e9e2c5cf3591885d43b266d', 'mass_returned_kg': 1678, 'mass_returned_lbs': 3700, 'flight_time_sec': 2843280, 'manifest': 'https://www.nasa.gov/sites/default/files/atoms/files/spacex_crs-8_mission_overview.pdf', 'water_landing': True, 'land_landing': False}, 'name': 'CRS-8', 'type': 'Dragon 1.1', 'reused': False, 'launch': '5eb87cf3ffd86e000604b345', 'customers': ['NASA (CRS)'], 'norad_ids': [41452], 'nationalities': ['United States'], 'manufacturers': ['SpaceX'], 'mass_kg': 3136, 'mass_lbs': 6914, 'orbit': 'ISS', 'reference_system': 'geocentric', 'regime': 'low-earth', 'longitude': None, 'semi_major_axis_km': 6659.721, 'eccentricity': 0.0108437, 'periapsis_km': 209.37, 'apoapsis_km': 353.802, 'inclination_deg': 51.6569, 'period_min': 90.145, 'lifespan_years': None, 'epoch': '2016-04-08T21:07:36.000Z', 'mean_motion': 15.9741849, 'raan': 43.9641, 'arg_of_pericenter': 44.2256, 'mean_anomaly': 64.0651, 'id': '5eb0e4bfb6c3bb0006eeb200'}\n",
      "Response: {'dragon': {'capsule': None, 'mass_returned_kg': None, 'mass_returned_lbs': None, 'flight_time_sec': None, 'manifest': None, 'water_landing': None, 'land_landing': None}, 'name': 'JCSAT-2B', 'type': 'Satellite', 'reused': False, 'launch': '5eb87cf5ffd86e000604b346', 'customers': ['SKY Perfect JSAT Group'], 'norad_ids': [41471], 'nationalities': ['Japan'], 'manufacturers': ['SSL'], 'mass_kg': 4696, 'mass_lbs': 10353, 'orbit': 'GTO', 'reference_system': 'geocentric', 'regime': 'geostationary', 'longitude': 154, 'semi_major_axis_km': 42164.193, 'eccentricity': 9.02e-05, 'periapsis_km': 35782.254, 'apoapsis_km': 35789.861, 'inclination_deg': 0.0185, 'period_min': 1436.069, 'lifespan_years': 15, 'epoch': '2022-11-29T21:45:17.000Z', 'mean_motion': 1.00273709, 'raan': 324.6812, 'arg_of_pericenter': 289.4467, 'mean_anomaly': 294.9697, 'id': '5eb0e4bfb6c3bb0006eeb201'}\n",
      "Response: {'dragon': {'capsule': None, 'mass_returned_kg': None, 'mass_returned_lbs': None, 'flight_time_sec': None, 'manifest': None, 'water_landing': None, 'land_landing': None}, 'name': 'Thaicom 8', 'type': 'Satellite', 'reused': False, 'launch': '5eb87cf6ffd86e000604b347', 'customers': ['Thaicom'], 'norad_ids': [41552], 'nationalities': ['Thailand'], 'manufacturers': ['Orbital ATK'], 'mass_kg': 3100, 'mass_lbs': 6800, 'orbit': 'GTO', 'reference_system': 'geocentric', 'regime': 'geostationary', 'longitude': 78.5, 'semi_major_axis_km': 42164.984, 'eccentricity': 0.0002013, 'periapsis_km': 35778.361, 'apoapsis_km': 35795.337, 'inclination_deg': 0.0832, 'period_min': 1436.11, 'lifespan_years': 15, 'epoch': '2022-11-30T11:09:59.000Z', 'mean_motion': 1.00270886, 'raan': 62.4602, 'arg_of_pericenter': 241.0505, 'mean_anomaly': 11.8502, 'id': '5eb0e4bfb6c3bb0006eeb202'}\n",
      "Response: {'dragon': {'capsule': None, 'mass_returned_kg': None, 'mass_returned_lbs': None, 'flight_time_sec': None, 'manifest': None, 'water_landing': None, 'land_landing': None}, 'name': 'ABS-2A', 'type': 'Satellite', 'reused': False, 'launch': '5eb87cf8ffd86e000604b348', 'customers': ['ABS'], 'norad_ids': [41588], 'nationalities': ['Hong Kong'], 'manufacturers': ['Boeing'], 'mass_kg': 1800, 'mass_lbs': 3950, 'orbit': 'GTO', 'reference_system': 'geocentric', 'regime': 'geostationary', 'longitude': 75, 'semi_major_axis_km': 42165.923, 'eccentricity': 0.0001655, 'periapsis_km': 35780.81, 'apoapsis_km': 35794.767, 'inclination_deg': 0.0133, 'period_min': 1436.158, 'lifespan_years': 15, 'epoch': '2022-11-30T11:08:59.000Z', 'mean_motion': 1.00267536, 'raan': 308.4166, 'arg_of_pericenter': 187.8437, 'mean_anomaly': 175.0139, 'id': '5eb0e4bfb6c3bb0006eeb203'}\n",
      "Response: {'dragon': {'capsule': None, 'mass_returned_kg': None, 'mass_returned_lbs': None, 'flight_time_sec': None, 'manifest': None, 'water_landing': None, 'land_landing': None}, 'name': 'Eutelsat 117 West B', 'type': 'Satellite', 'reused': False, 'launch': '5eb87cf8ffd86e000604b348', 'customers': ['Eutelsat'], 'norad_ids': [40425], 'nationalities': ['France'], 'manufacturers': ['Boeing'], 'mass_kg': 1800, 'mass_lbs': 3950, 'orbit': 'GTO', 'reference_system': 'geocentric', 'regime': 'geostationary', 'longitude': -116.8, 'semi_major_axis_km': 42164.066, 'eccentricity': 2.31e-05, 'periapsis_km': 35784.957, 'apoapsis_km': 35786.905, 'inclination_deg': 0.0057, 'period_min': 1436.063, 'lifespan_years': 15, 'epoch': '2022-11-30T12:56:23.000Z', 'mean_motion': 1.0027416, 'raan': 157.6304, 'arg_of_pericenter': 123.7592, 'mean_anomaly': 227.2143, 'id': '5eb0e4bfb6c3bb0006eeb204'}\n",
      "Response: {'dragon': {'capsule': '5e9e2c5cf359183bb73b266e', 'mass_returned_kg': 1550, 'mass_returned_lbs': 3410, 'flight_time_sec': 3409380, 'manifest': 'https://www.nasa.gov/sites/default/files/atoms/files/spacex_crs-9_mission_overview2.pdf', 'water_landing': True, 'land_landing': False}, 'name': 'CRS-9', 'type': 'Dragon 1.1', 'reused': False, 'launch': '5eb87cf9ffd86e000604b349', 'customers': ['NASA (CRS)'], 'norad_ids': [41672], 'nationalities': ['United States'], 'manufacturers': ['SpaceX'], 'mass_kg': 2257, 'mass_lbs': 4976, 'orbit': 'ISS', 'reference_system': 'geocentric', 'regime': 'low-earth', 'longitude': None, 'semi_major_axis_km': 6657.994, 'eccentricity': 0.0113615, 'periapsis_km': 204.214, 'apoapsis_km': 355.504, 'inclination_deg': 51.6593, 'period_min': 90.11, 'lifespan_years': None, 'epoch': '2016-07-18T05:09:49.000Z', 'mean_motion': 15.98039801, 'raan': 263.3429, 'arg_of_pericenter': 43.7868, 'mean_anomaly': 66.5408, 'id': '5eb0e4c0b6c3bb0006eeb205'}\n",
      "Response: {'dragon': {'capsule': None, 'mass_returned_kg': None, 'mass_returned_lbs': None, 'flight_time_sec': None, 'manifest': None, 'water_landing': None, 'land_landing': None}, 'name': 'JCSAT-16', 'type': 'Satellite', 'reused': False, 'launch': '5eb87cfaffd86e000604b34a', 'customers': ['SKY Perfect JCSAT Group'], 'norad_ids': [41729], 'nationalities': ['Japan'], 'manufacturers': ['SSL'], 'mass_kg': 4600, 'mass_lbs': 10100, 'orbit': 'GTO', 'reference_system': 'geocentric', 'regime': 'geostationary', 'longitude': 162, 'semi_major_axis_km': 42165.375, 'eccentricity': 0.0003834, 'periapsis_km': 35771.073, 'apoapsis_km': 35803.406, 'inclination_deg': 0.0761, 'period_min': 1436.13, 'lifespan_years': 15, 'epoch': '2022-11-30T09:30:57.000Z', 'mean_motion': 1.00269493, 'raan': 92.7725, 'arg_of_pericenter': 171.2922, 'mean_anomaly': 40.9434, 'id': '5eb0e4c1b6c3bb0006eeb206'}\n",
      "Response: {'dragon': {'capsule': None, 'mass_returned_kg': None, 'mass_returned_lbs': None, 'flight_time_sec': None, 'manifest': None, 'water_landing': None, 'land_landing': None}, 'name': 'Amos-6', 'type': 'Satellite', 'reused': False, 'launch': '5eb87cfbffd86e000604b34b', 'customers': ['Spacecom'], 'norad_ids': [], 'nationalities': ['Israel'], 'manufacturers': ['Israel Aerospace Industries'], 'mass_kg': 5500, 'mass_lbs': 12100, 'orbit': 'GTO', 'reference_system': 'geocentric', 'regime': 'geostationary', 'longitude': -4, 'semi_major_axis_km': None, 'eccentricity': None, 'periapsis_km': 35785, 'apoapsis_km': 35800, 'inclination_deg': None, 'period_min': None, 'lifespan_years': 15, 'epoch': None, 'mean_motion': None, 'raan': None, 'arg_of_pericenter': None, 'mean_anomaly': None, 'id': '5eb0e4c1b6c3bb0006eeb207'}\n",
      "Response: {'dragon': {'capsule': None, 'mass_returned_kg': None, 'mass_returned_lbs': None, 'flight_time_sec': None, 'manifest': None, 'water_landing': None, 'land_landing': None}, 'name': 'Iridium NEXT 1', 'type': 'Satellite', 'reused': False, 'launch': '5eb87cfdffd86e000604b34c', 'customers': ['Iridium Communications'], 'norad_ids': [41917, 41918, 41919, 41920, 41921, 41922, 41923, 41924, 41925, 41926], 'nationalities': ['United States'], 'manufacturers': ['Thales Alenia Space'], 'mass_kg': 9600, 'mass_lbs': 21200, 'orbit': 'PO', 'reference_system': 'geocentric', 'regime': 'low-earth', 'longitude': None, 'semi_major_axis_km': 7155.806, 'eccentricity': 0.0001911, 'periapsis_km': 776.304, 'apoapsis_km': 779.039, 'inclination_deg': 86.3965, 'period_min': 100.403, 'lifespan_years': 15, 'epoch': '2022-11-30T12:58:31.000Z', 'mean_motion': 14.34217173, 'raan': 269.4845, 'arg_of_pericenter': 90.6539, 'mean_anomaly': 269.4876, 'id': '5eb0e4c2b6c3bb0006eeb208'}\n",
      "Response: {'dragon': {'capsule': '5e9e2c5cf359185d753b266f', 'mass_returned_kg': 1652, 'mass_returned_lbs': 3642, 'flight_time_sec': 2419620, 'manifest': 'https://www.nasa.gov/sites/default/files/atoms/files/spacex_crs-10_mission_overview.pdf', 'water_landing': True, 'land_landing': False}, 'name': 'CRS-10', 'type': 'Dragon 1.1', 'reused': False, 'launch': '5eb87cfeffd86e000604b34d', 'customers': ['NASA (CRS)'], 'norad_ids': [42053], 'nationalities': ['United States'], 'manufacturers': ['SpaceX'], 'mass_kg': 2490, 'mass_lbs': 5490, 'orbit': 'ISS', 'reference_system': 'geocentric', 'regime': 'low-earth', 'longitude': None, 'semi_major_axis_km': 6657.603, 'eccentricity': 0.0115859, 'periapsis_km': 202.334, 'apoapsis_km': 356.602, 'inclination_deg': 51.632, 'period_min': 90.102, 'lifespan_years': None, 'epoch': '2017-02-19T15:02:32.000Z', 'mean_motion': 15.98180622, 'raan': 264.9784, 'arg_of_pericenter': 44.275, 'mean_anomaly': 62.9999, 'id': '5eb0e4c3b6c3bb0006eeb209'}\n",
      "Response: {'dragon': {'capsule': None, 'mass_returned_kg': None, 'mass_returned_lbs': None, 'flight_time_sec': None, 'manifest': None, 'water_landing': None, 'land_landing': None}, 'name': 'EchoStar 23', 'type': 'Satellite', 'reused': False, 'launch': '5eb87cfeffd86e000604b34e', 'customers': ['EchoStar'], 'norad_ids': [42070], 'nationalities': ['United States'], 'manufacturers': ['Airbus Defence and Space'], 'mass_kg': 5600, 'mass_lbs': 12399, 'orbit': 'GTO', 'reference_system': 'geocentric', 'regime': 'geostationary', 'longitude': -44.9, 'semi_major_axis_km': 42165.011, 'eccentricity': 0.0002289, 'periapsis_km': 35777.224, 'apoapsis_km': 35796.527, 'inclination_deg': 0.0174, 'period_min': 1436.111, 'lifespan_years': 15, 'epoch': '2022-11-30T13:03:49.000Z', 'mean_motion': 1.0027079, 'raan': 334.0161, 'arg_of_pericenter': 279.9748, 'mean_anomaly': 261.4708, 'id': '5eb0e4c3b6c3bb0006eeb20a'}\n",
      "Response: {'dragon': {'capsule': None, 'mass_returned_kg': None, 'mass_returned_lbs': None, 'flight_time_sec': None, 'manifest': None, 'water_landing': None, 'land_landing': None}, 'name': 'SES-10', 'type': 'Satellite', 'reused': False, 'launch': '5eb87d00ffd86e000604b34f', 'customers': ['SES'], 'norad_ids': [42432], 'nationalities': ['Luxembourg'], 'manufacturers': ['Airbus Defence and Space'], 'mass_kg': 5300, 'mass_lbs': 11700, 'orbit': 'GTO', 'reference_system': 'geocentric', 'regime': 'geostationary', 'longitude': -67, 'semi_major_axis_km': 42165.499, 'eccentricity': 0.0002847, 'periapsis_km': 35775.359, 'apoapsis_km': 35799.368, 'inclination_deg': 0.0162, 'period_min': 1436.136, 'lifespan_years': 15, 'epoch': '2022-11-30T12:56:49.000Z', 'mean_motion': 1.00269049, 'raan': 24.3984, 'arg_of_pericenter': 227.996, 'mean_anomaly': 304.3111, 'id': '5eb0e4c3b6c3bb0006eeb20b'}\n",
      "Response: {'dragon': {'capsule': None, 'mass_returned_kg': None, 'mass_returned_lbs': None, 'flight_time_sec': None, 'manifest': None, 'water_landing': None, 'land_landing': None}, 'name': 'NROL-76', 'type': 'Satellite', 'reused': False, 'launch': '5eb87d01ffd86e000604b350', 'customers': ['NRO'], 'norad_ids': [], 'nationalities': ['United States'], 'manufacturers': ['Boeing'], 'mass_kg': None, 'mass_lbs': None, 'orbit': 'LEO', 'reference_system': 'geocentric', 'regime': 'low-earth', 'longitude': None, 'semi_major_axis_km': None, 'eccentricity': None, 'periapsis_km': None, 'apoapsis_km': None, 'inclination_deg': 50, 'period_min': None, 'lifespan_years': 10, 'epoch': None, 'mean_motion': None, 'raan': None, 'arg_of_pericenter': None, 'mean_anomaly': None, 'id': '5eb0e4c3b6c3bb0006eeb20c'}\n",
      "Response: {'dragon': {'capsule': None, 'mass_returned_kg': None, 'mass_returned_lbs': None, 'flight_time_sec': None, 'manifest': None, 'water_landing': None, 'land_landing': None}, 'name': 'Inmarsat-5 F4', 'type': 'Satellite', 'reused': False, 'launch': '5eb87d01ffd86e000604b351', 'customers': ['Inmarsat'], 'norad_ids': [42698], 'nationalities': ['United Kingdom'], 'manufacturers': ['Boeing'], 'mass_kg': 6070, 'mass_lbs': 13380, 'orbit': 'GTO', 'reference_system': 'geocentric', 'regime': 'geostationary', 'longitude': 117, 'semi_major_axis_km': 42165.411, 'eccentricity': 2.77e-05, 'periapsis_km': 35786.108, 'apoapsis_km': 35788.444, 'inclination_deg': 0.0109, 'period_min': 1436.132, 'lifespan_years': 15, 'epoch': '2022-11-30T11:03:42.000Z', 'mean_motion': 1.00269364, 'raan': 330.4951, 'arg_of_pericenter': 262.8868, 'mean_anomaly': 58.3723, 'id': '5eb0e4c3b6c3bb0006eeb20d'}\n",
      "Response: {'dragon': {'capsule': '5e9e2c5bf3591880643b2669', 'mass_returned_kg': 1900, 'mass_returned_lbs': 4100, 'flight_time_sec': 2559840, 'manifest': 'https://www.nasa.gov/sites/default/files/atoms/files/spacex_crs-11_mission_overview.pdf', 'water_landing': True, 'land_landing': False}, 'name': 'CRS-11', 'type': 'Dragon 1.1', 'reused': True, 'launch': '5eb87d03ffd86e000604b352', 'customers': ['NASA (CRS)'], 'norad_ids': [42744], 'nationalities': ['United States'], 'manufacturers': ['SpaceX'], 'mass_kg': 2708, 'mass_lbs': 5970, 'orbit': 'ISS', 'reference_system': 'geocentric', 'regime': 'low-earth', 'longitude': None, 'semi_major_axis_km': 6657.963, 'eccentricity': 0.0113366, 'periapsis_km': 204.35, 'apoapsis_km': 355.307, 'inclination_deg': 51.639, 'period_min': 90.109, 'lifespan_years': None, 'epoch': '2017-06-03T23:01:19.000Z', 'mean_motion': 15.9805087, 'raan': 104.5218, 'arg_of_pericenter': 45.1464, 'mean_anomaly': 62.5836, 'id': '5eb0e4c4b6c3bb0006eeb20e'}\n",
      "Response: {'dragon': {'capsule': None, 'mass_returned_kg': None, 'mass_returned_lbs': None, 'flight_time_sec': None, 'manifest': None, 'water_landing': None, 'land_landing': None}, 'name': 'BulgariaSat-1', 'type': 'Satellite', 'reused': False, 'launch': '5eb87d04ffd86e000604b353', 'customers': ['Bulgaria Sat'], 'norad_ids': [42801], 'nationalities': ['Bulgaria'], 'manufacturers': ['SSL'], 'mass_kg': 3669, 'mass_lbs': 8089, 'orbit': 'GTO', 'reference_system': 'geocentric', 'regime': 'geostationary', 'longitude': 1.9, 'semi_major_axis_km': 42164.342, 'eccentricity': 0.0002743, 'periapsis_km': 35774.642, 'apoapsis_km': 35797.773, 'inclination_deg': 0.0438, 'period_min': 1436.077, 'lifespan_years': 15, 'epoch': '2022-11-30T07:21:25.000Z', 'mean_motion': 1.00273175, 'raan': 95.5686, 'arg_of_pericenter': 157.1609, 'mean_anomaly': 288.7158, 'id': '5eb0e4c4b6c3bb0006eeb20f'}\n",
      "Response: {'dragon': {'capsule': None, 'mass_returned_kg': None, 'mass_returned_lbs': None, 'flight_time_sec': None, 'manifest': None, 'water_landing': None, 'land_landing': None}, 'name': 'Iridium NEXT 2', 'type': 'Satellite', 'reused': False, 'launch': '5eb87d05ffd86e000604b354', 'customers': ['Iridium Communications'], 'norad_ids': [42803, 42804, 42805, 42806, 42807, 42808, 42809, 42805, 42810, 42811], 'nationalities': ['United States'], 'manufacturers': ['Thales Alenia Space'], 'mass_kg': 9600, 'mass_lbs': 21164, 'orbit': 'PO', 'reference_system': 'geocentric', 'regime': 'low-earth', 'longitude': None, 'semi_major_axis_km': 7155.807, 'eccentricity': 0.0001809, 'periapsis_km': 776.377, 'apoapsis_km': 778.966, 'inclination_deg': 86.3966, 'period_min': 100.403, 'lifespan_years': 15, 'epoch': '2022-11-30T11:25:43.000Z', 'mean_motion': 14.34216935, 'raan': 143.2313, 'arg_of_pericenter': 87.3056, 'mean_anomaly': 272.8347, 'id': '5eb0e4c4b6c3bb0006eeb210'}\n",
      "Response: {'dragon': {'capsule': None, 'mass_returned_kg': None, 'mass_returned_lbs': None, 'flight_time_sec': None, 'manifest': None, 'water_landing': None, 'land_landing': None}, 'name': 'Intelsat 35e', 'type': 'Satellite', 'reused': False, 'launch': '5eb87d06ffd86e000604b355', 'customers': ['Intelsat'], 'norad_ids': [42818], 'nationalities': ['United States'], 'manufacturers': ['Boeing'], 'mass_kg': 6761, 'mass_lbs': 14905.45, 'orbit': 'GTO', 'reference_system': 'geocentric', 'regime': 'geosynchronous', 'longitude': -34.5, 'semi_major_axis_km': 42165.663, 'eccentricity': 0.0001527, 'periapsis_km': 35781.09, 'apoapsis_km': 35793.967, 'inclination_deg': 0.0173, 'period_min': 1436.144, 'lifespan_years': 15, 'epoch': '2022-11-29T10:31:42.000Z', 'mean_motion': 1.00268463, 'raan': 339.4372, 'arg_of_pericenter': 267.6575, 'mean_anomaly': 304.6322, 'id': '5eb0e4c4b6c3bb0006eeb211'}\n",
      "Response: {'dragon': {'capsule': '5e9e2c5cf3591869b63b2670', 'mass_returned_kg': 1724, 'mass_returned_lbs': 3800, 'flight_time_sec': 2842920, 'manifest': 'https://www.nasa.gov/sites/default/files/atoms/files/spacex_crs-12_missionoverview.pdf', 'water_landing': True, 'land_landing': False}, 'name': 'CRS-12', 'type': 'Dragon 1.1', 'reused': False, 'launch': '5eb87d07ffd86e000604b356', 'customers': ['NASA (CRS)'], 'norad_ids': [42904], 'nationalities': ['United States'], 'manufacturers': ['SpaceX'], 'mass_kg': 2910, 'mass_lbs': 6415.5, 'orbit': 'ISS', 'reference_system': 'geocentric', 'regime': 'low-earth', 'longitude': None, 'semi_major_axis_km': 6658.399, 'eccentricity': 0.0116656, 'periapsis_km': 202.59, 'apoapsis_km': 357.938, 'inclination_deg': 51.6336, 'period_min': 90.118, 'lifespan_years': None, 'epoch': '2017-08-14T16:54:33.000Z', 'mean_motion': 15.97894031, 'raan': 106.677, 'arg_of_pericenter': 47.0303, 'mean_anomaly': 58.0005, 'id': '5eb0e4c4b6c3bb0006eeb212'}\n",
      "Response: {'dragon': {'capsule': None, 'mass_returned_kg': None, 'mass_returned_lbs': None, 'flight_time_sec': None, 'manifest': None, 'water_landing': None, 'land_landing': None}, 'name': 'FormoSat-5', 'type': 'Satellite', 'reused': False, 'launch': '5eb87d08ffd86e000604b357', 'customers': ['NSPO (Taiwan)'], 'norad_ids': [42920], 'nationalities': ['Taiwan'], 'manufacturers': ['NSPO'], 'mass_kg': 475, 'mass_lbs': 1047, 'orbit': 'SSO', 'reference_system': 'geocentric', 'regime': 'sun-synchronous', 'longitude': None, 'semi_major_axis_km': 7101.181, 'eccentricity': 0.0012218, 'periapsis_km': 714.369, 'apoapsis_km': 731.722, 'inclination_deg': 98.342, 'period_min': 99.256, 'lifespan_years': 5, 'epoch': '2022-11-30T12:00:36.000Z', 'mean_motion': 14.50797904, 'raan': 48.8508, 'arg_of_pericenter': 99.2606, 'mean_anomaly': 260.9974, 'id': '5eb0e4c4b6c3bb0006eeb213'}\n",
      "Response: {'dragon': {'capsule': None, 'mass_returned_kg': None, 'mass_returned_lbs': None, 'flight_time_sec': None, 'manifest': None, 'water_landing': None, 'land_landing': None}, 'name': 'X-37B OTV-5', 'type': 'Satellite', 'reused': False, 'launch': '5eb87d09ffd86e000604b358', 'customers': ['USAF'], 'norad_ids': [], 'nationalities': ['United States'], 'manufacturers': ['Boeing Defense'], 'mass_kg': 4990, 'mass_lbs': 11001, 'orbit': 'LEO', 'reference_system': 'geocentric', 'regime': 'low-earth', 'longitude': None, 'semi_major_axis_km': None, 'eccentricity': None, 'periapsis_km': None, 'apoapsis_km': None, 'inclination_deg': 54, 'period_min': None, 'lifespan_years': None, 'epoch': None, 'mean_motion': None, 'raan': None, 'arg_of_pericenter': None, 'mean_anomaly': None, 'id': '5eb0e4c5b6c3bb0006eeb214'}\n",
      "Response: {'dragon': {'capsule': None, 'mass_returned_kg': None, 'mass_returned_lbs': None, 'flight_time_sec': None, 'manifest': None, 'water_landing': None, 'land_landing': None}, 'name': 'Iridium NEXT 3', 'type': 'Satellite', 'reused': False, 'launch': '5eb87d0affd86e000604b359', 'customers': ['Iridium Communications'], 'norad_ids': [42955, 42956, 42957, 42958, 42959, 42960, 42961, 42962, 42963, 42964], 'nationalities': ['United States'], 'manufacturers': ['Thales Alenia Space'], 'mass_kg': 9600, 'mass_lbs': 21164.4, 'orbit': 'PO', 'reference_system': 'geocentric', 'regime': 'low-earth', 'longitude': None, 'semi_major_axis_km': 7155.803, 'eccentricity': 0.0001837, 'periapsis_km': 776.354, 'apoapsis_km': 778.983, 'inclination_deg': 86.4014, 'period_min': 100.403, 'lifespan_years': 15, 'epoch': '2022-11-30T09:45:59.000Z', 'mean_motion': 14.34217999, 'raan': 206.3155, 'arg_of_pericenter': 78.6025, 'mean_anomaly': 281.5377, 'id': '5eb0e4c5b6c3bb0006eeb215'}\n",
      "Response: {'dragon': {'capsule': None, 'mass_returned_kg': None, 'mass_returned_lbs': None, 'flight_time_sec': None, 'manifest': None, 'water_landing': None, 'land_landing': None}, 'name': 'SES-11 / Echostar 105', 'type': 'Satellite', 'reused': False, 'launch': '5eb87d0cffd86e000604b35a', 'customers': ['SES', 'Echostar'], 'norad_ids': [42967], 'nationalities': ['United States'], 'manufacturers': ['Airbus Defence and Space'], 'mass_kg': 5200, 'mass_lbs': 11464, 'orbit': 'GTO', 'reference_system': 'geocentric', 'regime': 'geostationary', 'longitude': -105, 'semi_major_axis_km': 42164.822, 'eccentricity': 0.0002761, 'periapsis_km': 35775.046, 'apoapsis_km': 35798.329, 'inclination_deg': 0.0089, 'period_min': 1436.102, 'lifespan_years': 15, 'epoch': '2022-11-30T10:17:38.000Z', 'mean_motion': 1.00271463, 'raan': 6.6583, 'arg_of_pericenter': 246.2111, 'mean_anomaly': 225.8975, 'id': '5eb0e4c5b6c3bb0006eeb216'}\n",
      "Response: {'dragon': {'capsule': None, 'mass_returned_kg': None, 'mass_returned_lbs': None, 'flight_time_sec': None, 'manifest': None, 'water_landing': None, 'land_landing': None}, 'name': 'KoreaSat 5A', 'type': 'Satellite', 'reused': False, 'launch': '5eb87d0dffd86e000604b35b', 'customers': ['KT Corporation'], 'norad_ids': [42984], 'nationalities': ['South Korea'], 'manufacturers': ['Thales Alenia Space'], 'mass_kg': 3700, 'mass_lbs': 8157.104, 'orbit': 'GTO', 'reference_system': 'geocentric', 'regime': 'geostationary', 'longitude': 113, 'semi_major_axis_km': 42165.145, 'eccentricity': 0.0001695, 'periapsis_km': 35779.863, 'apoapsis_km': 35794.157, 'inclination_deg': 0.0348, 'period_min': 1436.118, 'lifespan_years': 15, 'epoch': '2022-11-30T13:26:23.000Z', 'mean_motion': 1.00270312, 'raan': 87.7246, 'arg_of_pericenter': 144.2096, 'mean_anomaly': 152.2342, 'id': '5eb0e4c5b6c3bb0006eeb217'}\n",
      "Response: {'dragon': {'capsule': '5e9e2c5cf359188bfb3b266b', 'mass_returned_kg': 1859.7, 'mass_returned_lbs': 4100, 'flight_time_sec': 2375340, 'manifest': 'https://www.nasa.gov/sites/default/files/atoms/files/spacex_crs-13_mision_overview_low_res8.pdf', 'water_landing': True, 'land_landing': False}, 'name': 'CRS-13', 'type': 'Dragon 1.1', 'reused': True, 'launch': '5eb87d0effd86e000604b35c', 'customers': ['NASA (CRS)'], 'norad_ids': [43060], 'nationalities': ['United States'], 'manufacturers': ['SpaceX'], 'mass_kg': 2205, 'mass_lbs': 4861.2, 'orbit': 'ISS', 'reference_system': 'geocentric', 'regime': 'low-earth', 'longitude': None, 'semi_major_axis_km': 6657.799, 'eccentricity': 0.0114283, 'periapsis_km': 203.576, 'apoapsis_km': 355.751, 'inclination_deg': 51.6387, 'period_min': 90.106, 'lifespan_years': None, 'epoch': '2017-12-15T16:01:04.000Z', 'mean_motion': 15.98110186, 'raan': 213.9231, 'arg_of_pericenter': 45.5617, 'mean_anomaly': 67.7217, 'id': '5eb0e4c5b6c3bb0006eeb218'}\n",
      "Response: {'dragon': {'capsule': None, 'mass_returned_kg': None, 'mass_returned_lbs': None, 'flight_time_sec': None, 'manifest': None, 'water_landing': None, 'land_landing': None}, 'name': 'Iridium NEXT 4', 'type': 'Satellite', 'reused': False, 'launch': '5eb87d0fffd86e000604b35d', 'customers': ['Iridium Communications'], 'norad_ids': [43070, 43071, 43072, 43073, 43074, 43075, 43076, 43077, 43078, 43079], 'nationalities': ['United States'], 'manufacturers': ['Thales Alenia Space'], 'mass_kg': 9600, 'mass_lbs': 21164.38, 'orbit': 'PO', 'reference_system': 'geocentric', 'regime': 'low-earth', 'longitude': None, 'semi_major_axis_km': 7155.804, 'eccentricity': 0.0002177, 'periapsis_km': 776.111, 'apoapsis_km': 779.226, 'inclination_deg': 86.396, 'period_min': 100.403, 'lifespan_years': 15, 'epoch': '2022-11-30T10:58:18.000Z', 'mean_motion': 14.34217935, 'raan': 143.161, 'arg_of_pericenter': 96.2631, 'mean_anomaly': 263.8813, 'id': '5eb0e4c6b6c3bb0006eeb219'}\n",
      "Response: {'dragon': {'capsule': None, 'mass_returned_kg': None, 'mass_returned_lbs': None, 'flight_time_sec': None, 'manifest': None, 'water_landing': None, 'land_landing': None}, 'name': 'ZUMA', 'type': 'Satellite', 'reused': False, 'launch': '5eb87d10ffd86e000604b35e', 'customers': ['Northrop Grumman'], 'norad_ids': [], 'nationalities': ['United States'], 'manufacturers': ['Northrop Grumman'], 'mass_kg': None, 'mass_lbs': None, 'orbit': 'LEO', 'reference_system': 'geocentric', 'regime': 'low-earth', 'longitude': None, 'semi_major_axis_km': None, 'eccentricity': None, 'periapsis_km': None, 'apoapsis_km': None, 'inclination_deg': 51, 'period_min': None, 'lifespan_years': None, 'epoch': None, 'mean_motion': None, 'raan': None, 'arg_of_pericenter': None, 'mean_anomaly': None, 'id': '5eb0e4c6b6c3bb0006eeb21a'}\n",
      "Response: {'dragon': {'capsule': None, 'mass_returned_kg': None, 'mass_returned_lbs': None, 'flight_time_sec': None, 'manifest': None, 'water_landing': None, 'land_landing': None}, 'name': 'GovSat-1', 'type': 'Satellite', 'reused': False, 'launch': '5eb87d11ffd86e000604b35f', 'customers': ['GovSat'], 'norad_ids': [43178], 'nationalities': ['Luxembourg'], 'manufacturers': ['Orbital ATK'], 'mass_kg': 4230, 'mass_lbs': 9325.6, 'orbit': 'GTO', 'reference_system': 'geocentric', 'regime': 'geostationary', 'longitude': 21.5, 'semi_major_axis_km': None, 'eccentricity': None, 'periapsis_km': None, 'apoapsis_km': None, 'inclination_deg': None, 'period_min': None, 'lifespan_years': 15, 'epoch': None, 'mean_motion': None, 'raan': None, 'arg_of_pericenter': None, 'mean_anomaly': None, 'id': '5eb0e4c6b6c3bb0006eeb21b'}\n",
      "Response: {'dragon': {'capsule': None, 'mass_returned_kg': None, 'mass_returned_lbs': None, 'flight_time_sec': None, 'manifest': None, 'water_landing': None, 'land_landing': None}, 'name': 'Tesla Roadster', 'type': 'Satellite', 'reused': False, 'launch': '5eb87d13ffd86e000604b360', 'customers': ['SpaceX'], 'norad_ids': [43205], 'nationalities': ['United States'], 'manufacturers': ['Tesla'], 'mass_kg': 1350, 'mass_lbs': 2976.2, 'orbit': 'HCO', 'reference_system': 'heliocentric', 'regime': None, 'longitude': None, 'semi_major_axis_km': 9943.766, 'eccentricity': 0.3404246, 'periapsis_km': 180.528, 'apoapsis_km': 6950.733, 'inclination_deg': 29.0185, 'period_min': 164.469, 'lifespan_years': 3500000, 'epoch': '2018-02-06T22:36:19.000Z', 'mean_motion': 8.75540848, 'raan': 287.358, 'arg_of_pericenter': 180.027, 'mean_anomaly': 180.584, 'id': '5eb0e4c6b6c3bb0006eeb21c'}\n",
      "Response: {'dragon': {'capsule': None, 'mass_returned_kg': None, 'mass_returned_lbs': None, 'flight_time_sec': None, 'manifest': None, 'water_landing': None, 'land_landing': None}, 'name': 'Paz', 'type': 'Satellite', 'reused': False, 'launch': '5eb87d14ffd86e000604b361', 'customers': ['HisdeSAT'], 'norad_ids': [43215], 'nationalities': ['Spain'], 'manufacturers': ['Airbus Defence and Space'], 'mass_kg': 1350, 'mass_lbs': 2976.2, 'orbit': 'SSO', 'reference_system': 'geocentric', 'regime': 'sun-synchronous', 'longitude': None, 'semi_major_axis_km': 6886.499, 'eccentricity': 0.0001616, 'periapsis_km': 507.251, 'apoapsis_km': 509.477, 'inclination_deg': 97.4442, 'period_min': 94.789, 'lifespan_years': 15, 'epoch': '2022-11-30T11:51:37.000Z', 'mean_motion': 15.19165308, 'raan': 339.4674, 'arg_of_pericenter': 85.8816, 'mean_anomaly': 66.6867, 'id': '5eb0e4c6b6c3bb0006eeb21d'}\n",
      "Response: {'dragon': {'capsule': None, 'mass_returned_kg': None, 'mass_returned_lbs': None, 'flight_time_sec': None, 'manifest': None, 'water_landing': None, 'land_landing': None}, 'name': 'Tintin A & B', 'type': 'Satellite', 'reused': False, 'launch': '5eb87d14ffd86e000604b361', 'customers': ['SpaceX'], 'norad_ids': [43216, 43217], 'nationalities': ['United States'], 'manufacturers': ['SpaceX'], 'mass_kg': 800, 'mass_lbs': 1763.7, 'orbit': 'SSO', 'reference_system': 'geocentric', 'regime': 'low-earth', 'longitude': None, 'semi_major_axis_km': 6543.402, 'eccentricity': 0.0015282, 'periapsis_km': 155.268, 'apoapsis_km': 175.267, 'inclination_deg': 97.4245, 'period_min': 87.794, 'lifespan_years': 1, 'epoch': '2020-08-29T07:40:05.000Z', 'mean_motion': 16.40201759, 'raan': 260.1382, 'arg_of_pericenter': 265.467, 'mean_anomaly': 95.5903, 'id': '5eb0e4c6b6c3bb0006eeb21e'}\n",
      "Response: {'dragon': {'capsule': None, 'mass_returned_kg': None, 'mass_returned_lbs': None, 'flight_time_sec': None, 'manifest': None, 'water_landing': None, 'land_landing': None}, 'name': 'Hispasat 30W-6', 'type': 'Satellite', 'reused': False, 'launch': '5eb87d15ffd86e000604b362', 'customers': ['Hispasat'], 'norad_ids': [43228], 'nationalities': ['Spain'], 'manufacturers': ['SSL'], 'mass_kg': 6092, 'mass_lbs': 13430.6, 'orbit': 'GTO', 'reference_system': 'geocentric', 'regime': 'geostationary', 'longitude': -30, 'semi_major_axis_km': 42164.846, 'eccentricity': 0.0002717, 'periapsis_km': 35775.255, 'apoapsis_km': 35798.167, 'inclination_deg': 0.0465, 'period_min': 1436.103, 'lifespan_years': 15, 'epoch': '2022-11-30T08:55:33.000Z', 'mean_motion': 1.00271379, 'raan': 43.4242, 'arg_of_pericenter': 225.4151, 'mean_anomaly': 264.3019, 'id': '5eb0e4c7b6c3bb0006eeb21f'}\n",
      "Response: {'dragon': {'capsule': None, 'mass_returned_kg': None, 'mass_returned_lbs': None, 'flight_time_sec': None, 'manifest': None, 'water_landing': None, 'land_landing': None}, 'name': 'Iridium NEXT 5', 'type': 'Satellite', 'reused': False, 'launch': '5eb87d16ffd86e000604b363', 'customers': ['Iridium Communications'], 'norad_ids': [43249, 43250, 43251, 43252, 43253, 43254, 43255, 43256, 43257, 43258], 'nationalities': ['United States'], 'manufacturers': ['Thales Alenia Space'], 'mass_kg': 9600, 'mass_lbs': 21164.38, 'orbit': 'PO', 'reference_system': 'geocentric', 'regime': 'low-earth', 'longitude': None, 'semi_major_axis_km': 7155.795, 'eccentricity': 0.0001902, 'periapsis_km': 776.299, 'apoapsis_km': 779.021, 'inclination_deg': 86.395, 'period_min': 100.403, 'lifespan_years': 15, 'epoch': '2022-11-30T07:50:42.000Z', 'mean_motion': 14.34220443, 'raan': 111.6089, 'arg_of_pericenter': 101.1423, 'mean_anomaly': 258.9986, 'id': '5eb0e4c7b6c3bb0006eeb220'}\n",
      "Response: {'dragon': {'capsule': '5e9e2c5cf3591885d43b266d', 'mass_returned_kg': 1743, 'mass_returned_lbs': 3843, 'flight_time_sec': 3862140, 'manifest': 'https://www.nasa.gov/sites/default/files/atoms/files/spacex_crs-14_mision_overview_high_res.pdf', 'water_landing': True, 'land_landing': False}, 'name': 'CRS-14', 'type': 'Dragon 1.1', 'reused': True, 'launch': '5eb87d16ffd86e000604b364', 'customers': ['NASA (CRS)'], 'norad_ids': [43267], 'nationalities': ['United States'], 'manufacturers': ['SpaceX'], 'mass_kg': 2760, 'mass_lbs': 6084.7, 'orbit': 'ISS', 'reference_system': 'geocentric', 'regime': 'low-earth', 'longitude': None, 'semi_major_axis_km': 6658.324, 'eccentricity': 0.011476, 'periapsis_km': 203.778, 'apoapsis_km': 356.6, 'inclination_deg': 51.6437, 'period_min': 90.117, 'lifespan_years': None, 'epoch': '2018-04-02T20:54:48.000Z', 'mean_motion': 15.97921108, 'raan': 34.3281, 'arg_of_pericenter': 48.6187, 'mean_anomaly': 62.8495, 'id': '5eb0e4c7b6c3bb0006eeb221'}\n",
      "Response: {'dragon': {'capsule': None, 'mass_returned_kg': None, 'mass_returned_lbs': None, 'flight_time_sec': None, 'manifest': None, 'water_landing': None, 'land_landing': None}, 'name': 'TESS', 'type': 'Satellite', 'reused': False, 'launch': '5eb87d18ffd86e000604b365', 'customers': ['NASA'], 'norad_ids': [43435], 'nationalities': ['United States'], 'manufacturers': ['Orbital ATK'], 'mass_kg': 350, 'mass_lbs': 772, 'orbit': 'HEO', 'reference_system': 'highly-elliptical', 'regime': 'high-earth', 'longitude': None, 'semi_major_axis_km': 248306.42, 'eccentricity': 0.5025932, 'periapsis_km': 117131.167, 'apoapsis_km': 366725.403, 'inclination_deg': 32.6631, 'period_min': 20523.038, 'lifespan_years': 10, 'epoch': '2022-11-13T02:03:51.000Z', 'mean_motion': 0.07016505, 'raan': 79.8977, 'arg_of_pericenter': 174.9798, 'mean_anomaly': 5.7045, 'id': '5eb0e4c7b6c3bb0006eeb222'}\n",
      "Response: {'dragon': {'capsule': None, 'mass_returned_kg': None, 'mass_returned_lbs': None, 'flight_time_sec': None, 'manifest': None, 'water_landing': None, 'land_landing': None}, 'name': 'Bangabandhu-1', 'type': 'Satellite', 'reused': False, 'launch': '5eb87d19ffd86e000604b366', 'customers': ['Bangladesh Gov'], 'norad_ids': [43463], 'nationalities': ['Bangladesh'], 'manufacturers': ['Thales Alenia Space'], 'mass_kg': 3750, 'mass_lbs': 8270, 'orbit': 'GTO', 'reference_system': 'geocentric', 'regime': 'geostationary', 'longitude': 119.1, 'semi_major_axis_km': 42165.459, 'eccentricity': 0.0002447, 'periapsis_km': 35777.007, 'apoapsis_km': 35797.642, 'inclination_deg': 0.0171, 'period_min': 1436.134, 'lifespan_years': 15, 'epoch': '2022-11-30T13:40:58.000Z', 'mean_motion': 1.0026919, 'raan': 293.504, 'arg_of_pericenter': 313.0833, 'mean_anomaly': 147.1721, 'id': '5eb0e4c7b6c3bb0006eeb223'}\n",
      "Response: {'dragon': {'capsule': None, 'mass_returned_kg': None, 'mass_returned_lbs': None, 'flight_time_sec': None, 'manifest': None, 'water_landing': None, 'land_landing': None}, 'name': 'Iridium NEXT 6', 'type': 'Satellite', 'reused': False, 'launch': '5eb87d1affd86e000604b367', 'customers': ['Iridium Communications'], 'norad_ids': [43478, 43479, 43480, 43481, 43482], 'nationalities': ['United States'], 'manufacturers': ['Thales Alenia Space'], 'mass_kg': 4300, 'mass_lbs': 9479.9, 'orbit': 'PO', 'reference_system': 'geocentric', 'regime': 'low-earth', 'longitude': None, 'semi_major_axis_km': 7125.831, 'eccentricity': 0.0001835, 'periapsis_km': 746.388, 'apoapsis_km': 749.004, 'inclination_deg': 86.4486, 'period_min': 99.773, 'lifespan_years': 15, 'epoch': '2022-11-30T06:38:48.000Z', 'mean_motion': 14.43276342, 'raan': 269.5789, 'arg_of_pericenter': 87.4192, 'mean_anomaly': 272.7219, 'id': '5eb0e4c7b6c3bb0006eeb224'}\n",
      "Response: {'dragon': {'capsule': None, 'mass_returned_kg': None, 'mass_returned_lbs': None, 'flight_time_sec': None, 'manifest': None, 'water_landing': None, 'land_landing': None}, 'name': 'GRACE-FO 1-2', 'type': 'Satellite', 'reused': False, 'launch': '5eb87d1affd86e000604b367', 'customers': ['NASA', 'DLR'], 'norad_ids': [43476, 43477], 'nationalities': [], 'manufacturers': [], 'mass_kg': 1160, 'mass_lbs': 2557.4, 'orbit': 'PO', 'reference_system': 'geocentric', 'regime': 'sun-synchronous', 'longitude': None, 'semi_major_axis_km': 6870.047, 'eccentricity': 0.0017244, 'periapsis_km': 480.066, 'apoapsis_km': 503.759, 'inclination_deg': 88.9912, 'period_min': 94.449, 'lifespan_years': 5, 'epoch': '2022-11-30T13:40:14.000Z', 'mean_motion': 15.24625437, 'raan': 16.0251, 'arg_of_pericenter': 80.3309, 'mean_anomaly': 279.9886, 'id': '5eb0e4c8b6c3bb0006eeb225'}\n",
      "Response: {'dragon': {'capsule': None, 'mass_returned_kg': None, 'mass_returned_lbs': None, 'flight_time_sec': None, 'manifest': None, 'water_landing': None, 'land_landing': None}, 'name': 'SES-12', 'type': 'Satellite', 'reused': False, 'launch': '5eb87d1bffd86e000604b368', 'customers': ['SES'], 'norad_ids': [43488], 'nationalities': ['Luxembourg'], 'manufacturers': ['Airbus Defence and Space'], 'mass_kg': 5383.85, 'mass_lbs': 11869.4, 'orbit': 'GTO', 'reference_system': 'geocentric', 'regime': 'geostationary', 'longitude': 95, 'semi_major_axis_km': 42165.301, 'eccentricity': 0.0002422, 'periapsis_km': 35776.954, 'apoapsis_km': 35797.379, 'inclination_deg': 0.0409, 'period_min': 1436.126, 'lifespan_years': 15, 'epoch': '2022-11-30T11:14:45.000Z', 'mean_motion': 1.00269754, 'raan': 72.4353, 'arg_of_pericenter': 188.7309, 'mean_anomaly': 71.846, 'id': '5eb0e4c8b6c3bb0006eeb226'}\n",
      "Response: {'dragon': {'capsule': '5e9e2c5cf359183bb73b266e', 'mass_returned_kg': 1700, 'mass_returned_lbs': 3747.9, 'flight_time_sec': 3069300, 'manifest': 'https://www.nasa.gov/sites/default/files/atoms/files/spacex_crs-15_mision_overview_rev2_high_res7.pdf', 'water_landing': True, 'land_landing': False}, 'name': 'CRS-15', 'type': 'Dragon 1.1', 'reused': True, 'launch': '5eb87d1cffd86e000604b369', 'customers': ['NASA (CRS)'], 'norad_ids': [43522], 'nationalities': ['United States'], 'manufacturers': ['SpaceX'], 'mass_kg': 2410, 'mass_lbs': 5313, 'orbit': 'ISS', 'reference_system': 'geocentric', 'regime': 'low-earth', 'longitude': None, 'semi_major_axis_km': 6685.069, 'eccentricity': 0.0119429, 'periapsis_km': 227.094, 'apoapsis_km': 386.773, 'inclination_deg': 51.6352, 'period_min': 90.66, 'lifespan_years': None, 'epoch': '2018-06-29T11:28:11.000Z', 'mean_motion': 15.88341598, 'raan': 317.9412, 'arg_of_pericenter': 52.1513, 'mean_anomaly': 25.5794, 'id': '5eb0e4c8b6c3bb0006eeb227'}\n",
      "Response: {'dragon': {'capsule': None, 'mass_returned_kg': None, 'mass_returned_lbs': None, 'flight_time_sec': None, 'manifest': None, 'water_landing': None, 'land_landing': None}, 'name': 'Telstar 19V', 'type': 'Satellite', 'reused': False, 'launch': '5eb87d1effd86e000604b36a', 'customers': ['Telesat'], 'norad_ids': [43562], 'nationalities': ['Canada'], 'manufacturers': ['SSL'], 'mass_kg': 7076, 'mass_lbs': 15600, 'orbit': 'GTO', 'reference_system': 'geocentric', 'regime': 'geostationary', 'longitude': -65, 'semi_major_axis_km': 42165.115, 'eccentricity': 0.0002293, 'periapsis_km': 35777.311, 'apoapsis_km': 35796.648, 'inclination_deg': 0.0311, 'period_min': 1436.116, 'lifespan_years': 15, 'epoch': '2022-11-30T12:49:59.000Z', 'mean_motion': 1.0027042, 'raan': 182.188, 'arg_of_pericenter': 3.4438, 'mean_anomaly': 13.2586, 'id': '5eb0e4c8b6c3bb0006eeb228'}\n",
      "Response: {'dragon': {'capsule': None, 'mass_returned_kg': None, 'mass_returned_lbs': None, 'flight_time_sec': None, 'manifest': None, 'water_landing': None, 'land_landing': None}, 'name': 'Iridium NEXT 7', 'type': 'Satellite', 'reused': False, 'launch': '5eb87d1fffd86e000604b36b', 'customers': ['Iridium Communications'], 'norad_ids': [43569, 43570, 43571, 43572, 43573, 43574, 43575, 43576, 43577, 43578], 'nationalities': ['United States'], 'manufacturers': ['Thales Alenia Space'], 'mass_kg': 9600, 'mass_lbs': 21164.38, 'orbit': 'PO', 'reference_system': 'geocentric', 'regime': 'low-earth', 'longitude': None, 'semi_major_axis_km': 7155.79, 'eccentricity': 0.0002295, 'periapsis_km': 776.012, 'apoapsis_km': 779.297, 'inclination_deg': 86.4, 'period_min': 100.403, 'lifespan_years': 15, 'epoch': '2022-11-30T10:27:26.000Z', 'mean_motion': 14.34222132, 'raan': 237.793, 'arg_of_pericenter': 81.4074, 'mean_anomaly': 278.7382, 'id': '5eb0e4c9b6c3bb0006eeb229'}\n",
      "Response: {'dragon': {'capsule': None, 'mass_returned_kg': None, 'mass_returned_lbs': None, 'flight_time_sec': None, 'manifest': None, 'water_landing': None, 'land_landing': None}, 'name': 'Telkom-4', 'type': 'Satellite', 'reused': False, 'launch': '5eb87d20ffd86e000604b36c', 'customers': ['Telkom'], 'norad_ids': [43587], 'nationalities': ['Indonesia'], 'manufacturers': ['SSL'], 'mass_kg': 5800, 'mass_lbs': 12786.81, 'orbit': 'GTO', 'reference_system': 'geocentric', 'regime': 'geostationary', 'longitude': -108, 'semi_major_axis_km': 42165.283, 'eccentricity': 0.0001174, 'periapsis_km': 35782.198, 'apoapsis_km': 35792.099, 'inclination_deg': 0.0153, 'period_min': 1436.125, 'lifespan_years': 15, 'epoch': '2022-11-30T14:38:43.000Z', 'mean_motion': 1.00269818, 'raan': 12.1327, 'arg_of_pericenter': 245.4762, 'mean_anomaly': 139.5431, 'id': '5eb0e4c9b6c3bb0006eeb22a'}\n",
      "Response: {'dragon': {'capsule': None, 'mass_returned_kg': None, 'mass_returned_lbs': None, 'flight_time_sec': None, 'manifest': None, 'water_landing': None, 'land_landing': None}, 'name': 'Telstar 18V', 'type': 'Satellite', 'reused': False, 'launch': '5eb87d22ffd86e000604b36d', 'customers': ['Telesat'], 'norad_ids': [43611], 'nationalities': ['Canada'], 'manufacturers': ['SSL'], 'mass_kg': 7060, 'mass_lbs': 15564.64, 'orbit': 'GTO', 'reference_system': 'geocentric', 'regime': 'geostationary', 'longitude': 138, 'semi_major_axis_km': 42165.23, 'eccentricity': 0.0001866, 'periapsis_km': 35779.227, 'apoapsis_km': 35794.963, 'inclination_deg': 0.0183, 'period_min': 1436.122, 'lifespan_years': 15, 'epoch': '2022-11-30T12:02:42.000Z', 'mean_motion': 1.00270007, 'raan': 331.1443, 'arg_of_pericenter': 266.8977, 'mean_anomaly': 150.0027, 'id': '5eb0e4c9b6c3bb0006eeb22b'}\n",
      "Response: {'dragon': {'capsule': None, 'mass_returned_kg': None, 'mass_returned_lbs': None, 'flight_time_sec': None, 'manifest': None, 'water_landing': None, 'land_landing': None}, 'name': 'SAOCOM 1A', 'type': 'Satellite', 'reused': False, 'launch': '5eb87d23ffd86e000604b36e', 'customers': ['CONAE'], 'norad_ids': [43641], 'nationalities': ['Argentina'], 'manufacturers': ['INVAP'], 'mass_kg': 2800, 'mass_lbs': 6172.94, 'orbit': 'SSO', 'reference_system': 'geocentric', 'regime': 'sun-synchronous', 'longitude': None, 'semi_major_axis_km': 7000.668, 'eccentricity': 0.0001286, 'periapsis_km': 621.633, 'apoapsis_km': 623.434, 'inclination_deg': 97.885, 'period_min': 97.156, 'lifespan_years': 5, 'epoch': '2022-11-30T11:40:14.000Z', 'mean_motion': 14.82154628, 'raan': 158.8195, 'arg_of_pericenter': 85.9131, 'mean_anomaly': 274.2238, 'id': '5eb0e4c9b6c3bb0006eeb22c'}\n",
      "Response: {'dragon': {'capsule': None, 'mass_returned_kg': None, 'mass_returned_lbs': None, 'flight_time_sec': None, 'manifest': None, 'water_landing': None, 'land_landing': None}, 'name': 'Es’hail 2', 'type': 'Satellite', 'reused': False, 'launch': '5eb87d24ffd86e000604b36f', 'customers': ['Es’hailSat'], 'norad_ids': [43700], 'nationalities': ['Qatar'], 'manufacturers': ['Mitsubishi Electric'], 'mass_kg': 3000, 'mass_lbs': 6613.868, 'orbit': 'GTO', 'reference_system': 'geocentric', 'regime': 'geostationary', 'longitude': 25.5, 'semi_major_axis_km': 42164.815, 'eccentricity': 0.0001132, 'periapsis_km': 35781.907, 'apoapsis_km': 35791.453, 'inclination_deg': 0.0141, 'period_min': 1436.101, 'lifespan_years': 15, 'epoch': '2022-11-30T07:28:19.000Z', 'mean_motion': 1.00271489, 'raan': 295.5537, 'arg_of_pericenter': 335.7816, 'mean_anomaly': 295.722, 'id': '5eb0e4c9b6c3bb0006eeb22d'}\n",
      "Response: {'dragon': {'capsule': None, 'mass_returned_kg': None, 'mass_returned_lbs': None, 'flight_time_sec': None, 'manifest': None, 'water_landing': None, 'land_landing': None}, 'name': 'SSO-A', 'type': 'Satellite', 'reused': False, 'launch': '5eb87d25ffd86e000604b370', 'customers': ['Spaceflight Industries, Inc'], 'norad_ids': [43775, 43776, 43774, 43763, 43760, 43759], 'nationalities': ['United States'], 'manufacturers': ['Spaceflight Industries, Inc'], 'mass_kg': 4000, 'mass_lbs': 8818.49, 'orbit': 'SSO', 'reference_system': 'geocentric', 'regime': 'sun-synchronous', 'longitude': None, 'semi_major_axis_km': 6955.623, 'eccentricity': 0.001559, 'periapsis_km': 566.644, 'apoapsis_km': 588.332, 'inclination_deg': 97.602, 'period_min': 96.22, 'lifespan_years': None, 'epoch': '2022-11-30T03:44:04.000Z', 'mean_motion': 14.9657577, 'raan': 36.0888, 'arg_of_pericenter': 73.2607, 'mean_anomaly': 287.0324, 'id': '5eb0e4c9b6c3bb0006eeb22e'}\n",
      "Response: {'dragon': {'capsule': '5e9e2c5cf359185d753b266f', 'mass_returned_kg': 2500, 'mass_returned_lbs': 5512, 'flight_time_sec': 3408840, 'manifest': 'https://www.nasa.gov/sites/default/files/atoms/files/spacex_crs-16_mision_overview_high_res_rev2.pdf', 'water_landing': True, 'land_landing': False}, 'name': 'CRS-16', 'type': 'Dragon 1.1', 'reused': True, 'launch': '5eb87d26ffd86e000604b371', 'customers': ['NASA (CRS)'], 'norad_ids': [43827], 'nationalities': ['United States'], 'manufacturers': ['SpaceX'], 'mass_kg': 2573, 'mass_lbs': 5672.494, 'orbit': 'ISS', 'reference_system': 'geocentric', 'regime': 'low-earth', 'longitude': None, 'semi_major_axis_km': 6783.903, 'eccentricity': 0.0002416, 'periapsis_km': 404.129, 'apoapsis_km': 407.407, 'inclination_deg': 51.6425, 'period_min': 92.678, 'lifespan_years': None, 'epoch': '2019-01-13T14:04:57.000Z', 'mean_motion': 15.53757701, 'raan': 50.2106, 'arg_of_pericenter': 284.1251, 'mean_anomaly': 212.8292, 'id': '5eb0e4cab6c3bb0006eeb22f'}\n",
      "Response: {'dragon': {'capsule': None, 'mass_returned_kg': None, 'mass_returned_lbs': None, 'flight_time_sec': None, 'manifest': None, 'water_landing': None, 'land_landing': None}, 'name': 'GPS III SV01', 'type': 'Satellite', 'reused': False, 'launch': '5eb87d27ffd86e000604b372', 'customers': ['USAF'], 'norad_ids': [43873], 'nationalities': ['United States'], 'manufacturers': ['Lockheed Martin'], 'mass_kg': 4400, 'mass_lbs': 9700.34, 'orbit': 'MEO', 'reference_system': 'geocentric', 'regime': 'semi-synchronous', 'longitude': None, 'semi_major_axis_km': 26560.992, 'eccentricity': 0.0022139, 'periapsis_km': 20124.053, 'apoapsis_km': 20241.66, 'inclination_deg': 55.1231, 'period_min': 718.003, 'lifespan_years': 15, 'epoch': '2022-11-30T04:44:42.000Z', 'mean_motion': 2.00556313, 'raan': 143.3511, 'arg_of_pericenter': 187.4588, 'mean_anomaly': 169.3968, 'id': '5eb0e4cab6c3bb0006eeb230'}\n",
      "Response: {'dragon': {'capsule': None, 'mass_returned_kg': None, 'mass_returned_lbs': None, 'flight_time_sec': None, 'manifest': None, 'water_landing': None, 'land_landing': None}, 'name': 'Iridium NEXT 8', 'type': 'Satellite', 'reused': False, 'launch': '5eb87d28ffd86e000604b373', 'customers': ['Iridium Communications'], 'norad_ids': [43922, 43923, 43924, 43925, 43926, 43927, 43928, 43929, 43930, 43931], 'nationalities': ['United States'], 'manufacturers': ['Thales Alenia Space'], 'mass_kg': 9600, 'mass_lbs': 21164.38, 'orbit': 'PO', 'reference_system': 'geocentric', 'regime': 'low-earth', 'longitude': None, 'semi_major_axis_km': 7155.797, 'eccentricity': 0.0002492, 'periapsis_km': 775.879, 'apoapsis_km': 779.445, 'inclination_deg': 86.3993, 'period_min': 100.403, 'lifespan_years': 15, 'epoch': '2022-11-30T02:13:30.000Z', 'mean_motion': 14.34219972, 'raan': 174.8527, 'arg_of_pericenter': 87.0871, 'mean_anomaly': 273.061, 'id': '5eb0e4cab6c3bb0006eeb231'}\n",
      "Response: {'dragon': {'capsule': None, 'mass_returned_kg': None, 'mass_returned_lbs': None, 'flight_time_sec': None, 'manifest': None, 'water_landing': None, 'land_landing': None}, 'name': 'Nusantara Satu (PSN-6)', 'type': 'Satellite', 'reused': False, 'launch': '5eb87d2affd86e000604b374', 'customers': ['Pasifik Satelit Nusantara'], 'norad_ids': [44048], 'nationalities': ['Indonesia'], 'manufacturers': ['SSL'], 'mass_kg': 5000, 'mass_lbs': 11023.11, 'orbit': 'GTO', 'reference_system': 'geocentric', 'regime': 'geostationary', 'longitude': 146, 'semi_major_axis_km': 42165.211, 'eccentricity': 0.000191, 'periapsis_km': 35779.023, 'apoapsis_km': 35795.13, 'inclination_deg': 0.0138, 'period_min': 1436.121, 'lifespan_years': 15, 'epoch': '2022-11-30T07:22:42.000Z', 'mean_motion': 1.00270075, 'raan': 314.7645, 'arg_of_pericenter': 289.0212, 'mean_anomaly': 82.0756, 'id': '5eb0e4cab6c3bb0006eeb232'}\n",
      "Response: {'dragon': {'capsule': None, 'mass_returned_kg': None, 'mass_returned_lbs': None, 'flight_time_sec': None, 'manifest': None, 'water_landing': None, 'land_landing': None}, 'name': 'S5', 'type': 'Satellite', 'reused': False, 'launch': '5eb87d2affd86e000604b374', 'customers': ['Air Force Research Laboratory'], 'norad_ids': [], 'nationalities': ['United States'], 'manufacturers': ['Applied Defense Systems'], 'mass_kg': 60, 'mass_lbs': 132.28, 'orbit': 'GTO', 'reference_system': 'geocentric', 'regime': 'geostationary', 'longitude': None, 'semi_major_axis_km': None, 'eccentricity': None, 'periapsis_km': None, 'apoapsis_km': None, 'inclination_deg': None, 'period_min': None, 'lifespan_years': None, 'epoch': None, 'mean_motion': None, 'raan': None, 'arg_of_pericenter': None, 'mean_anomaly': None, 'id': '5eb0e4cab6c3bb0006eeb233'}\n",
      "Response: {'dragon': {'capsule': None, 'mass_returned_kg': None, 'mass_returned_lbs': None, 'flight_time_sec': None, 'manifest': None, 'water_landing': None, 'land_landing': None}, 'name': 'Beresheet', 'type': 'Lander', 'reused': False, 'launch': '5eb87d2affd86e000604b374', 'customers': ['SpaceIL'], 'norad_ids': [44049], 'nationalities': ['Israel'], 'manufacturers': ['SSL'], 'mass_kg': 585, 'mass_lbs': 1289.7, 'orbit': 'GTO', 'reference_system': 'geocentric', 'regime': 'highly-elliptical', 'longitude': None, 'semi_major_axis_km': 210769.268, 'eccentricity': 0.9637541, 'periapsis_km': 1261.386, 'apoapsis_km': 407520.879, 'inclination_deg': 25.0088, 'period_min': 16049.838, 'lifespan_years': 0.00547945, 'epoch': '2019-03-20T20:30:00.000Z', 'mean_motion': 0.08972053, 'raan': 10.5463, 'arg_of_pericenter': 181.7585, 'mean_anomaly': 43.0154, 'id': '5eb0e4cab6c3bb0006eeb234'}\n",
      "Response: {'dragon': {'capsule': '5e9e2c5df35918b1063b2671', 'mass_returned_kg': None, 'mass_returned_lbs': None, 'flight_time_sec': 539765, 'manifest': None, 'water_landing': True, 'land_landing': False}, 'name': 'CCtCap Demo Mission 1', 'type': 'Crew Dragon', 'reused': False, 'launch': '5eb87d2bffd86e000604b375', 'customers': ['NASA (CCtCap)'], 'norad_ids': [44063], 'nationalities': ['United States'], 'manufacturers': ['SpaceX'], 'mass_kg': 12259, 'mass_lbs': 27026.47, 'orbit': 'ISS', 'reference_system': 'geocentric', 'regime': 'low-earth', 'longitude': None, 'semi_major_axis_km': 6781.274, 'eccentricity': 0.0012936, 'periapsis_km': 394.367, 'apoapsis_km': 411.911, 'inclination_deg': 51.6381, 'period_min': 92.624, 'lifespan_years': None, 'epoch': '2019-03-08T08:52:08.000Z', 'mean_motion': 15.54661212, 'raan': 142.4692, 'arg_of_pericenter': 169.6921, 'mean_anomaly': 292.6127, 'id': '5eb0e4cbb6c3bb0006eeb235'}\n",
      "Response: {'dragon': {'capsule': None, 'mass_returned_kg': None, 'mass_returned_lbs': None, 'flight_time_sec': None, 'manifest': None, 'water_landing': None, 'land_landing': None}, 'name': 'ArabSat 6A', 'type': 'Satellite', 'reused': False, 'launch': '5eb87d2dffd86e000604b376', 'customers': ['Arabsat'], 'norad_ids': [44186], 'nationalities': ['Saudi Arabia'], 'manufacturers': ['Lockheed Martin'], 'mass_kg': 6000, 'mass_lbs': 13227.74, 'orbit': 'GTO', 'reference_system': 'geocentric', 'regime': 'geostationary', 'longitude': 30.5, 'semi_major_axis_km': 42164.927, 'eccentricity': 0.0007362, 'periapsis_km': 35755.75, 'apoapsis_km': 35817.834, 'inclination_deg': 0.0385, 'period_min': 1436.107, 'lifespan_years': 15, 'epoch': '2022-11-30T10:56:03.000Z', 'mean_motion': 1.0027109, 'raan': 337.2445, 'arg_of_pericenter': 288.5399, 'mean_anomaly': 358.0535, 'id': '5eb0e4cbb6c3bb0006eeb236'}\n",
      "Response: {'dragon': {'capsule': '5e9e2c5cf3591869b63b2670', 'mass_returned_kg': 1905.1, 'mass_returned_lbs': 4200, 'flight_time_sec': 2592000, 'manifest': 'https://www.nasa.gov/sites/default/files/atoms/files/spacex_crs-17_mission_overview.pdf', 'water_landing': True, 'land_landing': False}, 'name': 'CRS-17', 'type': 'Dragon 1.1', 'reused': True, 'launch': '5eb87d2effd86e000604b377', 'customers': ['NASA (CRS)'], 'norad_ids': [44222], 'nationalities': ['United States'], 'manufacturers': ['SpaceX'], 'mass_kg': 2482, 'mass_lbs': 5472, 'orbit': 'ISS', 'reference_system': 'geocentric', 'regime': 'low-earth', 'longitude': None, 'semi_major_axis_km': 6784.509, 'eccentricity': 0.0015208, 'periapsis_km': 396.056, 'apoapsis_km': 416.692, 'inclination_deg': 51.6386, 'period_min': 92.69, 'lifespan_years': None, 'epoch': '2019-06-03T18:56:35.000Z', 'mean_motion': 15.53549418, 'raan': 67.8039, 'arg_of_pericenter': 3.7579, 'mean_anomaly': 111.5799, 'id': '5eb0e4cbb6c3bb0006eeb237'}\n",
      "Response: {'dragon': {'capsule': None, 'mass_returned_kg': None, 'mass_returned_lbs': None, 'flight_time_sec': None, 'manifest': None, 'water_landing': None, 'land_landing': None}, 'name': 'Starlink v0.9', 'type': 'Satellite', 'reused': False, 'launch': '5eb87d30ffd86e000604b378', 'customers': ['SpaceX'], 'norad_ids': [44235, 44236, 44237, 44238, 44239, 44240, 44241, 44242, 44243, 44244, 44245, 44246, 44247, 44248, 44249, 44250, 44251, 44252, 44253, 44254, 44255, 44256, 44257, 44258, 44259, 44260, 44261, 44262, 44263, 44264, 44265, 44266, 44267, 44268, 44269, 44270, 44271, 44272, 44273, 44274, 44275, 44276, 44277, 44278, 44279, 44280, 44281, 44282, 44283, 44284, 44285, 44286, 44287, 44288, 44289, 44290, 44291, 44292, 44293, 44294], 'nationalities': ['United States'], 'manufacturers': ['SpaceX'], 'mass_kg': 13200, 'mass_lbs': 29101, 'orbit': 'VLEO', 'reference_system': 'geocentric', 'regime': 'very-low-earth', 'longitude': None, 'semi_major_axis_km': 6525.788, 'eccentricity': 0.0009041, 'periapsis_km': 141.753, 'apoapsis_km': 153.553, 'inclination_deg': 52.9736, 'period_min': 87.439, 'lifespan_years': None, 'epoch': '2020-10-01T07:31:19.000Z', 'mean_motion': 16.46847225, 'raan': 36.3928, 'arg_of_pericenter': 295.9879, 'mean_anomaly': 160.3065, 'id': '5eb0e4cbb6c3bb0006eeb238'}\n",
      "Response: {'dragon': {'capsule': None, 'mass_returned_kg': None, 'mass_returned_lbs': None, 'flight_time_sec': None, 'manifest': None, 'water_landing': None, 'land_landing': None}, 'name': 'RADARSAT Constellation', 'type': 'Satellite', 'reused': False, 'launch': '5eb87d31ffd86e000604b379', 'customers': ['CSA'], 'norad_ids': [44322, 44323, 44324], 'nationalities': ['Canada'], 'manufacturers': ['Maxar Technologies'], 'mass_kg': 1425, 'mass_lbs': 3141.59, 'orbit': 'SSO', 'reference_system': 'geocentric', 'regime': 'sun-synchronous', 'longitude': None, 'semi_major_axis_km': 6967.995, 'eccentricity': 0.0001552, 'periapsis_km': 588.779, 'apoapsis_km': 590.941, 'inclination_deg': 97.7591, 'period_min': 96.476, 'lifespan_years': None, 'epoch': '2022-11-30T13:00:46.000Z', 'mean_motion': 14.92591694, 'raan': 339.4935, 'arg_of_pericenter': 79.4744, 'mean_anomaly': 280.6618, 'id': '5eb0e4ccb6c3bb0006eeb239'}\n",
      "Response: {'dragon': {'capsule': None, 'mass_returned_kg': None, 'mass_returned_lbs': None, 'flight_time_sec': None, 'manifest': None, 'water_landing': None, 'land_landing': None}, 'name': 'DSX', 'type': 'Satellite', 'reused': False, 'launch': '5eb87d35ffd86e000604b37a', 'customers': ['USAF'], 'norad_ids': [44344], 'nationalities': ['United States'], 'manufacturers': ['Sierra Nevada Corporation'], 'mass_kg': 600, 'mass_lbs': 1322.77, 'orbit': 'MEO', 'reference_system': 'geocentric', 'regime': 'medium-earth', 'longitude': None, 'semi_major_axis_km': 15397.842, 'eccentricity': 0.1976264, 'periapsis_km': 5976.687, 'apoapsis_km': 12062.727, 'inclination_deg': 42.2432, 'period_min': 316.92, 'lifespan_years': None, 'epoch': '2022-11-29T16:26:11.000Z', 'mean_motion': 4.54373472, 'raan': 104.7123, 'arg_of_pericenter': 178.7552, 'mean_anomaly': 181.8684, 'id': '5eb0e4ccb6c3bb0006eeb23a'}\n",
      "Response: {'dragon': {'capsule': None, 'mass_returned_kg': None, 'mass_returned_lbs': None, 'flight_time_sec': None, 'manifest': None, 'water_landing': None, 'land_landing': None}, 'name': 'COSMIC-2', 'type': 'Satellite', 'reused': False, 'launch': '5eb87d35ffd86e000604b37a', 'customers': ['NOAA', 'NASA', 'Taiwan'], 'norad_ids': [], 'nationalities': ['United States'], 'manufacturers': ['National Space Organization'], 'mass_kg': 1668, 'mass_lbs': 3677.3, 'orbit': 'LEO', 'reference_system': 'geocentric', 'regime': 'low-earth', 'longitude': None, 'semi_major_axis_km': None, 'eccentricity': None, 'periapsis_km': None, 'apoapsis_km': None, 'inclination_deg': None, 'period_min': None, 'lifespan_years': None, 'epoch': None, 'mean_motion': None, 'raan': None, 'arg_of_pericenter': None, 'mean_anomaly': None, 'id': '5eb0e4ccb6c3bb0006eeb23b'}\n",
      "Response: {'dragon': {'capsule': None, 'mass_returned_kg': None, 'mass_returned_lbs': None, 'flight_time_sec': None, 'manifest': None, 'water_landing': None, 'land_landing': None}, 'name': 'GPIM', 'type': 'Satellite', 'reused': False, 'launch': '5eb87d35ffd86e000604b37a', 'customers': ['NASA'], 'norad_ids': [], 'nationalities': ['United States'], 'manufacturers': ['Ball Aerospace & Technologies Corp'], 'mass_kg': 180, 'mass_lbs': 396, 'orbit': 'LEO', 'reference_system': 'geocentric', 'regime': 'low-earth', 'longitude': None, 'semi_major_axis_km': None, 'eccentricity': None, 'periapsis_km': None, 'apoapsis_km': None, 'inclination_deg': None, 'period_min': None, 'lifespan_years': None, 'epoch': None, 'mean_motion': None, 'raan': None, 'arg_of_pericenter': None, 'mean_anomaly': None, 'id': '5eb0e4ccb6c3bb0006eeb23c'}\n",
      "Response: {'dragon': {'capsule': None, 'mass_returned_kg': None, 'mass_returned_lbs': None, 'flight_time_sec': None, 'manifest': None, 'water_landing': None, 'land_landing': None}, 'name': 'Oculus-ASR', 'type': 'Satellite', 'reused': False, 'launch': '5eb87d35ffd86e000604b37a', 'customers': ['Michigan Tech'], 'norad_ids': [44356], 'nationalities': ['United States'], 'manufacturers': ['Michigan Tech'], 'mass_kg': 70, 'mass_lbs': 154, 'orbit': 'LEO', 'reference_system': 'geocentric', 'regime': 'low-earth', 'longitude': None, 'semi_major_axis_km': 6569.509, 'eccentricity': 0.0008789, 'periapsis_km': 185.6, 'apoapsis_km': 197.148, 'inclination_deg': 28.4976, 'period_min': 88.32, 'lifespan_years': None, 'epoch': '2021-03-08T16:58:30.000Z', 'mean_motion': 16.30434726, 'raan': 281.2609, 'arg_of_pericenter': 191.386, 'mean_anomaly': 168.6564, 'id': '5eb0e4ccb6c3bb0006eeb23d'}\n",
      "Response: {'dragon': {'capsule': None, 'mass_returned_kg': None, 'mass_returned_lbs': None, 'flight_time_sec': None, 'manifest': None, 'water_landing': None, 'land_landing': None}, 'name': 'OTB 1', 'type': 'Satellite', 'reused': False, 'launch': '5eb87d35ffd86e000604b37a', 'customers': ['General Atomics'], 'norad_ids': [44341], 'nationalities': ['United States'], 'manufacturers': ['Surrey Satellite Technology-US LLC'], 'mass_kg': 138, 'mass_lbs': 304, 'orbit': 'LEO', 'reference_system': 'geocentric', 'regime': 'low-earth', 'longitude': None, 'semi_major_axis_km': 7093.305, 'eccentricity': 0.0011685, 'periapsis_km': 706.882, 'apoapsis_km': 723.459, 'inclination_deg': 23.9971, 'period_min': 99.091, 'lifespan_years': None, 'epoch': '2022-11-30T09:53:30.000Z', 'mean_motion': 14.53214682, 'raan': 234.3467, 'arg_of_pericenter': 213.5353, 'mean_anomaly': 146.4399, 'id': '5eb0e4ccb6c3bb0006eeb23e'}\n",
      "Response: {'dragon': {'capsule': None, 'mass_returned_kg': None, 'mass_returned_lbs': None, 'flight_time_sec': None, 'manifest': None, 'water_landing': None, 'land_landing': None}, 'name': 'NPSAT 1', 'type': 'Satellite', 'reused': False, 'launch': '5eb87d35ffd86e000604b37a', 'customers': ['Naval Postgrad School'], 'norad_ids': [44340], 'nationalities': ['United States'], 'manufacturers': ['Naval Postgrad School'], 'mass_kg': 86, 'mass_lbs': 189, 'orbit': 'LEO', 'reference_system': 'geocentric', 'regime': 'low-earth', 'longitude': None, 'semi_major_axis_km': 7088.392, 'eccentricity': 0.0010748, 'periapsis_km': 702.638, 'apoapsis_km': 717.876, 'inclination_deg': 24.0005, 'period_min': 98.988, 'lifespan_years': None, 'epoch': '2022-11-30T10:14:08.000Z', 'mean_motion': 14.54725913, 'raan': 231.6271, 'arg_of_pericenter': 217.0671, 'mean_anomaly': 142.9079, 'id': '5eb0e4cdb6c3bb0006eeb23f'}\n",
      "Response: {'dragon': {'capsule': None, 'mass_returned_kg': None, 'mass_returned_lbs': None, 'flight_time_sec': None, 'manifest': None, 'water_landing': None, 'land_landing': None}, 'name': 'Prox-1', 'type': 'Satellite', 'reused': False, 'launch': '5eb87d35ffd86e000604b37a', 'customers': ['Georgia Tech'], 'norad_ids': [44339], 'nationalities': ['United States'], 'manufacturers': ['Georgia Tech'], 'mass_kg': 71, 'mass_lbs': 156, 'orbit': 'LEO', 'reference_system': 'geocentric', 'regime': 'low-earth', 'longitude': None, 'semi_major_axis_km': 7083.51, 'eccentricity': 0.0010566, 'periapsis_km': 697.89, 'apoapsis_km': 712.859, 'inclination_deg': 23.9997, 'period_min': 98.885, 'lifespan_years': None, 'epoch': '2022-11-30T09:05:20.000Z', 'mean_motion': 14.56230223, 'raan': 225.18, 'arg_of_pericenter': 234.7421, 'mean_anomaly': 125.2082, 'id': '5eb0e4cdb6c3bb0006eeb240'}\n",
      "Response: {'dragon': {'capsule': None, 'mass_returned_kg': None, 'mass_returned_lbs': None, 'flight_time_sec': None, 'manifest': None, 'water_landing': None, 'land_landing': None}, 'name': 'LightSail-B', 'type': 'Satellite', 'reused': False, 'launch': '5eb87d35ffd86e000604b37a', 'customers': ['Planetary Society'], 'norad_ids': [44339], 'nationalities': ['United States'], 'manufacturers': ['Planetary Society'], 'mass_kg': 5, 'mass_lbs': 11, 'orbit': 'LEO', 'reference_system': 'geocentric', 'regime': 'low-earth', 'longitude': None, 'semi_major_axis_km': 7083.51, 'eccentricity': 0.0010566, 'periapsis_km': 697.89, 'apoapsis_km': 712.859, 'inclination_deg': 23.9997, 'period_min': 98.885, 'lifespan_years': None, 'epoch': '2022-11-30T09:05:20.000Z', 'mean_motion': 14.56230223, 'raan': 225.18, 'arg_of_pericenter': 234.7421, 'mean_anomaly': 125.2082, 'id': '5eb0e4cdb6c3bb0006eeb241'}\n",
      "Response: {'dragon': {'capsule': None, 'mass_returned_kg': None, 'mass_returned_lbs': None, 'flight_time_sec': None, 'manifest': None, 'water_landing': None, 'land_landing': None}, 'name': 'ARMADILLO', 'type': 'Satellite', 'reused': False, 'launch': '5eb87d35ffd86e000604b37a', 'customers': ['University of Texas'], 'norad_ids': [], 'nationalities': ['United States'], 'manufacturers': ['University of Texas'], 'mass_kg': 4, 'mass_lbs': 8.8, 'orbit': 'LEO', 'reference_system': 'geocentric', 'regime': 'low-earth', 'longitude': None, 'semi_major_axis_km': None, 'eccentricity': None, 'periapsis_km': None, 'apoapsis_km': None, 'inclination_deg': None, 'period_min': None, 'lifespan_years': None, 'epoch': None, 'mean_motion': None, 'raan': None, 'arg_of_pericenter': None, 'mean_anomaly': None, 'id': '5eb0e4cdb6c3bb0006eeb242'}\n",
      "Response: {'dragon': {'capsule': None, 'mass_returned_kg': None, 'mass_returned_lbs': None, 'flight_time_sec': None, 'manifest': None, 'water_landing': None, 'land_landing': None}, 'name': 'FalconSat 7', 'type': 'Satellite', 'reused': False, 'launch': '5eb87d35ffd86e000604b37a', 'customers': ['USAF Academy'], 'norad_ids': [], 'nationalities': ['United States'], 'manufacturers': ['USAF Academy'], 'mass_kg': 5, 'mass_lbs': 11, 'orbit': 'LEO', 'reference_system': 'geocentric', 'regime': 'low-earth', 'longitude': None, 'semi_major_axis_km': None, 'eccentricity': None, 'periapsis_km': None, 'apoapsis_km': None, 'inclination_deg': None, 'period_min': None, 'lifespan_years': None, 'epoch': None, 'mean_motion': None, 'raan': None, 'arg_of_pericenter': None, 'mean_anomaly': None, 'id': '5eb0e4cdb6c3bb0006eeb243'}\n",
      "Response: {'dragon': {'capsule': None, 'mass_returned_kg': None, 'mass_returned_lbs': None, 'flight_time_sec': None, 'manifest': None, 'water_landing': None, 'land_landing': None}, 'name': 'E-TBEx A & B', 'type': 'Satellite', 'reused': False, 'launch': '5eb87d35ffd86e000604b37a', 'customers': ['SRI International'], 'norad_ids': [], 'nationalities': ['United States'], 'manufacturers': ['SRI International'], 'mass_kg': 4, 'mass_lbs': 8.8, 'orbit': 'LEO', 'reference_system': 'geocentric', 'regime': 'low-earth', 'longitude': None, 'semi_major_axis_km': None, 'eccentricity': None, 'periapsis_km': None, 'apoapsis_km': None, 'inclination_deg': None, 'period_min': None, 'lifespan_years': None, 'epoch': None, 'mean_motion': None, 'raan': None, 'arg_of_pericenter': None, 'mean_anomaly': None, 'id': '5eb0e4cdb6c3bb0006eeb244'}\n",
      "Response: {'dragon': {'capsule': None, 'mass_returned_kg': None, 'mass_returned_lbs': None, 'flight_time_sec': None, 'manifest': None, 'water_landing': None, 'land_landing': None}, 'name': 'PSat 2', 'type': 'Satellite', 'reused': False, 'launch': '5eb87d35ffd86e000604b37a', 'customers': ['US Naval Academy'], 'norad_ids': [44357], 'nationalities': ['United States'], 'manufacturers': ['US Naval Academy'], 'mass_kg': 2, 'mass_lbs': 4.4, 'orbit': 'LEO', 'reference_system': 'geocentric', 'regime': 'low-earth', 'longitude': None, 'semi_major_axis_km': 6733.357, 'eccentricity': 0.0134398, 'periapsis_km': 264.727, 'apoapsis_km': 445.717, 'inclination_deg': 28.5119, 'period_min': 91.645, 'lifespan_years': None, 'epoch': '2022-11-30T13:06:03.000Z', 'mean_motion': 15.71286072, 'raan': 81.0654, 'arg_of_pericenter': 86.3337, 'mean_anomaly': 275.2629, 'id': '5eb0e4cdb6c3bb0006eeb245'}\n",
      "Response: {'dragon': {'capsule': None, 'mass_returned_kg': None, 'mass_returned_lbs': None, 'flight_time_sec': None, 'manifest': None, 'water_landing': None, 'land_landing': None}, 'name': 'BRICSat 2', 'type': 'Satellite', 'reused': False, 'launch': '5eb87d35ffd86e000604b37a', 'customers': ['US Naval Academy'], 'norad_ids': [], 'nationalities': ['United States'], 'manufacturers': ['US Naval Academy'], 'mass_kg': 1, 'mass_lbs': 2.2, 'orbit': 'LEO', 'reference_system': 'geocentric', 'regime': 'low-earth', 'longitude': None, 'semi_major_axis_km': None, 'eccentricity': None, 'periapsis_km': None, 'apoapsis_km': None, 'inclination_deg': None, 'period_min': None, 'lifespan_years': None, 'epoch': None, 'mean_motion': None, 'raan': None, 'arg_of_pericenter': None, 'mean_anomaly': None, 'id': '5eb0e4ceb6c3bb0006eeb246'}\n",
      "Response: {'dragon': {'capsule': None, 'mass_returned_kg': None, 'mass_returned_lbs': None, 'flight_time_sec': None, 'manifest': None, 'water_landing': None, 'land_landing': None}, 'name': 'TEPCE 1 & 2', 'type': 'Satellite', 'reused': False, 'launch': '5eb87d35ffd86e000604b37a', 'customers': ['Naval Research Lab'], 'norad_ids': [], 'nationalities': ['United States'], 'manufacturers': ['Naval Research Lab'], 'mass_kg': 1.5, 'mass_lbs': 3.3, 'orbit': 'LEO', 'reference_system': 'geocentric', 'regime': 'low-earth', 'longitude': None, 'semi_major_axis_km': None, 'eccentricity': None, 'periapsis_km': None, 'apoapsis_km': None, 'inclination_deg': None, 'period_min': None, 'lifespan_years': None, 'epoch': None, 'mean_motion': None, 'raan': None, 'arg_of_pericenter': None, 'mean_anomaly': None, 'id': '5eb0e4ceb6c3bb0006eeb247'}\n",
      "Response: {'dragon': {'capsule': None, 'mass_returned_kg': None, 'mass_returned_lbs': None, 'flight_time_sec': None, 'manifest': None, 'water_landing': None, 'land_landing': None}, 'name': 'CP9', 'type': 'Satellite', 'reused': False, 'launch': '5eb87d35ffd86e000604b37a', 'customers': ['Cal Poly'], 'norad_ids': [], 'nationalities': ['United States'], 'manufacturers': ['Cal Poly'], 'mass_kg': 1.5, 'mass_lbs': 3.3, 'orbit': 'LEO', 'reference_system': 'geocentric', 'regime': 'low-earth', 'longitude': None, 'semi_major_axis_km': None, 'eccentricity': None, 'periapsis_km': None, 'apoapsis_km': None, 'inclination_deg': None, 'period_min': None, 'lifespan_years': None, 'epoch': None, 'mean_motion': None, 'raan': None, 'arg_of_pericenter': None, 'mean_anomaly': None, 'id': '5eb0e4ceb6c3bb0006eeb248'}\n",
      "Response: {'dragon': {'capsule': None, 'mass_returned_kg': None, 'mass_returned_lbs': None, 'flight_time_sec': None, 'manifest': None, 'water_landing': None, 'land_landing': None}, 'name': 'StangSat', 'type': 'Satellite', 'reused': False, 'launch': '5eb87d35ffd86e000604b37a', 'customers': ['Merrit Island HS'], 'norad_ids': [], 'nationalities': ['United States'], 'manufacturers': ['Merrit Island HS'], 'mass_kg': 1, 'mass_lbs': 2.2, 'orbit': 'LEO', 'reference_system': 'geocentric', 'regime': 'low-earth', 'longitude': None, 'semi_major_axis_km': None, 'eccentricity': None, 'periapsis_km': None, 'apoapsis_km': None, 'inclination_deg': None, 'period_min': None, 'lifespan_years': None, 'epoch': None, 'mean_motion': None, 'raan': None, 'arg_of_pericenter': None, 'mean_anomaly': None, 'id': '5eb0e4ceb6c3bb0006eeb249'}\n",
      "Response: {'dragon': {'capsule': '5e9e2c5cf359188bfb3b266b', 'mass_returned_kg': 1224.7, 'mass_returned_lbs': 2700, 'flight_time_sec': 2665020, 'manifest': 'https://www.nasa.gov/sites/default/files/atoms/files/spacex_crs-18_mision_overview_high_res.pdf', 'water_landing': True, 'land_landing': False}, 'name': 'CRS-18', 'type': 'Dragon 1.1', 'reused': True, 'launch': '5eb87d36ffd86e000604b37b', 'customers': ['NASA (CRS)'], 'norad_ids': [44446], 'nationalities': ['United States'], 'manufacturers': ['SpaceX'], 'mass_kg': 2227.7, 'mass_lbs': 4911.2, 'orbit': 'ISS', 'reference_system': 'geocentric', 'regime': 'low-earth', 'longitude': None, 'semi_major_axis_km': 6783.699, 'eccentricity': 0.0012921, 'periapsis_km': 396.799, 'apoapsis_km': 414.329, 'inclination_deg': 51.6451, 'period_min': 92.674, 'lifespan_years': None, 'epoch': '2019-08-27T17:12:55.000Z', 'mean_motion': 15.53827763, 'raan': 6.4496, 'arg_of_pericenter': 282.6291, 'mean_anomaly': 225.0377, 'id': '5eb0e4ceb6c3bb0006eeb24a'}\n",
      "Response: {'dragon': {'capsule': None, 'mass_returned_kg': None, 'mass_returned_lbs': None, 'flight_time_sec': None, 'manifest': None, 'water_landing': None, 'land_landing': None}, 'name': 'Amos-17', 'type': 'Satellite', 'reused': False, 'launch': '5eb87d37ffd86e000604b37c', 'customers': ['Spacecom'], 'norad_ids': [], 'nationalities': ['Israel'], 'manufacturers': ['Boeing Satellite Systems'], 'mass_kg': 6500, 'mass_lbs': 14330.05, 'orbit': 'GTO', 'reference_system': 'geocentric', 'regime': 'geostationary', 'longitude': 17, 'semi_major_axis_km': None, 'eccentricity': None, 'periapsis_km': None, 'apoapsis_km': None, 'inclination_deg': None, 'period_min': None, 'lifespan_years': 15, 'epoch': None, 'mean_motion': None, 'raan': None, 'arg_of_pericenter': None, 'mean_anomaly': None, 'id': '5eb0e4cfb6c3bb0006eeb24b'}\n",
      "Response: {'dragon': {'capsule': None, 'mass_returned_kg': None, 'mass_returned_lbs': None, 'flight_time_sec': None, 'manifest': None, 'water_landing': None, 'land_landing': None}, 'name': 'Starlink-1', 'type': 'Satellite', 'reused': False, 'launch': '5eb87d39ffd86e000604b37d', 'customers': ['SpaceX'], 'norad_ids': [44713, 44714, 44715, 44716, 44717, 44718, 44719, 44720, 44721, 44722, 44723, 44724, 44725, 44726, 44727, 44728, 44729, 44730, 44731, 44732, 44733, 44734, 44735, 44736, 44737, 44738, 44739, 44740, 44741, 44742, 44743, 44744, 44745, 44746, 44747, 44748, 44749, 44750, 44751, 44752, 44753, 44754, 44755, 44756, 44757, 44758, 44759, 44760, 44761, 44762, 44763, 44764, 44765, 44766, 44767, 44768, 44769, 44770, 44771, 44772], 'nationalities': ['United States'], 'manufacturers': ['SpaceX'], 'mass_kg': 15600, 'mass_lbs': 34392, 'orbit': 'VLEO', 'reference_system': 'geocentric', 'regime': 'very-low-earth', 'longitude': None, 'semi_major_axis_km': 6925.351, 'eccentricity': 0.0001744, 'periapsis_km': 546.009, 'apoapsis_km': 548.424, 'inclination_deg': 53.0565, 'period_min': 95.592, 'lifespan_years': None, 'epoch': '2022-11-30T11:40:40.000Z', 'mean_motion': 15.06399078, 'raan': 152.107, 'arg_of_pericenter': 69.0519, 'mean_anomaly': 291.0657, 'id': '5eb0e4cfb6c3bb0006eeb24c'}\n",
      "Response: {'dragon': {'capsule': '5e9e2c5bf3591880643b2669', 'mass_returned_kg': 1633, 'mass_returned_lbs': 3732, 'flight_time_sec': 2577240, 'manifest': 'https://www.nasa.gov/sites/default/files/atoms/files/spacex_crs-19_mission_overview.pdf', 'water_landing': True, 'land_landing': False}, 'name': 'CRS-19', 'type': 'Dragon 1.1', 'reused': True, 'launch': '5eb87d39ffd86e000604b37e', 'customers': ['NASA (CRS)'], 'norad_ids': [44821], 'nationalities': ['United States'], 'manufacturers': ['SpaceX'], 'mass_kg': 5000, 'mass_lbs': 11023, 'orbit': 'ISS', 'reference_system': 'geocentric', 'regime': 'low-earth', 'longitude': None, 'semi_major_axis_km': 6796.2, 'eccentricity': 0.0005159, 'periapsis_km': 414.559, 'apoapsis_km': 421.571, 'inclination_deg': 51.6453, 'period_min': 92.93, 'lifespan_years': None, 'epoch': '2020-01-06T13:22:06.000Z', 'mean_motion': 15.49542542, 'raan': 73.183, 'arg_of_pericenter': 105.4393, 'mean_anomaly': 49.5527, 'id': '5eb0e4cfb6c3bb0006eeb24d'}\n",
      "Response: {'dragon': {'capsule': None, 'mass_returned_kg': None, 'mass_returned_lbs': None, 'flight_time_sec': None, 'manifest': None, 'water_landing': None, 'land_landing': None}, 'name': 'JCSat 18 / Kacific 1', 'type': 'Satellite', 'reused': False, 'launch': '5eb87d3bffd86e000604b37f', 'customers': ['SKY Perfect JSAT Corporation', 'Kacific Broadband Satellites Pte Ltd'], 'norad_ids': [44868], 'nationalities': ['Japan'], 'manufacturers': ['Boeing Satellite Systems'], 'mass_kg': 6800, 'mass_lbs': 14991.43, 'orbit': 'GTO', 'reference_system': 'geocentric', 'regime': 'geostationary', 'longitude': None, 'semi_major_axis_km': 42165.137, 'eccentricity': 1.22e-05, 'periapsis_km': 35786.488, 'apoapsis_km': 35787.516, 'inclination_deg': 0.0446, 'period_min': 1436.118, 'lifespan_years': 15, 'epoch': '2022-11-30T13:35:42.000Z', 'mean_motion': 1.0027034, 'raan': 125.0645, 'arg_of_pericenter': 63.0107, 'mean_anomaly': 235.3046, 'id': '5eb0e4cfb6c3bb0006eeb24e'}\n",
      "Response: {'dragon': {'capsule': None, 'mass_returned_kg': None, 'mass_returned_lbs': None, 'flight_time_sec': None, 'manifest': None, 'water_landing': None, 'land_landing': None}, 'name': 'Starlink-2', 'type': 'Satellite', 'reused': False, 'launch': '5eb87d3cffd86e000604b380', 'customers': ['SpaceX'], 'norad_ids': [44914, 44915, 44916, 44917, 44918, 44919, 44920, 44921, 44922, 44923, 44924, 44925, 44926, 44927, 44928, 44929, 44930, 44931, 44932, 44933, 44934, 44935, 44936, 44937, 44938, 44939, 44940, 44941, 44942, 44943, 44944, 44945, 44946, 44947, 44948, 44949, 44950, 44951, 44952, 44953, 44954, 44955, 44956, 44957, 44958, 44959, 44960, 44961, 44962, 44963, 44964, 44965, 44966, 44967, 44968, 44969, 44970, 44971, 44972, 44973], 'nationalities': ['United States'], 'manufacturers': ['SpaceX'], 'mass_kg': 15600, 'mass_lbs': 34392, 'orbit': 'VLEO', 'reference_system': 'geocentric', 'regime': 'very-low-earth', 'longitude': None, 'semi_major_axis_km': 6925.365, 'eccentricity': 0.0001762, 'periapsis_km': 546.01, 'apoapsis_km': 548.451, 'inclination_deg': 53.0563, 'period_min': 95.592, 'lifespan_years': None, 'epoch': '2022-11-30T10:43:39.000Z', 'mean_motion': 15.06394543, 'raan': 312.2737, 'arg_of_pericenter': 62.834, 'mean_anomaly': 297.2829, 'id': '5eb0e4cfb6c3bb0006eeb24f'}\n",
      "Response: {'dragon': {'capsule': '5e9e2c5df359184c9a3b2672', 'mass_returned_kg': None, 'mass_returned_lbs': None, 'flight_time_sec': None, 'manifest': None, 'water_landing': True, 'land_landing': False}, 'name': 'Crew Dragon In Flight Abort Test', 'type': 'Crew Dragon', 'reused': False, 'launch': '5eb87d3dffd86e000604b381', 'customers': ['NASA (CCtCap)'], 'norad_ids': [], 'nationalities': ['United States'], 'manufacturers': ['SpaceX'], 'mass_kg': None, 'mass_lbs': None, 'orbit': 'SO', 'reference_system': 'geocentric', 'regime': 'sub-orbital', 'longitude': None, 'semi_major_axis_km': None, 'eccentricity': None, 'periapsis_km': None, 'apoapsis_km': None, 'inclination_deg': None, 'period_min': None, 'lifespan_years': None, 'epoch': None, 'mean_motion': None, 'raan': None, 'arg_of_pericenter': None, 'mean_anomaly': None, 'id': '5eb0e4d0b6c3bb0006eeb250'}\n",
      "Response: {'dragon': {'capsule': None, 'mass_returned_kg': None, 'mass_returned_lbs': None, 'flight_time_sec': None, 'manifest': None, 'water_landing': None, 'land_landing': None}, 'name': 'Starlink-3', 'type': 'Satellite', 'reused': False, 'launch': '5eb87d3fffd86e000604b382', 'customers': ['SpaceX'], 'norad_ids': [45044, 45045, 45046, 45047, 45048, 45049, 45050, 45051, 45052, 45053, 45054, 45055, 45056, 45057, 45058, 45059, 45060, 45061, 45062, 45063, 45064, 45065, 45066, 45067, 45068, 45069, 45070, 45071, 45072, 45073, 45074, 45075, 45076, 45077, 45078, 45079, 45080, 45081, 45082, 45083, 45084, 45085, 45086, 45087, 45088, 45089, 45090, 45091, 45092, 45093, 45094, 45095, 45096, 45097, 45098, 45099, 45100, 45101, 45102, 45103], 'nationalities': ['United States'], 'manufacturers': ['SpaceX'], 'mass_kg': 15600, 'mass_lbs': 34392, 'orbit': 'VLEO', 'reference_system': 'geocentric', 'regime': 'very-low-earth', 'longitude': None, 'semi_major_axis_km': 6925.36, 'eccentricity': 0.0001704, 'periapsis_km': 546.045, 'apoapsis_km': 548.405, 'inclination_deg': 53.0548, 'period_min': 95.592, 'lifespan_years': None, 'epoch': '2022-11-30T03:33:43.000Z', 'mean_motion': 15.06396244, 'raan': 233.6086, 'arg_of_pericenter': 58.6593, 'mean_anomaly': 301.4563, 'id': '5eb0e4d0b6c3bb0006eeb251'}\n",
      "Response: {'dragon': {'capsule': None, 'mass_returned_kg': None, 'mass_returned_lbs': None, 'flight_time_sec': None, 'manifest': None, 'water_landing': None, 'land_landing': None}, 'name': 'Starlink-4', 'type': 'Satellite', 'reused': False, 'launch': '5eb87d41ffd86e000604b383', 'customers': ['SpaceX'], 'norad_ids': [], 'nationalities': ['United States'], 'manufacturers': ['SpaceX'], 'mass_kg': 15600, 'mass_lbs': 34392, 'orbit': 'VLEO', 'reference_system': 'geocentric', 'regime': 'very-low-earth', 'longitude': None, 'semi_major_axis_km': None, 'eccentricity': None, 'periapsis_km': None, 'apoapsis_km': None, 'inclination_deg': None, 'period_min': None, 'lifespan_years': None, 'epoch': None, 'mean_motion': None, 'raan': None, 'arg_of_pericenter': None, 'mean_anomaly': None, 'id': '5eb0e4d0b6c3bb0006eeb252'}\n",
      "Response: {'dragon': {'capsule': '5e9e2c5cf359185d753b266f', 'mass_returned_kg': 1814.4, 'mass_returned_lbs': 4000, 'flight_time_sec': 2508480, 'manifest': 'https://www.nasa.gov/sites/default/files/atoms/files/spacex_crs-20_mission_overview.pdf', 'water_landing': True, 'land_landing': False}, 'name': 'CRS-20', 'type': 'Dragon 1.1', 'reused': True, 'launch': '5eb87d42ffd86e000604b384', 'customers': ['NASA (CRS)'], 'norad_ids': [45341], 'nationalities': ['United States'], 'manufacturers': ['SpaceX'], 'mass_kg': 1977, 'mass_lbs': 4358.539, 'orbit': 'ISS', 'reference_system': 'geocentric', 'regime': 'low-earth', 'longitude': None, 'semi_major_axis_km': 6793.753, 'eccentricity': 0.0010224, 'periapsis_km': 408.672, 'apoapsis_km': 422.564, 'inclination_deg': 51.6432, 'period_min': 92.88, 'lifespan_years': None, 'epoch': '2020-04-07T15:36:40.000Z', 'mean_motion': 15.50379704, 'raan': 337.5161, 'arg_of_pericenter': 31.3734, 'mean_anomaly': 354.3442, 'id': '5eb0e4d0b6c3bb0006eeb253'}\n",
      "Response: {'dragon': {'capsule': None, 'mass_returned_kg': None, 'mass_returned_lbs': None, 'flight_time_sec': None, 'manifest': None, 'water_landing': None, 'land_landing': None}, 'name': 'Starlink-5', 'type': 'Satellite', 'reused': False, 'launch': '5eb87d43ffd86e000604b385', 'customers': ['SpaceX'], 'norad_ids': [45178, 45179, 45180, 45181, 45182, 45183, 45184, 45185, 45186, 45187, 45188, 45189, 45190, 45191, 45192, 45193, 45194, 45195, 45196, 45197, 45198, 45199, 45200, 45201, 45202, 45203, 45204, 45205, 45206, 45207, 45208, 45209, 45210, 45211, 45212, 45213, 45214, 45215, 45216, 45217, 45218, 45219, 45220, 45221, 45222, 45223, 45224, 45225, 45226, 45227, 45228, 45229, 45230, 45231, 45232, 45233, 45234, 45235, 45236, 45237], 'nationalities': ['United States'], 'manufacturers': ['SpaceX'], 'mass_kg': 15600, 'mass_lbs': 34392, 'orbit': 'VLEO', 'reference_system': 'geocentric', 'regime': 'very-low-earth', 'longitude': None, 'semi_major_axis_km': 6925.389, 'eccentricity': 0.0001673, 'periapsis_km': 546.096, 'apoapsis_km': 548.413, 'inclination_deg': 53.0551, 'period_min': 95.593, 'lifespan_years': None, 'epoch': '2022-11-30T12:11:14.000Z', 'mean_motion': 15.0638675, 'raan': 12.0007, 'arg_of_pericenter': 76.2432, 'mean_anomaly': 283.8743, 'id': '5eb0e4d0b6c3bb0006eeb254'}\n",
      "Response: {'dragon': {'capsule': None, 'mass_returned_kg': None, 'mass_returned_lbs': None, 'flight_time_sec': None, 'manifest': None, 'water_landing': None, 'land_landing': None}, 'name': 'Starlink-6', 'type': 'Satellite', 'reused': False, 'launch': '5eb87d44ffd86e000604b386', 'customers': ['SpaceX'], 'norad_ids': [72000], 'nationalities': ['United States'], 'manufacturers': ['SpaceX'], 'mass_kg': 15600, 'mass_lbs': 34392, 'orbit': 'VLEO', 'reference_system': 'geocentric', 'regime': 'very-low-earth', 'longitude': None, 'semi_major_axis_km': None, 'eccentricity': None, 'periapsis_km': None, 'apoapsis_km': None, 'inclination_deg': None, 'period_min': None, 'lifespan_years': None, 'epoch': None, 'mean_motion': None, 'raan': None, 'arg_of_pericenter': None, 'mean_anomaly': None, 'id': '5eb0e4d1b6c3bb0006eeb255'}\n",
      "Response: {'dragon': {'capsule': '5e9e2c5df359188aba3b2676', 'mass_returned_kg': 150, 'mass_returned_lbs': 330.7, 'flight_time_sec': 5527500, 'manifest': None, 'water_landing': True, 'land_landing': False}, 'name': 'CCtCap Demo Mission 2', 'type': 'Crew Dragon', 'reused': False, 'launch': '5eb87d46ffd86e000604b388', 'customers': ['NASA (CCtCap)'], 'norad_ids': [45623], 'nationalities': ['United States'], 'manufacturers': ['SpaceX'], 'mass_kg': 9525, 'mass_lbs': 20999.03, 'orbit': 'ISS', 'reference_system': 'geocentric', 'regime': 'low-earth', 'longitude': None, 'semi_major_axis_km': 6637.784, 'eccentricity': 0.0155448, 'periapsis_km': 156.466, 'apoapsis_km': 362.832, 'inclination_deg': 51.6858, 'period_min': 89.7, 'lifespan_years': None, 'epoch': '2020-08-02T11:41:07.000Z', 'mean_motion': 16.05343597, 'raan': 119.2669, 'arg_of_pericenter': 11.5318, 'mean_anomaly': 170.7584, 'id': '5eb0e4d1b6c3bb0006eeb257'}\n",
      "Response: {'dragon': {'capsule': None, 'mass_returned_kg': None, 'mass_returned_lbs': None, 'flight_time_sec': None, 'manifest': None, 'water_landing': None, 'land_landing': None}, 'name': 'Starlink-7', 'type': 'Satellite', 'reused': False, 'launch': '5eb87d45ffd86e000604b387', 'customers': ['SpaceX'], 'norad_ids': [45657, 45658, 45659, 45660, 45661, 45662, 45663, 45664, 45665, 45666, 45667, 45668, 45669, 45670, 45671, 45672, 45673, 45674, 45675, 45676, 45677, 45678, 45679, 45680, 45681, 45682, 45683, 45684, 45685, 45686, 45687, 45688, 45689, 45690, 45691, 45692, 45693, 45694, 45695, 45696, 45697, 45698, 45699, 45700, 45701, 45702, 45703, 45704, 45705, 45706, 45707, 45708, 45709, 45710, 45711, 45712, 45713, 45714, 45715, 45716], 'nationalities': ['United States'], 'manufacturers': ['SpaceX'], 'mass_kg': 15600, 'mass_lbs': 34392, 'orbit': 'VLEO', 'reference_system': 'geocentric', 'regime': 'very-low-earth', 'longitude': None, 'semi_major_axis_km': 6526.082, 'eccentricity': 0.0028054, 'periapsis_km': 129.639, 'apoapsis_km': 166.255, 'inclination_deg': 53.0001, 'period_min': 87.445, 'lifespan_years': None, 'epoch': '2020-07-14T14:23:37.000Z', 'mean_motion': 16.46735707, 'raan': 319.7129, 'arg_of_pericenter': 181.2741, 'mean_anomaly': 293.9291, 'id': '5eb0e4d1b6c3bb0006eeb256'}\n",
      "Response: {'dragon': {'capsule': None, 'mass_returned_kg': None, 'mass_returned_lbs': None, 'flight_time_sec': None, 'manifest': None, 'water_landing': None, 'land_landing': None}, 'name': 'Starlink-8', 'type': 'Satellite', 'reused': False, 'launch': '5eb87d46ffd86e000604b389', 'customers': ['SpaceX'], 'norad_ids': [45730, 45731, 45732, 45733, 45734, 45735, 45736, 45737, 45738, 45739, 45740, 45741, 45742, 45743, 45744, 45745, 45746, 45747, 45748, 45749, 45750, 45751], 'nationalities': ['United States'], 'manufacturers': ['SpaceX'], 'mass_kg': 15600, 'mass_lbs': 34392, 'orbit': 'VLEO', 'reference_system': 'geocentric', 'regime': 'very-low-earth', 'longitude': None, 'semi_major_axis_km': 6925.372, 'eccentricity': 0.0001931, 'periapsis_km': 545.9, 'apoapsis_km': 548.574, 'inclination_deg': 53.0533, 'period_min': 95.593, 'lifespan_years': None, 'epoch': '2022-11-30T01:30:19.000Z', 'mean_motion': 15.06392326, 'raan': 203.997, 'arg_of_pericenter': 52.2538, 'mean_anomaly': 307.8625, 'id': '5eb0e4d1b6c3bb0006eeb258'}\n",
      "Response: {'dragon': {'capsule': None, 'mass_returned_kg': None, 'mass_returned_lbs': None, 'flight_time_sec': None, 'manifest': None, 'water_landing': None, 'land_landing': None}, 'name': 'GPS III SV03 (Columbus)', 'type': 'Satellite', 'reused': False, 'launch': '5eb87d4affd86e000604b38b', 'customers': ['USAF'], 'norad_ids': [], 'nationalities': ['United States'], 'manufacturers': ['Lockheed Martin'], 'mass_kg': 3880, 'mass_lbs': 8553.94, 'orbit': 'MEO', 'reference_system': None, 'regime': None, 'longitude': None, 'semi_major_axis_km': None, 'eccentricity': None, 'periapsis_km': None, 'apoapsis_km': None, 'inclination_deg': None, 'period_min': None, 'lifespan_years': 15, 'epoch': None, 'mean_motion': None, 'raan': None, 'arg_of_pericenter': None, 'mean_anomaly': None, 'id': '5eb0e4d2b6c3bb0006eeb25c'}\n",
      "Response: {'dragon': {'capsule': None, 'mass_returned_kg': None, 'mass_returned_lbs': None, 'flight_time_sec': None, 'manifest': None, 'water_landing': None, 'land_landing': None}, 'name': 'ANASIS-II', 'type': 'Satellite', 'reused': False, 'launch': '5eb87d50ffd86e000604b394', 'customers': ['South Korea'], 'norad_ids': [], 'nationalities': ['South Korea'], 'manufacturers': ['South Korea'], 'mass_kg': None, 'mass_lbs': None, 'orbit': 'GEO', 'reference_system': 'geocentric', 'regime': 'geosynchronous', 'longitude': None, 'semi_major_axis_km': None, 'eccentricity': None, 'periapsis_km': None, 'apoapsis_km': None, 'inclination_deg': None, 'period_min': None, 'lifespan_years': 15, 'epoch': None, 'mean_motion': None, 'raan': None, 'arg_of_pericenter': None, 'mean_anomaly': None, 'id': '5eb0e4d2b6c3bb0006eeb25b'}\n",
      "Response: {'dragon': {'capsule': None, 'mass_returned_kg': None, 'mass_returned_lbs': None, 'flight_time_sec': None, 'manifest': None, 'water_landing': None, 'land_landing': None}, 'name': 'Starlink-9', 'type': 'Satellite', 'reused': False, 'launch': '5ed9819a1f30554030d45c29', 'customers': ['SpaceX'], 'norad_ids': [45657, 45658, 45659, 45660, 45661, 45662, 45663, 45664, 45665, 45666, 45667, 45668, 45669, 45670, 45671, 45672, 45673, 45674, 45675, 45676, 45677, 45678, 45679, 45680, 45681, 45682, 45683, 45684, 45685, 45686, 45687, 45688, 45689, 45690, 45691, 45692, 45693, 45694, 45695, 45696, 45697, 45698, 45699, 45700, 45701, 45702, 45703, 45704, 45705, 45706, 45707, 45708, 45709, 45710, 45711, 45712, 45713, 45714, 45715, 45716, 45730, 45731, 45732, 45733, 45734, 45735, 45736, 45737, 45738, 45739, 45740, 45741, 45742, 45743, 45744, 45745, 45746, 45747, 45748, 45749, 45750, 45751], 'nationalities': ['United States'], 'manufacturers': ['SpaceX'], 'mass_kg': 15600, 'mass_lbs': 34392, 'orbit': 'VLEO', 'reference_system': 'geocentric', 'regime': 'very-low-earth', 'longitude': None, 'semi_major_axis_km': 6526.082, 'eccentricity': 0.0028054, 'periapsis_km': 129.639, 'apoapsis_km': 166.255, 'inclination_deg': 53.0001, 'period_min': 87.445, 'lifespan_years': None, 'epoch': '2020-07-14T14:23:37.000Z', 'mean_motion': 16.46735707, 'raan': 319.7129, 'arg_of_pericenter': 181.2741, 'mean_anomaly': 293.9291, 'id': '5ed9858b1f30554030d45c3e'}\n",
      "Response: {'dragon': {'capsule': None, 'mass_returned_kg': None, 'mass_returned_lbs': None, 'flight_time_sec': None, 'manifest': None, 'water_landing': None, 'land_landing': None}, 'name': 'BlackSky Global 5-6', 'type': 'Satellite', 'reused': False, 'launch': '5ed9819a1f30554030d45c29', 'customers': ['BlackSky Global'], 'norad_ids': [], 'nationalities': ['United States'], 'manufacturers': ['BlackSky Global'], 'mass_kg': 112, 'mass_lbs': 246.92, 'orbit': 'SSO', 'reference_system': 'geocentric', 'regime': 'sun-synchronous', 'longitude': None, 'semi_major_axis_km': None, 'eccentricity': None, 'periapsis_km': None, 'apoapsis_km': None, 'inclination_deg': None, 'period_min': None, 'lifespan_years': 3, 'epoch': None, 'mean_motion': None, 'raan': None, 'arg_of_pericenter': None, 'mean_anomaly': None, 'id': '5ee522e32f1f3d474c758123'}\n",
      "Response: {'dragon': {'capsule': None, 'mass_returned_kg': None, 'mass_returned_lbs': None, 'flight_time_sec': None, 'manifest': None, 'water_landing': None, 'land_landing': None}, 'name': 'Starlink-10', 'type': 'Satellite', 'reused': False, 'launch': '5ed981d91f30554030d45c2a', 'customers': ['SpaceX'], 'norad_ids': [45730, 45731, 45732, 45733, 45734, 45735, 45736, 45737, 45738, 45739, 45740, 45741, 45742, 45743, 45744, 45745, 45746, 45747, 45748, 45749, 45750, 45751], 'nationalities': ['United States'], 'manufacturers': ['SpaceX'], 'mass_kg': 15600, 'mass_lbs': 34392, 'orbit': 'VLEO', 'reference_system': 'geocentric', 'regime': 'very-low-earth', 'longitude': None, 'semi_major_axis_km': 6925.372, 'eccentricity': 0.0001931, 'periapsis_km': 545.9, 'apoapsis_km': 548.574, 'inclination_deg': 53.0533, 'period_min': 95.593, 'lifespan_years': None, 'epoch': '2022-11-30T01:30:19.000Z', 'mean_motion': 15.06392326, 'raan': 203.997, 'arg_of_pericenter': 52.2538, 'mean_anomaly': 307.8625, 'id': '5ed9859f1f30554030d45c3f'}\n",
      "Response: {'dragon': {'capsule': None, 'mass_returned_kg': None, 'mass_returned_lbs': None, 'flight_time_sec': None, 'manifest': None, 'water_landing': None, 'land_landing': None}, 'name': 'SAOCOM 1B', 'type': 'Satellite', 'reused': False, 'launch': '5eb87d47ffd86e000604b38a', 'customers': ['CONAE'], 'norad_ids': [], 'nationalities': ['Argentina'], 'manufacturers': [], 'mass_kg': 1600, 'mass_lbs': 3527.396, 'orbit': 'SSO', 'reference_system': 'geocentric', 'regime': 'sun-synchronous', 'longitude': None, 'semi_major_axis_km': None, 'eccentricity': None, 'periapsis_km': None, 'apoapsis_km': None, 'inclination_deg': None, 'period_min': None, 'lifespan_years': None, 'epoch': None, 'mean_motion': None, 'raan': None, 'arg_of_pericenter': None, 'mean_anomaly': None, 'id': '5eb0e4d1b6c3bb0006eeb259'}\n",
      "Response: {'dragon': {'capsule': None, 'mass_returned_kg': None, 'mass_returned_lbs': None, 'flight_time_sec': None, 'manifest': None, 'water_landing': None, 'land_landing': None}, 'name': 'Starlink-11', 'type': 'Satellite', 'reused': False, 'launch': '5ef6a1e90059c33cee4a828a', 'customers': ['SpaceX'], 'norad_ids': [46325, 46326, 46327, 46328, 46329, 46330, 46331, 46332, 46333, 46334, 46335, 46336, 46337, 46338, 46339, 46340, 46341, 46342, 46343, 46344, 46345, 46346, 46347, 46348, 46349, 46350, 46351, 46352, 46353, 46354, 46355, 46356, 46357, 46358, 46359, 46360, 46361, 46362, 46363, 46364, 46365, 46366, 46367, 46368, 46369, 46370, 46371, 46372, 46373, 46374, 46375, 46376, 46377, 46378, 46379, 46380, 46381, 46382, 46383, 46384], 'nationalities': ['United States'], 'manufacturers': ['SpaceX'], 'mass_kg': 15600, 'mass_lbs': 34392, 'orbit': 'VLEO', 'reference_system': 'geocentric', 'regime': 'very-low-earth', 'longitude': None, 'semi_major_axis_km': 6925.37, 'eccentricity': 0.0001886, 'periapsis_km': 545.929, 'apoapsis_km': 548.541, 'inclination_deg': 53.0539, 'period_min': 95.593, 'lifespan_years': None, 'epoch': '2022-11-30T09:55:13.000Z', 'mean_motion': 15.06392923, 'raan': 297.4295, 'arg_of_pericenter': 52.3116, 'mean_anomaly': 307.8044, 'id': '5ef6a4600059c33cee4a829e'}\n",
      "Response: {'dragon': {'capsule': None, 'mass_returned_kg': None, 'mass_returned_lbs': None, 'flight_time_sec': None, 'manifest': None, 'water_landing': None, 'land_landing': None}, 'name': 'Starlink-12', 'type': 'Satellite', 'reused': False, 'launch': '5ef6a2090059c33cee4a828b', 'customers': ['SpaceX'], 'norad_ids': [46532, 46533, 46534, 46535, 46536, 46537, 46538, 46539, 46540, 46541, 46542, 46543, 46544, 46545, 46546, 46547, 46548, 46549, 46550, 46551, 46552, 46553, 46554, 46555, 46556, 46557, 46558, 46559, 46560, 46561, 46562, 46563, 46564, 46565, 46566, 46567, 46568, 46569, 46570, 46571, 46572, 46573, 46574, 46575, 46576, 46577, 46578, 46579, 46580, 46581, 46582, 46583, 46584, 46585, 46586, 46587, 46588, 46589, 46590, 46591], 'nationalities': ['United States'], 'manufacturers': ['SpaceX'], 'mass_kg': 15600, 'mass_lbs': 34392, 'orbit': 'VLEO', 'reference_system': 'geocentric', 'regime': 'very-low-earth', 'longitude': None, 'semi_major_axis_km': 6925.371, 'eccentricity': 0.0001739, 'periapsis_km': 546.032, 'apoapsis_km': 548.441, 'inclination_deg': 53.0554, 'period_min': 95.593, 'lifespan_years': None, 'epoch': '2022-11-30T12:15:13.000Z', 'mean_motion': 15.06392587, 'raan': 141.9932, 'arg_of_pericenter': 62.9195, 'mean_anomaly': 297.1971, 'id': '5ef6a48e0059c33cee4a829f'}\n",
      "Response: {'dragon': {'capsule': None, 'mass_returned_kg': None, 'mass_returned_lbs': None, 'flight_time_sec': None, 'manifest': None, 'water_landing': None, 'land_landing': None}, 'name': 'Starlink-13', 'type': 'Satellite', 'reused': False, 'launch': '5ef6a2bf0059c33cee4a828c', 'customers': ['SpaceX'], 'norad_ids': [46670, 46671, 46672, 46673, 46674, 46675, 46676, 46677, 46678, 46679, 46680, 46681, 46682, 46683, 46684, 46685, 46686, 46687, 46688, 46689, 46690, 46691, 46692, 46693, 46694, 46695, 46696, 46697, 46698, 46699, 46700, 46701, 46702, 46703, 46704, 46705, 46706, 46707, 46708, 46709, 46710, 46711, 46712, 46713, 46714, 46715, 46716, 46717, 46718, 46719, 46720, 46721, 46722, 46723, 46724, 46725, 46726, 46727, 46728, 46729], 'nationalities': ['United States'], 'manufacturers': ['SpaceX'], 'mass_kg': 15600, 'mass_lbs': 34392, 'orbit': 'VLEO', 'reference_system': 'geocentric', 'regime': 'very-low-earth', 'longitude': None, 'semi_major_axis_km': 6575.454, 'eccentricity': 0.0011864, 'periapsis_km': 189.518, 'apoapsis_km': 205.12, 'inclination_deg': 53.0515, 'period_min': 88.439, 'lifespan_years': None, 'epoch': '2020-10-24T20:24:51.000Z', 'mean_motion': 16.28223676, 'raan': 77.8706, 'arg_of_pericenter': 337.4012, 'mean_anomaly': 22.6738, 'id': '5ef6a4d50059c33cee4a82a1'}\n",
      "Response: {'dragon': {'capsule': None, 'mass_returned_kg': None, 'mass_returned_lbs': None, 'flight_time_sec': None, 'manifest': None, 'water_landing': None, 'land_landing': None}, 'name': 'Starlink-14', 'type': 'Satellite', 'reused': False, 'launch': '5ef6a2e70059c33cee4a8293', 'customers': ['SpaceX'], 'norad_ids': [46739, 46740, 46741, 46742, 46743, 46744, 46745, 46746, 46747, 46748, 46749, 46750, 46751, 46752, 46753, 46754, 46755, 46756, 46757, 46758, 46759, 46760, 46761, 46762, 46763, 46764, 46765, 46766, 46767, 46768, 46769, 46770, 46771, 46772, 46773, 46774, 46775, 46776, 46777, 46778, 46779, 46780, 46781, 46782, 46783, 46784, 46785, 46786, 46787, 46788, 46789, 46790, 46791, 46792, 46793, 46794, 46795, 46796, 46797, 46798], 'nationalities': ['United States'], 'manufacturers': ['SpaceX'], 'mass_kg': 15600, 'mass_lbs': 34392, 'orbit': 'VLEO', 'reference_system': 'geocentric', 'regime': 'very-low-earth', 'longitude': None, 'semi_major_axis_km': 6529.676, 'eccentricity': 0.0007949, 'periapsis_km': 146.351, 'apoapsis_km': 156.732, 'inclination_deg': 53.0227, 'period_min': 87.518, 'lifespan_years': None, 'epoch': '2021-07-14T06:47:40.000Z', 'mean_motion': 16.45376551, 'raan': 331.8822, 'arg_of_pericenter': 310.4108, 'mean_anomaly': 50.2494, 'id': '5ef6a4ea0059c33cee4a82a2'}\n",
      "Response: {'dragon': {'capsule': None, 'mass_returned_kg': None, 'mass_returned_lbs': None, 'flight_time_sec': None, 'manifest': None, 'water_landing': None, 'land_landing': None}, 'name': 'GPS III SV04 (Sacagawea)', 'type': 'Satellite', 'reused': False, 'launch': '5eb87d4cffd86e000604b38d', 'customers': ['United States Space Force'], 'norad_ids': [46826], 'nationalities': ['United States'], 'manufacturers': ['Lockheed Martin'], 'mass_kg': 3681, 'mass_lbs': 8115.216, 'orbit': 'MEO', 'reference_system': 'geocentric', 'regime': 'semi-synchronous', 'longitude': None, 'semi_major_axis_km': 26560.231, 'eccentricity': 0.0024554, 'periapsis_km': 20116.88, 'apoapsis_km': 20247.312, 'inclination_deg': 54.4642, 'period_min': 717.972, 'lifespan_years': 15, 'epoch': '2022-11-30T04:47:27.000Z', 'mean_motion': 2.00564932, 'raan': 263.3675, 'arg_of_pericenter': 190.6279, 'mean_anomaly': 344.3908, 'id': '5eb0e4d2b6c3bb0006eeb25e'}\n",
      "Response: {'dragon': {'capsule': '5f6f99fddcfdf403df379709', 'mass_returned_kg': 9616, 'mass_returned_lbs': 21200, 'flight_time_sec': 14450000, 'manifest': None, 'water_landing': True, 'land_landing': None}, 'name': 'Crew-1', 'type': 'Crew Dragon', 'reused': False, 'launch': '5eb87d4dffd86e000604b38e', 'customers': ['NASA (CCtCap)'], 'norad_ids': [46920], 'nationalities': ['United States'], 'manufacturers': ['SpaceX'], 'mass_kg': None, 'mass_lbs': None, 'orbit': 'ISS', 'reference_system': 'geocentric', 'regime': 'low-earth', 'longitude': None, 'semi_major_axis_km': 6786.516, 'eccentricity': 0.0003648, 'periapsis_km': 405.905, 'apoapsis_km': 410.857, 'inclination_deg': 51.6413, 'period_min': 92.732, 'lifespan_years': None, 'epoch': '2021-05-02T03:59:09.000Z', 'mean_motion': 15.52860534, 'raan': 210.3563, 'arg_of_pericenter': 291.1645, 'mean_anomaly': 161.0916, 'id': '5eb0e4d2b6c3bb0006eeb25f'}\n"
     ]
    }
   ],
   "source": [
    "# Call getPayloadData\n",
    "getPayloadData(launch_data)"
   ]
  },
  {
   "cell_type": "code",
   "execution_count": 50,
   "metadata": {},
   "outputs": [
    {
     "name": "stdout",
     "output_type": "stream",
     "text": [
      "Response: {'block': None, 'reuse_count': 0, 'rtls_attempts': 0, 'rtls_landings': 0, 'asds_attempts': 0, 'asds_landings': 0, 'last_update': 'Engine failure at T+33 seconds resulted in loss of vehicle', 'launches': ['5eb87cd9ffd86e000604b32a'], 'serial': 'Merlin1A', 'status': 'lost', 'id': '5e9e289df35918033d3b2623'}\n",
      "Response: {'block': None, 'reuse_count': 0, 'rtls_attempts': 0, 'rtls_landings': 0, 'asds_attempts': 0, 'asds_landings': 0, 'last_update': 'Successful first-stage burn and transition to second stage, maximal altitude 289 km. Harmonic oscillation at T+5 minutes Premature engine shutdown at T+7 min 30 s. Failed to reach orbit.', 'launches': ['5eb87cdaffd86e000604b32b'], 'serial': 'Merlin2A', 'status': 'lost', 'id': '5e9e289ef35918416a3b2624'}\n",
      "Response: {'block': None, 'reuse_count': 0, 'rtls_attempts': 0, 'rtls_landings': 0, 'asds_attempts': 0, 'asds_landings': 0, 'last_update': 'Residual stage-1 thrust led to collision between stage 1 and stage 2.', 'launches': ['5eb87cdbffd86e000604b32c'], 'serial': 'Merlin1C', 'status': 'lost', 'id': '5e9e289ef3591814873b2625'}\n",
      "Response: {'block': None, 'reuse_count': 0, 'rtls_attempts': 0, 'rtls_landings': 0, 'asds_attempts': 0, 'asds_landings': 0, 'last_update': 'Initially scheduled for 23–25 Sep, carried dummy payload – mass simulator, 165 kg (originally intended to be RazakSAT.', 'launches': ['5eb87cdbffd86e000604b32d'], 'serial': 'Merlin2C', 'status': 'lost', 'id': '5e9e289ef3591855dc3b2626'}\n",
      "Response: {'block': None, 'reuse_count': 0, 'rtls_attempts': 0, 'rtls_landings': 0, 'asds_attempts': 0, 'asds_landings': 0, 'last_update': None, 'launches': ['5eb87cdcffd86e000604b32e'], 'serial': 'Merlin3C', 'status': 'lost', 'id': '5e9e289ef359184f103b2627'}\n",
      "Response: {'block': 1, 'reuse_count': 0, 'rtls_attempts': 0, 'rtls_landings': 0, 'asds_attempts': 0, 'asds_landings': 0, 'last_update': 'Stage Expended', 'launches': ['5eb87cddffd86e000604b32f'], 'serial': 'B0003', 'status': 'expended', 'id': '5e9e289ef359185f2b3b2628'}\n",
      "Response: {'block': 1, 'reuse_count': 0, 'rtls_attempts': 0, 'rtls_landings': 0, 'asds_attempts': 0, 'asds_landings': 0, 'last_update': 'First flight of Dragon', 'launches': ['5eb87cdeffd86e000604b330'], 'serial': 'B0004', 'status': 'lost', 'id': '5e9e289ef35918187c3b2629'}\n",
      "Response: {'block': 1, 'reuse_count': 0, 'rtls_attempts': 0, 'rtls_landings': 0, 'asds_attempts': 0, 'asds_landings': 0, 'last_update': None, 'launches': ['5eb87cdfffd86e000604b331'], 'serial': 'B0005', 'status': 'lost', 'id': '5e9e289ef35918f39c3b262a'}\n",
      "Response: {'block': 1, 'reuse_count': 0, 'rtls_attempts': 0, 'rtls_landings': 0, 'asds_attempts': 0, 'asds_landings': 0, 'last_update': 'Suffered engine out at T+1:19 but primary mission successful', 'launches': ['5eb87ce0ffd86e000604b332'], 'serial': 'B0006', 'status': 'lost', 'id': '5e9e289ff3591821a73b262b'}\n",
      "Response: {'block': 1, 'reuse_count': 0, 'rtls_attempts': 0, 'rtls_landings': 0, 'asds_attempts': 0, 'asds_landings': 0, 'last_update': None, 'launches': ['5eb87ce1ffd86e000604b333'], 'serial': 'B0007', 'status': 'lost', 'id': '5e9e289ff3591884e03b262c'}\n",
      "Response: {'block': 1, 'reuse_count': 0, 'rtls_attempts': 0, 'rtls_landings': 0, 'asds_attempts': 0, 'asds_landings': 0, 'last_update': 'First flight of Falcon 9 v1.1 upgrade, first Spacex flight from Vandenberg', 'launches': ['5eb87ce1ffd86e000604b334'], 'serial': 'B1003', 'status': 'lost', 'id': '5e9e289ff359180ae23b262d'}\n",
      "Response: {'block': 1, 'reuse_count': 0, 'rtls_attempts': 0, 'rtls_landings': 0, 'asds_attempts': 0, 'asds_landings': 0, 'last_update': None, 'launches': ['5eb87ce2ffd86e000604b335'], 'serial': 'B1004', 'status': 'lost', 'id': '5e9e289ff35918862c3b262e'}\n",
      "Response: {'block': 1, 'reuse_count': 0, 'rtls_attempts': 0, 'rtls_landings': 0, 'asds_attempts': 0, 'asds_landings': 0, 'last_update': None, 'launches': ['5eb87ce3ffd86e000604b336'], 'serial': 'B1005', 'status': 'lost', 'id': '5e9e289ff3591878603b262f'}\n",
      "Response: {'block': 1, 'reuse_count': 0, 'rtls_attempts': 0, 'rtls_landings': 0, 'asds_attempts': 0, 'asds_landings': 0, 'last_update': 'Broke up after sucessful water landing', 'launches': ['5eb87ce4ffd86e000604b337'], 'serial': 'B1006', 'status': 'lost', 'id': '5e9e289ff3591829343b2630'}\n",
      "Response: {'block': 1, 'reuse_count': 0, 'rtls_attempts': 0, 'rtls_landings': 0, 'asds_attempts': 0, 'asds_landings': 0, 'last_update': 'Broke up after sucessful water landing', 'launches': ['5eb87ce4ffd86e000604b338'], 'serial': 'B1007', 'status': 'lost', 'id': '5e9e28a0f3591870a63b2631'}\n",
      "Response: {'block': 1, 'reuse_count': 0, 'rtls_attempts': 0, 'rtls_landings': 0, 'asds_attempts': 0, 'asds_landings': 0, 'last_update': None, 'launches': ['5eb87ce5ffd86e000604b339'], 'serial': 'B1008', 'status': 'lost', 'id': '5e9e28a0f359186e2e3b2632'}\n",
      "Response: {'block': 1, 'reuse_count': 0, 'rtls_attempts': 0, 'rtls_landings': 0, 'asds_attempts': 0, 'asds_landings': 0, 'last_update': None, 'launches': ['5eb87ce6ffd86e000604b33a'], 'serial': 'B1011', 'status': 'lost', 'id': '5e9e28a0f35918b1bc3b2633'}\n",
      "Response: {'block': 1, 'reuse_count': 0, 'rtls_attempts': 0, 'rtls_landings': 0, 'asds_attempts': 0, 'asds_landings': 0, 'last_update': 'Broke up after sucessful water landing', 'launches': ['5eb87ce7ffd86e000604b33b'], 'serial': 'B1010', 'status': 'lost', 'id': '5e9e28a0f359184a683b2634'}\n",
      "Response: {'block': 1, 'reuse_count': 0, 'rtls_attempts': 0, 'rtls_landings': 0, 'asds_attempts': 0, 'asds_landings': 0, 'last_update': 'Destroyed on impact with droneship, grid fin hydraulic fluid depleted', 'launches': ['5eb87ce8ffd86e000604b33c'], 'serial': 'B1012', 'status': 'lost', 'id': '5e9e28a0f359187a3c3b2635'}\n",
      "Response: {'block': 1, 'reuse_count': 0, 'rtls_attempts': 0, 'rtls_landings': 0, 'asds_attempts': 0, 'asds_landings': 0, 'last_update': 'Broke up after sucessful water landing', 'launches': ['5eb87ceaffd86e000604b33d'], 'serial': 'B1013', 'status': 'lost', 'id': '5e9e28a0f3591885be3b2636'}\n",
      "Response: {'block': 1, 'reuse_count': 0, 'rtls_attempts': 0, 'rtls_landings': 0, 'asds_attempts': 0, 'asds_landings': 0, 'last_update': None, 'launches': ['5eb87ceaffd86e000604b33e'], 'serial': 'B1014', 'status': 'lost', 'id': '5e9e28a0f35918c0893b2637'}\n",
      "Response: {'block': 1, 'reuse_count': 0, 'rtls_attempts': 0, 'rtls_landings': 0, 'asds_attempts': 0, 'asds_landings': 0, 'last_update': 'Destroyed on impact with droneship due to excess lateral velocity - throttle stiction', 'launches': ['5eb87cecffd86e000604b33f'], 'serial': 'B1015', 'status': 'lost', 'id': '5e9e28a1f359186d533b2638'}\n",
      "Response: {'block': 1, 'reuse_count': 0, 'rtls_attempts': 0, 'rtls_landings': 0, 'asds_attempts': 0, 'asds_landings': 0, 'last_update': None, 'launches': ['5eb87cedffd86e000604b340'], 'serial': 'B1016', 'status': 'lost', 'id': '5e9e28a1f35918233f3b2639'}\n",
      "Response: {'block': 1, 'reuse_count': 0, 'rtls_attempts': 0, 'rtls_landings': 0, 'asds_attempts': 0, 'asds_landings': 0, 'last_update': 'RUD at T + 139s - second stage overpressure event due to defective COPV strut heim joint', 'launches': ['5eb87ceeffd86e000604b341'], 'serial': 'B1018', 'status': 'lost', 'id': '5e9e28a1f35918683c3b263a'}\n",
      "Response: {'block': 1, 'reuse_count': 0, 'rtls_attempts': 1, 'rtls_landings': 1, 'asds_attempts': 0, 'asds_landings': 0, 'last_update': 'Retired; permanently displayed at Hawthorne headquarters. ', 'launches': ['5eb87cefffd86e000604b342'], 'serial': 'B1019', 'status': 'inactive', 'id': '5e9e28a1f3591867753b263b'}\n",
      "Response: {'block': 1, 'reuse_count': 0, 'rtls_attempts': 0, 'rtls_landings': 0, 'asds_attempts': 0, 'asds_landings': 0, 'last_update': 'Destroyed after drone ship landing due to landing leg failure', 'launches': ['5eb87cf0ffd86e000604b343'], 'serial': 'B1017', 'status': 'lost', 'id': '5e9e28a1f3591842fa3b263c'}\n",
      "Response: {'block': 1, 'reuse_count': 0, 'rtls_attempts': 0, 'rtls_landings': 0, 'asds_attempts': 0, 'asds_landings': 0, 'last_update': 'Destroyed on Impact with DroneShip (OCISLY) - Excess Velocity, Possible Fuel Exhaustion', 'launches': ['5eb87cf2ffd86e000604b344'], 'serial': 'B1020', 'status': 'lost', 'id': '5e9e28a1f359188def3b263d'}\n",
      "Response: {'block': 2, 'reuse_count': 1, 'rtls_attempts': 0, 'rtls_landings': 0, 'asds_attempts': 2, 'asds_landings': 2, 'last_update': 'Retired; stored in Hangar E at CCAFS until put on permanent display ', 'launches': ['5eb87cf3ffd86e000604b345', '5eb87d00ffd86e000604b34f'], 'serial': 'B1021', 'status': 'inactive', 'id': '5e9e28a2f359182d0b3b263e'}\n",
      "Response: {'block': 2, 'reuse_count': 0, 'rtls_attempts': 0, 'rtls_landings': 0, 'asds_attempts': 1, 'asds_landings': 1, 'last_update': 'Removed from active fleet for Δ Qualification Testing. Retired after eight to ten test cycles.  Currently partially disassembled at McGregor.', 'launches': ['5eb87cf5ffd86e000604b346'], 'serial': 'B1022', 'status': 'inactive', 'id': '5e9e28a2f35918077b3b263f'}\n",
      "Response: {'block': 2, 'reuse_count': 1, 'rtls_attempts': 1, 'rtls_landings': 1, 'asds_attempts': 1, 'asds_landings': 1, 'last_update': '*At LZ1 as 2018/02/06 ', 'launches': ['5eb87cf6ffd86e000604b347', '5eb87d13ffd86e000604b360'], 'serial': 'B1023', 'status': 'inactive', 'id': '5e9e28a2f3591845c73b2640'}\n",
      "Response: {'block': 2, 'reuse_count': 0, 'rtls_attempts': 0, 'rtls_landings': 0, 'asds_attempts': 0, 'asds_landings': 0, 'last_update': 'RUD on deck of droneship (OCISLY)', 'launches': ['5eb87cf8ffd86e000604b348'], 'serial': 'B1024', 'status': 'lost', 'id': '5e9e28a2f359184f403b2641'}\n",
      "Response: {'block': 2, 'reuse_count': 1, 'rtls_attempts': 2, 'rtls_landings': 2, 'asds_attempts': 0, 'asds_landings': 0, 'last_update': '*At LZ2 as 2018/02/06 ', 'launches': ['5eb87cf9ffd86e000604b349', '5eb87d13ffd86e000604b360'], 'serial': 'B1025', 'status': 'inactive', 'id': '5e9e28a2f359187f273b2642'}\n",
      "Response: {'block': 2, 'reuse_count': 0, 'rtls_attempts': 0, 'rtls_landings': 0, 'asds_attempts': 1, 'asds_landings': 1, 'last_update': 'Permanently scrapped.  ', 'launches': ['5eb87cfaffd86e000604b34a'], 'serial': 'B1026', 'status': 'inactive', 'id': '5e9e28a2f35918b8243b2643'}\n",
      "Response: {'block': 3, 'reuse_count': 0, 'rtls_attempts': 0, 'rtls_landings': 0, 'asds_attempts': 0, 'asds_landings': 0, 'last_update': '---', 'launches': ['5eb87cfbffd86e000604b34b'], 'serial': 'B1028', 'status': 'lost', 'id': '5e9e28a2f359187ee83b2644'}\n",
      "Response: {'block': 3, 'reuse_count': 1, 'rtls_attempts': 0, 'rtls_landings': 0, 'asds_attempts': 2, 'asds_landings': 2, 'last_update': 'Will be given to KSC Visitors Center. ', 'launches': ['5eb87cfdffd86e000604b34c', '5eb87d04ffd86e000604b353'], 'serial': 'B1029', 'status': 'inactive', 'id': '5e9e28a3f359189e3a3b2645'}\n",
      "Response: {'block': 3, 'reuse_count': 1, 'rtls_attempts': 1, 'rtls_landings': 1, 'asds_attempts': 1, 'asds_landings': 1, 'last_update': 'Stored outside at McGregor, partially disassembled (missing engines). ', 'launches': ['5eb87cfeffd86e000604b34d', '5eb87d0cffd86e000604b35a'], 'serial': 'B1031', 'status': 'inactive', 'id': '5e9e28a3f3591829dc3b2646'}\n",
      "Response: {'block': 3, 'reuse_count': 0, 'rtls_attempts': 0, 'rtls_landings': 0, 'asds_attempts': 0, 'asds_landings': 0, 'last_update': 'Stage Expended', 'launches': ['5eb87cfeffd86e000604b34e'], 'serial': 'B1030', 'status': 'expended', 'id': '5e9e28a3f3591878473b2647'}\n",
      "Response: {'block': 2, 'reuse_count': 1, 'rtls_attempts': 0, 'rtls_landings': 0, 'asds_attempts': 2, 'asds_landings': 2, 'last_update': 'Retired; stored in Hangar E at CCAFS until put on permanent display ', 'launches': ['5eb87cf3ffd86e000604b345', '5eb87d00ffd86e000604b34f'], 'serial': 'B1021', 'status': 'inactive', 'id': '5e9e28a2f359182d0b3b263e'}\n",
      "Response: {'block': 3, 'reuse_count': 1, 'rtls_attempts': 1, 'rtls_landings': 1, 'asds_attempts': 0, 'asds_landings': 0, 'last_update': \"Survived water landing, SpaceX couldn't tug it back to port, so they hired a company to destroy it.  \", 'launches': ['5eb87d01ffd86e000604b350', '5eb87d11ffd86e000604b35f'], 'serial': 'B1032', 'status': 'lost', 'id': '5e9e28a3f3591811f83b2648'}\n",
      "Response: {'block': 3, 'reuse_count': 0, 'rtls_attempts': 0, 'rtls_landings': 0, 'asds_attempts': 0, 'asds_landings': 0, 'last_update': 'Stage Expended', 'launches': ['5eb87d01ffd86e000604b351'], 'serial': 'B1034', 'status': 'expended', 'id': '5e9e28a3f359186f3f3b2649'}\n",
      "Response: {'block': 3, 'reuse_count': 1, 'rtls_attempts': 2, 'rtls_landings': 2, 'asds_attempts': 0, 'asds_landings': 0, 'last_update': 'Retired; permanently displayed at Space Center Houston. ', 'launches': ['5eb87d03ffd86e000604b352', '5eb87d0effd86e000604b35c'], 'serial': 'B1035', 'status': 'inactive', 'id': '5e9e28a3f3591856803b264a'}\n",
      "Response: {'block': 3, 'reuse_count': 1, 'rtls_attempts': 0, 'rtls_landings': 0, 'asds_attempts': 2, 'asds_landings': 2, 'last_update': 'Will be given to KSC Visitors Center. ', 'launches': ['5eb87cfdffd86e000604b34c', '5eb87d04ffd86e000604b353'], 'serial': 'B1029', 'status': 'inactive', 'id': '5e9e28a3f359189e3a3b2645'}\n",
      "Response: {'block': 3, 'reuse_count': 1, 'rtls_attempts': 0, 'rtls_landings': 0, 'asds_attempts': 1, 'asds_landings': 1, 'last_update': 'Broke Up After Successful Water Landing', 'launches': ['5eb87d05ffd86e000604b354', '5eb87d0fffd86e000604b35d'], 'serial': 'B1036', 'status': 'lost', 'id': '5e9e28a3f3591801cf3b264b'}\n",
      "Response: {'block': 3, 'reuse_count': 0, 'rtls_attempts': 0, 'rtls_landings': 0, 'asds_attempts': 0, 'asds_landings': 0, 'last_update': 'Stage Expended', 'launches': ['5eb87d06ffd86e000604b355'], 'serial': 'B1037', 'status': 'expended', 'id': '5e9e28a4f3591850cc3b264c'}\n",
      "Response: {'block': 4, 'reuse_count': 1, 'rtls_attempts': 1, 'rtls_landings': 1, 'asds_attempts': 0, 'asds_landings': 0, 'last_update': 'Stage Expended', 'launches': ['5eb87d07ffd86e000604b356', '5eb87d16ffd86e000604b364'], 'serial': 'B1039', 'status': 'expended', 'id': '5e9e28a4f3591884ee3b264d'}\n",
      "Response: {'block': 3, 'reuse_count': 1, 'rtls_attempts': 0, 'rtls_landings': 0, 'asds_attempts': 1, 'asds_landings': 1, 'last_update': 'Stage Expended', 'launches': ['5eb87d08ffd86e000604b357', '5eb87d14ffd86e000604b361'], 'serial': 'B1038', 'status': 'expended', 'id': '5e9e28a4f359182d843b264e'}\n",
      "Response: {'block': 4, 'reuse_count': 1, 'rtls_attempts': 1, 'rtls_landings': 1, 'asds_attempts': 0, 'asds_landings': 0, 'last_update': 'Stage Expended', 'launches': ['5eb87d09ffd86e000604b358', '5eb87d1bffd86e000604b368'], 'serial': 'B1040', 'status': 'expended', 'id': '5e9e28a4f3591845123b264f'}\n",
      "Response: {'block': 4, 'reuse_count': 1, 'rtls_attempts': 0, 'rtls_landings': 0, 'asds_attempts': 1, 'asds_landings': 1, 'last_update': 'Stage Expended', 'launches': ['5eb87d0affd86e000604b359', '5eb87d16ffd86e000604b363'], 'serial': 'B1041', 'status': 'expended', 'id': '5e9e28a4f3591843103b2650'}\n",
      "Response: {'block': 3, 'reuse_count': 1, 'rtls_attempts': 1, 'rtls_landings': 1, 'asds_attempts': 1, 'asds_landings': 1, 'last_update': 'Stored outside at McGregor, partially disassembled (missing engines). ', 'launches': ['5eb87cfeffd86e000604b34d', '5eb87d0cffd86e000604b35a'], 'serial': 'B1031', 'status': 'inactive', 'id': '5e9e28a3f3591829dc3b2646'}\n",
      "Response: {'block': 4, 'reuse_count': 0, 'rtls_attempts': 0, 'rtls_landings': 0, 'asds_attempts': 1, 'asds_landings': 1, 'last_update': 'Retired. ', 'launches': ['5eb87d0dffd86e000604b35b'], 'serial': 'B1042', 'status': 'inactive', 'id': '5e9e28a4f359185cc03b2651'}\n",
      "Response: {'block': 3, 'reuse_count': 1, 'rtls_attempts': 2, 'rtls_landings': 2, 'asds_attempts': 0, 'asds_landings': 0, 'last_update': 'Retired; permanently displayed at Space Center Houston. ', 'launches': ['5eb87d03ffd86e000604b352', '5eb87d0effd86e000604b35c'], 'serial': 'B1035', 'status': 'inactive', 'id': '5e9e28a3f3591856803b264a'}\n",
      "Response: {'block': 3, 'reuse_count': 1, 'rtls_attempts': 0, 'rtls_landings': 0, 'asds_attempts': 1, 'asds_landings': 1, 'last_update': 'Broke Up After Successful Water Landing', 'launches': ['5eb87d05ffd86e000604b354', '5eb87d0fffd86e000604b35d'], 'serial': 'B1036', 'status': 'lost', 'id': '5e9e28a3f3591801cf3b264b'}\n",
      "Response: {'block': 4, 'reuse_count': 1, 'rtls_attempts': 1, 'rtls_landings': 1, 'asds_attempts': 0, 'asds_landings': 0, 'last_update': 'Stage Expended', 'launches': ['5eb87d10ffd86e000604b35e', '5eb87d1affd86e000604b367'], 'serial': 'B1043', 'status': 'expended', 'id': '5e9e28a4f35918345e3b2652'}\n",
      "Response: {'block': 3, 'reuse_count': 1, 'rtls_attempts': 1, 'rtls_landings': 1, 'asds_attempts': 0, 'asds_landings': 0, 'last_update': \"Survived water landing, SpaceX couldn't tug it back to port, so they hired a company to destroy it.  \", 'launches': ['5eb87d01ffd86e000604b350', '5eb87d11ffd86e000604b35f'], 'serial': 'B1032', 'status': 'lost', 'id': '5e9e28a3f3591811f83b2648'}\n",
      "Response: {'block': 3, 'reuse_count': 0, 'rtls_attempts': 0, 'rtls_landings': 0, 'asds_attempts': 0, 'asds_landings': 0, 'last_update': \"Two of the outer engines didn't re-ignite for the landing burn, ran out of TEA/TEB igniters. \", 'launches': ['5eb87d13ffd86e000604b360'], 'serial': 'B1033', 'status': 'lost', 'id': '5e9e28a5f359187f703b2653'}\n",
      "Response: {'block': 2, 'reuse_count': 1, 'rtls_attempts': 2, 'rtls_landings': 2, 'asds_attempts': 0, 'asds_landings': 0, 'last_update': '*At LZ2 as 2018/02/06 ', 'launches': ['5eb87cf9ffd86e000604b349', '5eb87d13ffd86e000604b360'], 'serial': 'B1025', 'status': 'inactive', 'id': '5e9e28a2f359187f273b2642'}\n",
      "Response: {'block': 2, 'reuse_count': 1, 'rtls_attempts': 1, 'rtls_landings': 1, 'asds_attempts': 1, 'asds_landings': 1, 'last_update': '*At LZ1 as 2018/02/06 ', 'launches': ['5eb87cf6ffd86e000604b347', '5eb87d13ffd86e000604b360'], 'serial': 'B1023', 'status': 'inactive', 'id': '5e9e28a2f3591845c73b2640'}\n",
      "Response: {'block': 3, 'reuse_count': 1, 'rtls_attempts': 0, 'rtls_landings': 0, 'asds_attempts': 1, 'asds_landings': 1, 'last_update': 'Stage Expended', 'launches': ['5eb87d08ffd86e000604b357', '5eb87d14ffd86e000604b361'], 'serial': 'B1038', 'status': 'expended', 'id': '5e9e28a4f359182d843b264e'}\n",
      "Response: {'block': 4, 'reuse_count': 0, 'rtls_attempts': 0, 'rtls_landings': 0, 'asds_attempts': 0, 'asds_landings': 0, 'last_update': 'Stage Expended', 'launches': ['5eb87d15ffd86e000604b362'], 'serial': 'B1044', 'status': 'expended', 'id': '5e9e28a5f359186cb73b2654'}\n",
      "Response: {'block': 4, 'reuse_count': 1, 'rtls_attempts': 0, 'rtls_landings': 0, 'asds_attempts': 1, 'asds_landings': 1, 'last_update': 'Stage Expended', 'launches': ['5eb87d0affd86e000604b359', '5eb87d16ffd86e000604b363'], 'serial': 'B1041', 'status': 'expended', 'id': '5e9e28a4f3591843103b2650'}\n",
      "Response: {'block': 4, 'reuse_count': 1, 'rtls_attempts': 1, 'rtls_landings': 1, 'asds_attempts': 0, 'asds_landings': 0, 'last_update': 'Stage Expended', 'launches': ['5eb87d07ffd86e000604b356', '5eb87d16ffd86e000604b364'], 'serial': 'B1039', 'status': 'expended', 'id': '5e9e28a4f3591884ee3b264d'}\n",
      "Response: {'block': 4, 'reuse_count': 1, 'rtls_attempts': 0, 'rtls_landings': 0, 'asds_attempts': 1, 'asds_landings': 1, 'last_update': 'Stage Expended', 'launches': ['5eb87d18ffd86e000604b365', '5eb87d1cffd86e000604b369'], 'serial': 'B1045', 'status': 'expended', 'id': '5e9e28a5f35918863d3b2655'}\n",
      "Response: {'block': 5, 'reuse_count': 3, 'rtls_attempts': 0, 'rtls_landings': 0, 'asds_attempts': 3, 'asds_landings': 3, 'last_update': 'Stage Expended', 'launches': ['5eb87d19ffd86e000604b366', '5eb87d20ffd86e000604b36c', '5eb87d25ffd86e000604b370', '5eb87d3dffd86e000604b381'], 'serial': 'B1046', 'status': 'expended', 'id': '5e9e28a5f359182b023b2656'}\n",
      "Response: {'block': 4, 'reuse_count': 1, 'rtls_attempts': 1, 'rtls_landings': 1, 'asds_attempts': 0, 'asds_landings': 0, 'last_update': 'Stage Expended', 'launches': ['5eb87d10ffd86e000604b35e', '5eb87d1affd86e000604b367'], 'serial': 'B1043', 'status': 'expended', 'id': '5e9e28a4f35918345e3b2652'}\n",
      "Response: {'block': 4, 'reuse_count': 1, 'rtls_attempts': 1, 'rtls_landings': 1, 'asds_attempts': 0, 'asds_landings': 0, 'last_update': 'Stage Expended', 'launches': ['5eb87d09ffd86e000604b358', '5eb87d1bffd86e000604b368'], 'serial': 'B1040', 'status': 'expended', 'id': '5e9e28a4f3591845123b264f'}\n",
      "Response: {'block': 4, 'reuse_count': 1, 'rtls_attempts': 0, 'rtls_landings': 0, 'asds_attempts': 1, 'asds_landings': 1, 'last_update': 'Stage Expended', 'launches': ['5eb87d18ffd86e000604b365', '5eb87d1cffd86e000604b369'], 'serial': 'B1045', 'status': 'expended', 'id': '5e9e28a5f35918863d3b2655'}\n",
      "Response: {'block': 5, 'reuse_count': 2, 'rtls_attempts': 0, 'rtls_landings': 0, 'asds_attempts': 2, 'asds_landings': 2, 'last_update': 'Stage Expended', 'launches': ['5eb87d1effd86e000604b36a', '5eb87d24ffd86e000604b36f', '5eb87d37ffd86e000604b37c'], 'serial': 'B1047', 'status': 'expended', 'id': '5e9e28a5f359181eed3b2657'}\n",
      "Response: {'block': 5, 'reuse_count': 4, 'rtls_attempts': 1, 'rtls_landings': 1, 'asds_attempts': 3, 'asds_landings': 3, 'last_update': 'Landing burn not performed after premature engine shutdown during ascent', 'launches': ['5eb87d1fffd86e000604b36b', '5eb87d23ffd86e000604b36e', '5eb87d2affd86e000604b374', '5eb87d39ffd86e000604b37d', '5eb87d43ffd86e000604b385'], 'serial': 'B1048', 'status': 'lost', 'id': '5e9e28a5f3591809c03b2658'}\n",
      "Response: {'block': 5, 'reuse_count': 3, 'rtls_attempts': 0, 'rtls_landings': 0, 'asds_attempts': 3, 'asds_landings': 3, 'last_update': 'Stage Expended', 'launches': ['5eb87d19ffd86e000604b366', '5eb87d20ffd86e000604b36c', '5eb87d25ffd86e000604b370', '5eb87d3dffd86e000604b381'], 'serial': 'B1046', 'status': 'expended', 'id': '5e9e28a5f359182b023b2656'}\n",
      "Response: {'block': 5, 'reuse_count': 9, 'rtls_attempts': 0, 'rtls_landings': 0, 'asds_attempts': 10, 'asds_landings': 10, 'last_update': 'Stage Expended', 'launches': ['5eb87d22ffd86e000604b36d', '5eb87d28ffd86e000604b373', '5eb87d30ffd86e000604b378', '5eb87d3cffd86e000604b380', '5eb87d45ffd86e000604b387', '5ed981d91f30554030d45c2a', '5fb95b3f3a88ae63c954603c', '5fbfecfe54ceb10a5664c80b', '605b4b7daa5433645e37d040', '60e3bf0d73359e1e20335c37'], 'serial': 'B1049', 'status': 'expended', 'id': '5e9e28a5f3591833b13b2659'}\n",
      "Response: {'block': 5, 'reuse_count': 4, 'rtls_attempts': 1, 'rtls_landings': 1, 'asds_attempts': 3, 'asds_landings': 3, 'last_update': 'Landing burn not performed after premature engine shutdown during ascent', 'launches': ['5eb87d1fffd86e000604b36b', '5eb87d23ffd86e000604b36e', '5eb87d2affd86e000604b374', '5eb87d39ffd86e000604b37d', '5eb87d43ffd86e000604b385'], 'serial': 'B1048', 'status': 'lost', 'id': '5e9e28a5f3591809c03b2658'}\n",
      "Response: {'block': 5, 'reuse_count': 2, 'rtls_attempts': 0, 'rtls_landings': 0, 'asds_attempts': 2, 'asds_landings': 2, 'last_update': 'Stage Expended', 'launches': ['5eb87d1effd86e000604b36a', '5eb87d24ffd86e000604b36f', '5eb87d37ffd86e000604b37c'], 'serial': 'B1047', 'status': 'expended', 'id': '5e9e28a5f359181eed3b2657'}\n",
      "Response: {'block': 5, 'reuse_count': 3, 'rtls_attempts': 0, 'rtls_landings': 0, 'asds_attempts': 3, 'asds_landings': 3, 'last_update': 'Stage Expended', 'launches': ['5eb87d19ffd86e000604b366', '5eb87d20ffd86e000604b36c', '5eb87d25ffd86e000604b370', '5eb87d3dffd86e000604b381'], 'serial': 'B1046', 'status': 'expended', 'id': '5e9e28a5f359182b023b2656'}\n",
      "Response: {'block': 5, 'reuse_count': 0, 'rtls_attempts': 1, 'rtls_landings': 0, 'asds_attempts': 0, 'asds_landings': 0, 'last_update': 'Towed to Port of Canaveral; cannibalized for parts to build Starhopper. ', 'launches': ['5eb87d26ffd86e000604b371'], 'serial': 'B1050', 'status': 'inactive', 'id': '5e9e28a6f359185c603b265a'}\n",
      "Response: {'block': 5, 'reuse_count': 0, 'rtls_attempts': 0, 'rtls_landings': 0, 'asds_attempts': 0, 'asds_landings': 0, 'last_update': 'Stage Expended', 'launches': ['5eb87d27ffd86e000604b372'], 'serial': 'B1054', 'status': 'expended', 'id': '5e9e28a6f35918513b3b265b'}\n",
      "Response: {'block': 5, 'reuse_count': 9, 'rtls_attempts': 0, 'rtls_landings': 0, 'asds_attempts': 10, 'asds_landings': 10, 'last_update': 'Stage Expended', 'launches': ['5eb87d22ffd86e000604b36d', '5eb87d28ffd86e000604b373', '5eb87d30ffd86e000604b378', '5eb87d3cffd86e000604b380', '5eb87d45ffd86e000604b387', '5ed981d91f30554030d45c2a', '5fb95b3f3a88ae63c954603c', '5fbfecfe54ceb10a5664c80b', '605b4b7daa5433645e37d040', '60e3bf0d73359e1e20335c37'], 'serial': 'B1049', 'status': 'expended', 'id': '5e9e28a5f3591833b13b2659'}\n",
      "Response: {'block': 5, 'reuse_count': 4, 'rtls_attempts': 1, 'rtls_landings': 1, 'asds_attempts': 3, 'asds_landings': 3, 'last_update': 'Landing burn not performed after premature engine shutdown during ascent', 'launches': ['5eb87d1fffd86e000604b36b', '5eb87d23ffd86e000604b36e', '5eb87d2affd86e000604b374', '5eb87d39ffd86e000604b37d', '5eb87d43ffd86e000604b385'], 'serial': 'B1048', 'status': 'lost', 'id': '5e9e28a5f3591809c03b2658'}\n",
      "Response: {'block': 5, 'reuse_count': 12, 'rtls_attempts': 1, 'rtls_landings': 1, 'asds_attempts': 12, 'asds_landings': 12, 'last_update': 'Stage Expended', 'launches': ['5eb87d2bffd86e000604b375', '5eb87d31ffd86e000604b379', '5eb87d3fffd86e000604b382', '5eb87d44ffd86e000604b386', '5ed9819a1f30554030d45c29', '5ef6a2bf0059c33cee4a828c', '5eb87d4bffd86e000604b38c', '5fbfecce54ceb10a5664c80a', '600f9a8d8f798e2a4d5f979e', '6079bd1c9a06446e8c61bf76', '61bba806437241381bf7061e', '6234908cf051102e1fcedac4', '62a9f0f820413d2695d88714'], 'serial': 'B1051', 'status': 'expended', 'id': '5e9e28a6f35918c0803b265c'}\n",
      "Response: {'block': 5, 'reuse_count': 0, 'rtls_attempts': 0, 'rtls_landings': 0, 'asds_attempts': 1, 'asds_landings': 1, 'last_update': 'Toppled by rough seas and broken in two after safely landing aboard OCISLY', 'launches': ['5eb87d2dffd86e000604b376'], 'serial': 'B1055', 'status': 'lost', 'id': '5e9e28a6f3591897453b265f'}\n",
      "Response: {'block': 5, 'reuse_count': 6, 'rtls_attempts': 3, 'rtls_landings': 3, 'asds_attempts': 4, 'asds_landings': 4, 'last_update': 'Landed on JRTI as of Sep 5 2022', 'launches': ['5eb87d2dffd86e000604b376', '5eb87d35ffd86e000604b37a', '6161d32d6db1a92bfba85359', '61fc0243e0dc5662b76489ae', '62615ebc0ec008379be596fa', '62a9f86420413d2695d88719', '62f3b5330f55c50e192a4e6e'], 'serial': 'B1052', 'status': 'active', 'id': '5e9e28a6f359183c413b265d'}\n",
      "Response: {'block': 5, 'reuse_count': 1, 'rtls_attempts': 2, 'rtls_landings': 2, 'asds_attempts': 0, 'asds_landings': 0, 'last_update': 'Landed at LZ-2 as of Jun 25, 2019.', 'launches': ['5eb87d2dffd86e000604b376', '5eb87d35ffd86e000604b37a'], 'serial': 'B1053', 'status': 'active', 'id': '5e9e28a6f359188fd53b265e'}\n",
      "Response: {'block': 5, 'reuse_count': 3, 'rtls_attempts': 1, 'rtls_landings': 1, 'asds_attempts': 2, 'asds_landings': 2, 'last_update': 'Missed the droneship and made successful water landing; apparently scuttled at sea afterward. ', 'launches': ['5eb87d2effd86e000604b377', '5eb87d36ffd86e000604b37b', '5eb87d3bffd86e000604b37f', '5eb87d41ffd86e000604b383'], 'serial': 'B1056', 'status': 'lost', 'id': '5e9e28a7f3591809313b2660'}\n",
      "Response: {'block': 5, 'reuse_count': 9, 'rtls_attempts': 0, 'rtls_landings': 0, 'asds_attempts': 10, 'asds_landings': 10, 'last_update': 'Stage Expended', 'launches': ['5eb87d22ffd86e000604b36d', '5eb87d28ffd86e000604b373', '5eb87d30ffd86e000604b378', '5eb87d3cffd86e000604b380', '5eb87d45ffd86e000604b387', '5ed981d91f30554030d45c2a', '5fb95b3f3a88ae63c954603c', '5fbfecfe54ceb10a5664c80b', '605b4b7daa5433645e37d040', '60e3bf0d73359e1e20335c37'], 'serial': 'B1049', 'status': 'expended', 'id': '5e9e28a5f3591833b13b2659'}\n",
      "Response: {'block': 5, 'reuse_count': 12, 'rtls_attempts': 1, 'rtls_landings': 1, 'asds_attempts': 12, 'asds_landings': 12, 'last_update': 'Stage Expended', 'launches': ['5eb87d2bffd86e000604b375', '5eb87d31ffd86e000604b379', '5eb87d3fffd86e000604b382', '5eb87d44ffd86e000604b386', '5ed9819a1f30554030d45c29', '5ef6a2bf0059c33cee4a828c', '5eb87d4bffd86e000604b38c', '5fbfecce54ceb10a5664c80a', '600f9a8d8f798e2a4d5f979e', '6079bd1c9a06446e8c61bf76', '61bba806437241381bf7061e', '6234908cf051102e1fcedac4', '62a9f0f820413d2695d88714'], 'serial': 'B1051', 'status': 'expended', 'id': '5e9e28a6f35918c0803b265c'}\n",
      "Response: {'block': 5, 'reuse_count': 0, 'rtls_attempts': 0, 'rtls_landings': 0, 'asds_attempts': 0, 'asds_landings': 0, 'last_update': 'Exploded upon ocean impact a safe distance from OCISLY', 'launches': ['5eb87d35ffd86e000604b37a'], 'serial': 'B1057', 'status': 'lost', 'id': '5e9e28a7f3591878063b2661'}\n",
      "Response: {'block': 5, 'reuse_count': 6, 'rtls_attempts': 3, 'rtls_landings': 3, 'asds_attempts': 4, 'asds_landings': 4, 'last_update': 'Landed on JRTI as of Sep 5 2022', 'launches': ['5eb87d2dffd86e000604b376', '5eb87d35ffd86e000604b37a', '6161d32d6db1a92bfba85359', '61fc0243e0dc5662b76489ae', '62615ebc0ec008379be596fa', '62a9f86420413d2695d88719', '62f3b5330f55c50e192a4e6e'], 'serial': 'B1052', 'status': 'active', 'id': '5e9e28a6f359183c413b265d'}\n",
      "Response: {'block': 5, 'reuse_count': 1, 'rtls_attempts': 2, 'rtls_landings': 2, 'asds_attempts': 0, 'asds_landings': 0, 'last_update': 'Landed at LZ-2 as of Jun 25, 2019.', 'launches': ['5eb87d2dffd86e000604b376', '5eb87d35ffd86e000604b37a'], 'serial': 'B1053', 'status': 'active', 'id': '5e9e28a6f359188fd53b265e'}\n",
      "Response: {'block': 5, 'reuse_count': 3, 'rtls_attempts': 1, 'rtls_landings': 1, 'asds_attempts': 2, 'asds_landings': 2, 'last_update': 'Missed the droneship and made successful water landing; apparently scuttled at sea afterward. ', 'launches': ['5eb87d2effd86e000604b377', '5eb87d36ffd86e000604b37b', '5eb87d3bffd86e000604b37f', '5eb87d41ffd86e000604b383'], 'serial': 'B1056', 'status': 'lost', 'id': '5e9e28a7f3591809313b2660'}\n",
      "Response: {'block': 5, 'reuse_count': 2, 'rtls_attempts': 0, 'rtls_landings': 0, 'asds_attempts': 2, 'asds_landings': 2, 'last_update': 'Stage Expended', 'launches': ['5eb87d1effd86e000604b36a', '5eb87d24ffd86e000604b36f', '5eb87d37ffd86e000604b37c'], 'serial': 'B1047', 'status': 'expended', 'id': '5e9e28a5f359181eed3b2657'}\n",
      "Response: {'block': 5, 'reuse_count': 4, 'rtls_attempts': 1, 'rtls_landings': 1, 'asds_attempts': 3, 'asds_landings': 3, 'last_update': 'Landing burn not performed after premature engine shutdown during ascent', 'launches': ['5eb87d1fffd86e000604b36b', '5eb87d23ffd86e000604b36e', '5eb87d2affd86e000604b374', '5eb87d39ffd86e000604b37d', '5eb87d43ffd86e000604b385'], 'serial': 'B1048', 'status': 'lost', 'id': '5e9e28a5f3591809c03b2658'}\n",
      "Response: {'block': 5, 'reuse_count': 5, 'rtls_attempts': 3, 'rtls_landings': 3, 'asds_attempts': 2, 'asds_landings': 2, 'last_update': 'Exploded upon ocean impact a safe distance from OCISLY', 'launches': ['5eb87d39ffd86e000604b37e', '5eb87d42ffd86e000604b384', '5eb87d46ffd86e000604b389', '5eb87d47ffd86e000604b38a', '5f8399fb818d8b59f5740d43', '600f9a5e8f798e2a4d5f979c'], 'serial': 'B1059', 'status': 'lost', 'id': '5e9e28a7f359187afd3b2662'}\n",
      "Response: {'block': 5, 'reuse_count': 3, 'rtls_attempts': 1, 'rtls_landings': 1, 'asds_attempts': 2, 'asds_landings': 2, 'last_update': 'Missed the droneship and made successful water landing; apparently scuttled at sea afterward. ', 'launches': ['5eb87d2effd86e000604b377', '5eb87d36ffd86e000604b37b', '5eb87d3bffd86e000604b37f', '5eb87d41ffd86e000604b383'], 'serial': 'B1056', 'status': 'lost', 'id': '5e9e28a7f3591809313b2660'}\n",
      "Response: {'block': 5, 'reuse_count': 9, 'rtls_attempts': 0, 'rtls_landings': 0, 'asds_attempts': 10, 'asds_landings': 10, 'last_update': 'Stage Expended', 'launches': ['5eb87d22ffd86e000604b36d', '5eb87d28ffd86e000604b373', '5eb87d30ffd86e000604b378', '5eb87d3cffd86e000604b380', '5eb87d45ffd86e000604b387', '5ed981d91f30554030d45c2a', '5fb95b3f3a88ae63c954603c', '5fbfecfe54ceb10a5664c80b', '605b4b7daa5433645e37d040', '60e3bf0d73359e1e20335c37'], 'serial': 'B1049', 'status': 'expended', 'id': '5e9e28a5f3591833b13b2659'}\n",
      "Response: {'block': 5, 'reuse_count': 3, 'rtls_attempts': 0, 'rtls_landings': 0, 'asds_attempts': 3, 'asds_landings': 3, 'last_update': 'Stage Expended', 'launches': ['5eb87d19ffd86e000604b366', '5eb87d20ffd86e000604b36c', '5eb87d25ffd86e000604b370', '5eb87d3dffd86e000604b381'], 'serial': 'B1046', 'status': 'expended', 'id': '5e9e28a5f359182b023b2656'}\n",
      "Response: {'block': 5, 'reuse_count': 12, 'rtls_attempts': 1, 'rtls_landings': 1, 'asds_attempts': 12, 'asds_landings': 12, 'last_update': 'Stage Expended', 'launches': ['5eb87d2bffd86e000604b375', '5eb87d31ffd86e000604b379', '5eb87d3fffd86e000604b382', '5eb87d44ffd86e000604b386', '5ed9819a1f30554030d45c29', '5ef6a2bf0059c33cee4a828c', '5eb87d4bffd86e000604b38c', '5fbfecce54ceb10a5664c80a', '600f9a8d8f798e2a4d5f979e', '6079bd1c9a06446e8c61bf76', '61bba806437241381bf7061e', '6234908cf051102e1fcedac4', '62a9f0f820413d2695d88714'], 'serial': 'B1051', 'status': 'expended', 'id': '5e9e28a6f35918c0803b265c'}\n",
      "Response: {'block': 5, 'reuse_count': 3, 'rtls_attempts': 1, 'rtls_landings': 1, 'asds_attempts': 2, 'asds_landings': 2, 'last_update': 'Missed the droneship and made successful water landing; apparently scuttled at sea afterward. ', 'launches': ['5eb87d2effd86e000604b377', '5eb87d36ffd86e000604b37b', '5eb87d3bffd86e000604b37f', '5eb87d41ffd86e000604b383'], 'serial': 'B1056', 'status': 'lost', 'id': '5e9e28a7f3591809313b2660'}\n",
      "Response: {'block': 5, 'reuse_count': 5, 'rtls_attempts': 3, 'rtls_landings': 3, 'asds_attempts': 2, 'asds_landings': 2, 'last_update': 'Exploded upon ocean impact a safe distance from OCISLY', 'launches': ['5eb87d39ffd86e000604b37e', '5eb87d42ffd86e000604b384', '5eb87d46ffd86e000604b389', '5eb87d47ffd86e000604b38a', '5f8399fb818d8b59f5740d43', '600f9a5e8f798e2a4d5f979c'], 'serial': 'B1059', 'status': 'lost', 'id': '5e9e28a7f359187afd3b2662'}\n",
      "Response: {'block': 5, 'reuse_count': 4, 'rtls_attempts': 1, 'rtls_landings': 1, 'asds_attempts': 3, 'asds_landings': 3, 'last_update': 'Landing burn not performed after premature engine shutdown during ascent', 'launches': ['5eb87d1fffd86e000604b36b', '5eb87d23ffd86e000604b36e', '5eb87d2affd86e000604b374', '5eb87d39ffd86e000604b37d', '5eb87d43ffd86e000604b385'], 'serial': 'B1048', 'status': 'lost', 'id': '5e9e28a5f3591809c03b2658'}\n",
      "Response: {'block': 5, 'reuse_count': 12, 'rtls_attempts': 1, 'rtls_landings': 1, 'asds_attempts': 12, 'asds_landings': 12, 'last_update': 'Stage Expended', 'launches': ['5eb87d2bffd86e000604b375', '5eb87d31ffd86e000604b379', '5eb87d3fffd86e000604b382', '5eb87d44ffd86e000604b386', '5ed9819a1f30554030d45c29', '5ef6a2bf0059c33cee4a828c', '5eb87d4bffd86e000604b38c', '5fbfecce54ceb10a5664c80a', '600f9a8d8f798e2a4d5f979e', '6079bd1c9a06446e8c61bf76', '61bba806437241381bf7061e', '6234908cf051102e1fcedac4', '62a9f0f820413d2695d88714'], 'serial': 'B1051', 'status': 'expended', 'id': '5e9e28a6f35918c0803b265c'}\n",
      "Response: {'block': 5, 'reuse_count': 13, 'rtls_attempts': 1, 'rtls_landings': 1, 'asds_attempts': 13, 'asds_landings': 13, 'last_update': 'Landed on ASOG as of Sep 11, 2022', 'launches': ['5eb87d46ffd86e000604b388', '5eb87d50ffd86e000604b394', '5ef6a2090059c33cee4a828b', '5eb87d4effd86e000604b391', '5fd386aa7faea57d297c86c1', '600f9a718f798e2a4d5f979d', '60428ac4c041c16716f73cd8', '605b4b95aa5433645e37d041', '618faad2563d69573ed8ca9d', '61bf3e31cd5ab50b0d936345', '61fc01dae0dc5662b76489a7', '62582a855988f159024b964c', '62a9f0c920413d2695d88712', '62a9f89a20413d2695d8871a'], 'serial': 'B1058', 'status': 'active', 'id': '5e9e28a7f3591817f23b2663'}\n",
      "Response: {'block': 5, 'reuse_count': 9, 'rtls_attempts': 0, 'rtls_landings': 0, 'asds_attempts': 10, 'asds_landings': 10, 'last_update': 'Stage Expended', 'launches': ['5eb87d22ffd86e000604b36d', '5eb87d28ffd86e000604b373', '5eb87d30ffd86e000604b378', '5eb87d3cffd86e000604b380', '5eb87d45ffd86e000604b387', '5ed981d91f30554030d45c2a', '5fb95b3f3a88ae63c954603c', '5fbfecfe54ceb10a5664c80b', '605b4b7daa5433645e37d040', '60e3bf0d73359e1e20335c37'], 'serial': 'B1049', 'status': 'expended', 'id': '5e9e28a5f3591833b13b2659'}\n",
      "Response: {'block': 5, 'reuse_count': 5, 'rtls_attempts': 3, 'rtls_landings': 3, 'asds_attempts': 2, 'asds_landings': 2, 'last_update': 'Exploded upon ocean impact a safe distance from OCISLY', 'launches': ['5eb87d39ffd86e000604b37e', '5eb87d42ffd86e000604b384', '5eb87d46ffd86e000604b389', '5eb87d47ffd86e000604b38a', '5f8399fb818d8b59f5740d43', '600f9a5e8f798e2a4d5f979c'], 'serial': 'B1059', 'status': 'lost', 'id': '5e9e28a7f359187afd3b2662'}\n",
      "Response: {'block': 5, 'reuse_count': 12, 'rtls_attempts': 1, 'rtls_landings': 1, 'asds_attempts': 12, 'asds_landings': 12, 'last_update': 'Landed on ASOG as of Oct 8, 2022.', 'launches': ['5eb87d4affd86e000604b38b', '5ef6a1e90059c33cee4a828a', '5ef6a2e70059c33cee4a8293', '5eb87d4fffd86e000604b393', '5ff6554f9257f579ee3a6c5f', '60428aafc041c16716f73cd7', '605b4b6aaa5433645e37d03f', '600f9b6d8f798e2a4d5f979f', '6161c94c6db1a92bfba85349', '61e048bbbe8d8b66799018d0', '61fc0224e0dc5662b76489ab', '6243ada6af52800c6e919253', '6278481757b51b752c5c5a5f'], 'serial': 'B1060', 'status': 'active', 'id': '5ef670f10059c33cee4a826c'}\n",
      "Response: {'block': 5, 'reuse_count': 13, 'rtls_attempts': 1, 'rtls_landings': 1, 'asds_attempts': 13, 'asds_landings': 13, 'last_update': 'Landed on ASOG as of Sep 11, 2022', 'launches': ['5eb87d46ffd86e000604b388', '5eb87d50ffd86e000604b394', '5ef6a2090059c33cee4a828b', '5eb87d4effd86e000604b391', '5fd386aa7faea57d297c86c1', '600f9a718f798e2a4d5f979d', '60428ac4c041c16716f73cd8', '605b4b95aa5433645e37d041', '618faad2563d69573ed8ca9d', '61bf3e31cd5ab50b0d936345', '61fc01dae0dc5662b76489a7', '62582a855988f159024b964c', '62a9f0c920413d2695d88712', '62a9f89a20413d2695d8871a'], 'serial': 'B1058', 'status': 'active', 'id': '5e9e28a7f3591817f23b2663'}\n",
      "Response: {'block': 5, 'reuse_count': 12, 'rtls_attempts': 1, 'rtls_landings': 1, 'asds_attempts': 12, 'asds_landings': 12, 'last_update': 'Stage Expended', 'launches': ['5eb87d2bffd86e000604b375', '5eb87d31ffd86e000604b379', '5eb87d3fffd86e000604b382', '5eb87d44ffd86e000604b386', '5ed9819a1f30554030d45c29', '5ef6a2bf0059c33cee4a828c', '5eb87d4bffd86e000604b38c', '5fbfecce54ceb10a5664c80a', '600f9a8d8f798e2a4d5f979e', '6079bd1c9a06446e8c61bf76', '61bba806437241381bf7061e', '6234908cf051102e1fcedac4', '62a9f0f820413d2695d88714'], 'serial': 'B1051', 'status': 'expended', 'id': '5e9e28a6f35918c0803b265c'}\n",
      "Response: {'block': 5, 'reuse_count': 9, 'rtls_attempts': 0, 'rtls_landings': 0, 'asds_attempts': 10, 'asds_landings': 10, 'last_update': 'Stage Expended', 'launches': ['5eb87d22ffd86e000604b36d', '5eb87d28ffd86e000604b373', '5eb87d30ffd86e000604b378', '5eb87d3cffd86e000604b380', '5eb87d45ffd86e000604b387', '5ed981d91f30554030d45c2a', '5fb95b3f3a88ae63c954603c', '5fbfecfe54ceb10a5664c80b', '605b4b7daa5433645e37d040', '60e3bf0d73359e1e20335c37'], 'serial': 'B1049', 'status': 'expended', 'id': '5e9e28a5f3591833b13b2659'}\n",
      "Response: {'block': 5, 'reuse_count': 5, 'rtls_attempts': 3, 'rtls_landings': 3, 'asds_attempts': 2, 'asds_landings': 2, 'last_update': 'Exploded upon ocean impact a safe distance from OCISLY', 'launches': ['5eb87d39ffd86e000604b37e', '5eb87d42ffd86e000604b384', '5eb87d46ffd86e000604b389', '5eb87d47ffd86e000604b38a', '5f8399fb818d8b59f5740d43', '600f9a5e8f798e2a4d5f979c'], 'serial': 'B1059', 'status': 'lost', 'id': '5e9e28a7f359187afd3b2662'}\n",
      "Response: {'block': 5, 'reuse_count': 12, 'rtls_attempts': 1, 'rtls_landings': 1, 'asds_attempts': 12, 'asds_landings': 12, 'last_update': 'Landed on ASOG as of Oct 8, 2022.', 'launches': ['5eb87d4affd86e000604b38b', '5ef6a1e90059c33cee4a828a', '5ef6a2e70059c33cee4a8293', '5eb87d4fffd86e000604b393', '5ff6554f9257f579ee3a6c5f', '60428aafc041c16716f73cd7', '605b4b6aaa5433645e37d03f', '600f9b6d8f798e2a4d5f979f', '6161c94c6db1a92bfba85349', '61e048bbbe8d8b66799018d0', '61fc0224e0dc5662b76489ab', '6243ada6af52800c6e919253', '6278481757b51b752c5c5a5f'], 'serial': 'B1060', 'status': 'active', 'id': '5ef670f10059c33cee4a826c'}\n",
      "Response: {'block': 5, 'reuse_count': 13, 'rtls_attempts': 1, 'rtls_landings': 1, 'asds_attempts': 13, 'asds_landings': 13, 'last_update': 'Landed on ASOG as of Sep 11, 2022', 'launches': ['5eb87d46ffd86e000604b388', '5eb87d50ffd86e000604b394', '5ef6a2090059c33cee4a828b', '5eb87d4effd86e000604b391', '5fd386aa7faea57d297c86c1', '600f9a718f798e2a4d5f979d', '60428ac4c041c16716f73cd8', '605b4b95aa5433645e37d041', '618faad2563d69573ed8ca9d', '61bf3e31cd5ab50b0d936345', '61fc01dae0dc5662b76489a7', '62582a855988f159024b964c', '62a9f0c920413d2695d88712', '62a9f89a20413d2695d8871a'], 'serial': 'B1058', 'status': 'active', 'id': '5e9e28a7f3591817f23b2663'}\n",
      "Response: {'block': 5, 'reuse_count': 12, 'rtls_attempts': 1, 'rtls_landings': 1, 'asds_attempts': 12, 'asds_landings': 12, 'last_update': 'Stage Expended', 'launches': ['5eb87d2bffd86e000604b375', '5eb87d31ffd86e000604b379', '5eb87d3fffd86e000604b382', '5eb87d44ffd86e000604b386', '5ed9819a1f30554030d45c29', '5ef6a2bf0059c33cee4a828c', '5eb87d4bffd86e000604b38c', '5fbfecce54ceb10a5664c80a', '600f9a8d8f798e2a4d5f979e', '6079bd1c9a06446e8c61bf76', '61bba806437241381bf7061e', '6234908cf051102e1fcedac4', '62a9f0f820413d2695d88714'], 'serial': 'B1051', 'status': 'expended', 'id': '5e9e28a6f35918c0803b265c'}\n",
      "Response: {'block': 5, 'reuse_count': 12, 'rtls_attempts': 1, 'rtls_landings': 1, 'asds_attempts': 12, 'asds_landings': 12, 'last_update': 'Landed on ASOG as of Oct 8, 2022.', 'launches': ['5eb87d4affd86e000604b38b', '5ef6a1e90059c33cee4a828a', '5ef6a2e70059c33cee4a8293', '5eb87d4fffd86e000604b393', '5ff6554f9257f579ee3a6c5f', '60428aafc041c16716f73cd7', '605b4b6aaa5433645e37d03f', '600f9b6d8f798e2a4d5f979f', '6161c94c6db1a92bfba85349', '61e048bbbe8d8b66799018d0', '61fc0224e0dc5662b76489ab', '6243ada6af52800c6e919253', '6278481757b51b752c5c5a5f'], 'serial': 'B1060', 'status': 'active', 'id': '5ef670f10059c33cee4a826c'}\n",
      "Response: {'block': 5, 'reuse_count': 8, 'rtls_attempts': 0, 'rtls_landings': 0, 'asds_attempts': 9, 'asds_landings': 9, 'last_update': 'Landed on ASOG as of Oct 20, 2022.', 'launches': ['5eb87d4cffd86e000604b38d', '5eb87d4effd86e000604b390', '607a37565a906a44023e0866', '61d5eca1f88e4c5fc91f1eb7', '61eefaa89eb1064137a1bd73', '62582a6f5988f159024b964b', '6243ae0aaf52800c6e919257', '62a9f12820413d2695d88716', '62f3b5200f55c50e192a4e6c'], 'serial': 'B1062', 'status': 'active', 'id': '5f57c5440622a633027900a0'}\n",
      "Response: {'block': 5, 'reuse_count': 9, 'rtls_attempts': 1, 'rtls_landings': 1, 'asds_attempts': 9, 'asds_landings': 9, 'last_update': 'Landed at OCISLY as of Aug 12, 2022.', 'launches': ['5eb87d4dffd86e000604b38e', '5fe3af58b3467846b324215f', '5fe3af6db3467846b3242160', '5fe3b11eb3467846b324216c', '6161c88d6db1a92bfba85348', '61e048ffbe8d8b66799018d1', '6243ad8baf52800c6e919252', '6243ae24af52800c6e919258', '62a9f08b20413d2695d88711', '62f3b4ff0f55c50e192a4e6b'], 'serial': 'B1061', 'status': 'active', 'id': '5f57c53d0622a6330279009f'}\n"
     ]
    }
   ],
   "source": [
    "# Call getCoreData\n",
    "getCoreData(launch_data)"
   ]
  },
  {
   "cell_type": "markdown",
   "metadata": {},
   "source": [
    "Finally lets construct our dataset using the data we have obtained. We we combine the columns into a dictionary.\n"
   ]
  },
  {
   "cell_type": "code",
   "execution_count": 60,
   "metadata": {},
   "outputs": [],
   "source": [
    "launch_dict = {'FlightNumber': list(launch_data['flight_number']),\n",
    "'Date': list(launch_data['date_utc']),\n",
    "'BoosterVersion':BoosterVersion,\n",
    "'PayloadMass':PayloadMass,\n",
    "'Orbit':Orbit,\n",
    "'LaunchSite':LaunchSite,\n",
    "'Outcome':Outcome,\n",
    "'Flights':Flights,\n",
    "'GridFins':GridFins,\n",
    "'Reused':Reused,\n",
    "'Legs':Legs,\n",
    "'LandingPad':LandingPad,\n",
    "'Block':Block,\n",
    "'ReusedCount':ReusedCount,\n",
    "'Serial':Serial,\n",
    "'Longitude': Longitude,\n",
    "'Latitude': Latitude}\n"
   ]
  },
  {
   "cell_type": "code",
   "execution_count": 58,
   "metadata": {
    "tags": []
   },
   "outputs": [
    {
     "name": "stdout",
     "output_type": "stream",
     "text": [
      "Index(['static_fire_date_utc', 'static_fire_date_unix', 'tbd', 'net', 'window',\n",
      "       'rocket', 'success', 'details', 'crew', 'ships', 'capsules', 'payloads',\n",
      "       'launchpad', 'auto_update', 'failures', 'flight_number', 'name',\n",
      "       'date_utc', 'date_unix', 'date_local', 'date_precision', 'upcoming',\n",
      "       'cores', 'id', 'fairings.reused', 'fairings.recovery_attempt',\n",
      "       'fairings.recovered', 'fairings.ships', 'links.patch.small',\n",
      "       'links.patch.large', 'links.reddit.campaign', 'links.reddit.launch',\n",
      "       'links.reddit.media', 'links.reddit.recovery', 'links.flickr.small',\n",
      "       'links.flickr.original', 'links.presskit', 'links.webcast',\n",
      "       'links.youtube_id', 'links.article', 'links.wikipedia', 'fairings'],\n",
      "      dtype='object')\n"
     ]
    }
   ],
   "source": [
    "# Display the column names of the DataFrame\n",
    "print(launch_data.columns)"
   ]
  },
  {
   "cell_type": "markdown",
   "metadata": {},
   "source": [
    "Then, we need to create a Pandas data frame from the dictionary launch_dict.\n"
   ]
  },
  {
   "cell_type": "code",
   "execution_count": 64,
   "metadata": {
    "tags": []
   },
   "outputs": [],
   "source": [
    "# Determine the maximum length among all lists in launch_dict\n",
    "max_length = max(map(len, launch_dict.values()))\n",
    "\n",
    "# Extend lists to the maximum length\n",
    "for key in launch_dict:\n",
    "    launch_dict[key].extend([None] * (max_length - len(launch_dict[key])))\n"
   ]
  },
  {
   "cell_type": "code",
   "execution_count": 65,
   "metadata": {},
   "outputs": [],
   "source": [
    "# Create a data from launch_dict\n",
    "launch_data_df = pd.DataFrame(launch_dict)"
   ]
  },
  {
   "cell_type": "markdown",
   "metadata": {},
   "source": [
    "Show the summary of the dataframe\n"
   ]
  },
  {
   "cell_type": "code",
   "execution_count": 66,
   "metadata": {},
   "outputs": [
    {
     "data": {
      "text/html": [
       "<div>\n",
       "<style scoped>\n",
       "    .dataframe tbody tr th:only-of-type {\n",
       "        vertical-align: middle;\n",
       "    }\n",
       "\n",
       "    .dataframe tbody tr th {\n",
       "        vertical-align: top;\n",
       "    }\n",
       "\n",
       "    .dataframe thead th {\n",
       "        text-align: right;\n",
       "    }\n",
       "</style>\n",
       "<table border=\"1\" class=\"dataframe\">\n",
       "  <thead>\n",
       "    <tr style=\"text-align: right;\">\n",
       "      <th></th>\n",
       "      <th>FlightNumber</th>\n",
       "      <th>Date</th>\n",
       "      <th>BoosterVersion</th>\n",
       "      <th>PayloadMass</th>\n",
       "      <th>Orbit</th>\n",
       "      <th>LaunchSite</th>\n",
       "      <th>Outcome</th>\n",
       "      <th>Flights</th>\n",
       "      <th>GridFins</th>\n",
       "      <th>Reused</th>\n",
       "      <th>Legs</th>\n",
       "      <th>LandingPad</th>\n",
       "      <th>Block</th>\n",
       "      <th>ReusedCount</th>\n",
       "      <th>Serial</th>\n",
       "      <th>Longitude</th>\n",
       "      <th>Latitude</th>\n",
       "    </tr>\n",
       "  </thead>\n",
       "  <tbody>\n",
       "    <tr>\n",
       "      <th>0</th>\n",
       "      <td>1.0</td>\n",
       "      <td>2006-03-24T22:30:00.000Z</td>\n",
       "      <td>Falcon 1</td>\n",
       "      <td>20.0</td>\n",
       "      <td>LEO</td>\n",
       "      <td>Kwajalein Atoll</td>\n",
       "      <td>None None</td>\n",
       "      <td>1.0</td>\n",
       "      <td>False</td>\n",
       "      <td>False</td>\n",
       "      <td>False</td>\n",
       "      <td>None</td>\n",
       "      <td>NaN</td>\n",
       "      <td>0.0</td>\n",
       "      <td>Merlin1A</td>\n",
       "      <td>167.743129</td>\n",
       "      <td>9.047721</td>\n",
       "    </tr>\n",
       "    <tr>\n",
       "      <th>1</th>\n",
       "      <td>2.0</td>\n",
       "      <td>2007-03-21T01:10:00.000Z</td>\n",
       "      <td>Falcon 1</td>\n",
       "      <td>NaN</td>\n",
       "      <td>LEO</td>\n",
       "      <td>Kwajalein Atoll</td>\n",
       "      <td>None None</td>\n",
       "      <td>1.0</td>\n",
       "      <td>False</td>\n",
       "      <td>False</td>\n",
       "      <td>False</td>\n",
       "      <td>None</td>\n",
       "      <td>NaN</td>\n",
       "      <td>0.0</td>\n",
       "      <td>Merlin2A</td>\n",
       "      <td>167.743129</td>\n",
       "      <td>9.047721</td>\n",
       "    </tr>\n",
       "    <tr>\n",
       "      <th>2</th>\n",
       "      <td>3.0</td>\n",
       "      <td>2008-08-03T03:34:00.000Z</td>\n",
       "      <td>Falcon 1</td>\n",
       "      <td>165.0</td>\n",
       "      <td>LEO</td>\n",
       "      <td>Kwajalein Atoll</td>\n",
       "      <td>None None</td>\n",
       "      <td>1.0</td>\n",
       "      <td>False</td>\n",
       "      <td>False</td>\n",
       "      <td>False</td>\n",
       "      <td>None</td>\n",
       "      <td>NaN</td>\n",
       "      <td>0.0</td>\n",
       "      <td>Merlin1C</td>\n",
       "      <td>167.743129</td>\n",
       "      <td>9.047721</td>\n",
       "    </tr>\n",
       "    <tr>\n",
       "      <th>3</th>\n",
       "      <td>4.0</td>\n",
       "      <td>2008-09-28T23:15:00.000Z</td>\n",
       "      <td>Falcon 1</td>\n",
       "      <td>200.0</td>\n",
       "      <td>LEO</td>\n",
       "      <td>Kwajalein Atoll</td>\n",
       "      <td>None None</td>\n",
       "      <td>1.0</td>\n",
       "      <td>False</td>\n",
       "      <td>False</td>\n",
       "      <td>False</td>\n",
       "      <td>None</td>\n",
       "      <td>NaN</td>\n",
       "      <td>0.0</td>\n",
       "      <td>Merlin2C</td>\n",
       "      <td>167.743129</td>\n",
       "      <td>9.047721</td>\n",
       "    </tr>\n",
       "    <tr>\n",
       "      <th>4</th>\n",
       "      <td>5.0</td>\n",
       "      <td>2009-07-13T03:35:00.000Z</td>\n",
       "      <td>Falcon 1</td>\n",
       "      <td>NaN</td>\n",
       "      <td>LEO</td>\n",
       "      <td>Kwajalein Atoll</td>\n",
       "      <td>None None</td>\n",
       "      <td>1.0</td>\n",
       "      <td>False</td>\n",
       "      <td>False</td>\n",
       "      <td>False</td>\n",
       "      <td>None</td>\n",
       "      <td>NaN</td>\n",
       "      <td>0.0</td>\n",
       "      <td>Merlin3C</td>\n",
       "      <td>167.743129</td>\n",
       "      <td>9.047721</td>\n",
       "    </tr>\n",
       "  </tbody>\n",
       "</table>\n",
       "</div>"
      ],
      "text/plain": [
       "   FlightNumber                      Date BoosterVersion  PayloadMass Orbit  \\\n",
       "0           1.0  2006-03-24T22:30:00.000Z       Falcon 1         20.0   LEO   \n",
       "1           2.0  2007-03-21T01:10:00.000Z       Falcon 1          NaN   LEO   \n",
       "2           3.0  2008-08-03T03:34:00.000Z       Falcon 1        165.0   LEO   \n",
       "3           4.0  2008-09-28T23:15:00.000Z       Falcon 1        200.0   LEO   \n",
       "4           5.0  2009-07-13T03:35:00.000Z       Falcon 1          NaN   LEO   \n",
       "\n",
       "        LaunchSite    Outcome  Flights GridFins Reused   Legs LandingPad  \\\n",
       "0  Kwajalein Atoll  None None      1.0    False  False  False       None   \n",
       "1  Kwajalein Atoll  None None      1.0    False  False  False       None   \n",
       "2  Kwajalein Atoll  None None      1.0    False  False  False       None   \n",
       "3  Kwajalein Atoll  None None      1.0    False  False  False       None   \n",
       "4  Kwajalein Atoll  None None      1.0    False  False  False       None   \n",
       "\n",
       "   Block  ReusedCount    Serial   Longitude  Latitude  \n",
       "0    NaN          0.0  Merlin1A  167.743129  9.047721  \n",
       "1    NaN          0.0  Merlin2A  167.743129  9.047721  \n",
       "2    NaN          0.0  Merlin1C  167.743129  9.047721  \n",
       "3    NaN          0.0  Merlin2C  167.743129  9.047721  \n",
       "4    NaN          0.0  Merlin3C  167.743129  9.047721  "
      ]
     },
     "execution_count": 66,
     "metadata": {},
     "output_type": "execute_result"
    }
   ],
   "source": [
    "# Show the head of the dataframe\n",
    "launch_data_df.head()"
   ]
  },
  {
   "cell_type": "markdown",
   "metadata": {},
   "source": [
    "### Task 2: Filter the dataframe to only include `Falcon 9` launches\n"
   ]
  },
  {
   "cell_type": "markdown",
   "metadata": {},
   "source": [
    "Finally we will remove the Falcon 1 launches keeping only the Falcon 9 launches. Filter the data dataframe using the <code>BoosterVersion</code> column to only keep the Falcon 9 launches. Save the filtered data to a new dataframe called <code>data_falcon9</code>.\n"
   ]
  },
  {
   "cell_type": "code",
   "execution_count": 67,
   "metadata": {},
   "outputs": [
    {
     "name": "stdout",
     "output_type": "stream",
     "text": [
      "   FlightNumber                      Date BoosterVersion  PayloadMass Orbit  \\\n",
      "5           6.0  2010-06-04T18:45:00.000Z       Falcon 9        525.0   LEO   \n",
      "6           7.0  2010-12-08T15:43:00.000Z       Falcon 9        677.0   ISS   \n",
      "7           8.0  2012-05-22T07:44:00.000Z       Falcon 9        500.0    PO   \n",
      "8           9.0  2012-10-08T00:35:00.000Z       Falcon 9       3170.0   GTO   \n",
      "9          10.0  2013-03-01T19:10:00.000Z       Falcon 9       3325.0   GTO   \n",
      "\n",
      "     LaunchSite    Outcome  Flights GridFins Reused   Legs LandingPad  Block  \\\n",
      "5  CCSFS SLC 40  None None      1.0    False  False  False       None    1.0   \n",
      "6  CCSFS SLC 40  None None      1.0    False  False  False       None    1.0   \n",
      "7  CCSFS SLC 40  None None      1.0    False  False  False       None    1.0   \n",
      "8  CCSFS SLC 40  None None      1.0    False  False  False       None    1.0   \n",
      "9  CCSFS SLC 40  None None      1.0    False  False  False       None    1.0   \n",
      "\n",
      "   ReusedCount Serial  Longitude   Latitude  \n",
      "5          0.0  B0003 -80.577366  28.561857  \n",
      "6          0.0  B0004 -80.577366  28.561857  \n",
      "7          0.0  B0005 -80.577366  28.561857  \n",
      "8          0.0  B0006 -80.577366  28.561857  \n",
      "9          0.0  B0007 -80.577366  28.561857  \n"
     ]
    }
   ],
   "source": [
    "# Assuming the column name for BoosterVersion is 'BoosterVersion'\n",
    "data_falcon9 = launch_data_df[launch_data_df['BoosterVersion'] == 'Falcon 9']\n",
    "\n",
    "# Display the first few rows of the filtered DataFrame\n",
    "print(data_falcon9.head())"
   ]
  },
  {
   "cell_type": "markdown",
   "metadata": {},
   "source": [
    "Now that we have removed some values we should reset the FlgihtNumber column\n"
   ]
  },
  {
   "cell_type": "code",
   "execution_count": 68,
   "metadata": {},
   "outputs": [
    {
     "name": "stderr",
     "output_type": "stream",
     "text": [
      "/home/jupyterlab/conda/envs/python/lib/python3.7/site-packages/pandas/core/indexing.py:1773: SettingWithCopyWarning: \n",
      "A value is trying to be set on a copy of a slice from a DataFrame.\n",
      "Try using .loc[row_indexer,col_indexer] = value instead\n",
      "\n",
      "See the caveats in the documentation: https://pandas.pydata.org/pandas-docs/stable/user_guide/indexing.html#returning-a-view-versus-a-copy\n",
      "  self._setitem_single_column(ilocs[0], value, pi)\n"
     ]
    },
    {
     "data": {
      "text/html": [
       "<div>\n",
       "<style scoped>\n",
       "    .dataframe tbody tr th:only-of-type {\n",
       "        vertical-align: middle;\n",
       "    }\n",
       "\n",
       "    .dataframe tbody tr th {\n",
       "        vertical-align: top;\n",
       "    }\n",
       "\n",
       "    .dataframe thead th {\n",
       "        text-align: right;\n",
       "    }\n",
       "</style>\n",
       "<table border=\"1\" class=\"dataframe\">\n",
       "  <thead>\n",
       "    <tr style=\"text-align: right;\">\n",
       "      <th></th>\n",
       "      <th>FlightNumber</th>\n",
       "      <th>Date</th>\n",
       "      <th>BoosterVersion</th>\n",
       "      <th>PayloadMass</th>\n",
       "      <th>Orbit</th>\n",
       "      <th>LaunchSite</th>\n",
       "      <th>Outcome</th>\n",
       "      <th>Flights</th>\n",
       "      <th>GridFins</th>\n",
       "      <th>Reused</th>\n",
       "      <th>Legs</th>\n",
       "      <th>LandingPad</th>\n",
       "      <th>Block</th>\n",
       "      <th>ReusedCount</th>\n",
       "      <th>Serial</th>\n",
       "      <th>Longitude</th>\n",
       "      <th>Latitude</th>\n",
       "    </tr>\n",
       "  </thead>\n",
       "  <tbody>\n",
       "    <tr>\n",
       "      <th>5</th>\n",
       "      <td>1</td>\n",
       "      <td>2010-06-04T18:45:00.000Z</td>\n",
       "      <td>Falcon 9</td>\n",
       "      <td>525.0</td>\n",
       "      <td>LEO</td>\n",
       "      <td>CCSFS SLC 40</td>\n",
       "      <td>None None</td>\n",
       "      <td>1.0</td>\n",
       "      <td>False</td>\n",
       "      <td>False</td>\n",
       "      <td>False</td>\n",
       "      <td>None</td>\n",
       "      <td>1.0</td>\n",
       "      <td>0.0</td>\n",
       "      <td>B0003</td>\n",
       "      <td>-80.577366</td>\n",
       "      <td>28.561857</td>\n",
       "    </tr>\n",
       "    <tr>\n",
       "      <th>6</th>\n",
       "      <td>2</td>\n",
       "      <td>2010-12-08T15:43:00.000Z</td>\n",
       "      <td>Falcon 9</td>\n",
       "      <td>677.0</td>\n",
       "      <td>ISS</td>\n",
       "      <td>CCSFS SLC 40</td>\n",
       "      <td>None None</td>\n",
       "      <td>1.0</td>\n",
       "      <td>False</td>\n",
       "      <td>False</td>\n",
       "      <td>False</td>\n",
       "      <td>None</td>\n",
       "      <td>1.0</td>\n",
       "      <td>0.0</td>\n",
       "      <td>B0004</td>\n",
       "      <td>-80.577366</td>\n",
       "      <td>28.561857</td>\n",
       "    </tr>\n",
       "    <tr>\n",
       "      <th>7</th>\n",
       "      <td>3</td>\n",
       "      <td>2012-05-22T07:44:00.000Z</td>\n",
       "      <td>Falcon 9</td>\n",
       "      <td>500.0</td>\n",
       "      <td>PO</td>\n",
       "      <td>CCSFS SLC 40</td>\n",
       "      <td>None None</td>\n",
       "      <td>1.0</td>\n",
       "      <td>False</td>\n",
       "      <td>False</td>\n",
       "      <td>False</td>\n",
       "      <td>None</td>\n",
       "      <td>1.0</td>\n",
       "      <td>0.0</td>\n",
       "      <td>B0005</td>\n",
       "      <td>-80.577366</td>\n",
       "      <td>28.561857</td>\n",
       "    </tr>\n",
       "    <tr>\n",
       "      <th>8</th>\n",
       "      <td>4</td>\n",
       "      <td>2012-10-08T00:35:00.000Z</td>\n",
       "      <td>Falcon 9</td>\n",
       "      <td>3170.0</td>\n",
       "      <td>GTO</td>\n",
       "      <td>CCSFS SLC 40</td>\n",
       "      <td>None None</td>\n",
       "      <td>1.0</td>\n",
       "      <td>False</td>\n",
       "      <td>False</td>\n",
       "      <td>False</td>\n",
       "      <td>None</td>\n",
       "      <td>1.0</td>\n",
       "      <td>0.0</td>\n",
       "      <td>B0006</td>\n",
       "      <td>-80.577366</td>\n",
       "      <td>28.561857</td>\n",
       "    </tr>\n",
       "    <tr>\n",
       "      <th>9</th>\n",
       "      <td>5</td>\n",
       "      <td>2013-03-01T19:10:00.000Z</td>\n",
       "      <td>Falcon 9</td>\n",
       "      <td>3325.0</td>\n",
       "      <td>GTO</td>\n",
       "      <td>CCSFS SLC 40</td>\n",
       "      <td>None None</td>\n",
       "      <td>1.0</td>\n",
       "      <td>False</td>\n",
       "      <td>False</td>\n",
       "      <td>False</td>\n",
       "      <td>None</td>\n",
       "      <td>1.0</td>\n",
       "      <td>0.0</td>\n",
       "      <td>B0007</td>\n",
       "      <td>-80.577366</td>\n",
       "      <td>28.561857</td>\n",
       "    </tr>\n",
       "    <tr>\n",
       "      <th>...</th>\n",
       "      <td>...</td>\n",
       "      <td>...</td>\n",
       "      <td>...</td>\n",
       "      <td>...</td>\n",
       "      <td>...</td>\n",
       "      <td>...</td>\n",
       "      <td>...</td>\n",
       "      <td>...</td>\n",
       "      <td>...</td>\n",
       "      <td>...</td>\n",
       "      <td>...</td>\n",
       "      <td>...</td>\n",
       "      <td>...</td>\n",
       "      <td>...</td>\n",
       "      <td>...</td>\n",
       "      <td>...</td>\n",
       "      <td>...</td>\n",
       "    </tr>\n",
       "    <tr>\n",
       "      <th>209</th>\n",
       "      <td>194</td>\n",
       "      <td>None</td>\n",
       "      <td>Falcon 9</td>\n",
       "      <td>15600.0</td>\n",
       "      <td>VLEO</td>\n",
       "      <td>KSC LC 39A</td>\n",
       "      <td>None</td>\n",
       "      <td>NaN</td>\n",
       "      <td>None</td>\n",
       "      <td>None</td>\n",
       "      <td>None</td>\n",
       "      <td>None</td>\n",
       "      <td>NaN</td>\n",
       "      <td>NaN</td>\n",
       "      <td>None</td>\n",
       "      <td>-80.603956</td>\n",
       "      <td>28.608058</td>\n",
       "    </tr>\n",
       "    <tr>\n",
       "      <th>210</th>\n",
       "      <td>195</td>\n",
       "      <td>None</td>\n",
       "      <td>Falcon 9</td>\n",
       "      <td>15600.0</td>\n",
       "      <td>VLEO</td>\n",
       "      <td>KSC LC 39A</td>\n",
       "      <td>None</td>\n",
       "      <td>NaN</td>\n",
       "      <td>None</td>\n",
       "      <td>None</td>\n",
       "      <td>None</td>\n",
       "      <td>None</td>\n",
       "      <td>NaN</td>\n",
       "      <td>NaN</td>\n",
       "      <td>None</td>\n",
       "      <td>-80.603956</td>\n",
       "      <td>28.608058</td>\n",
       "    </tr>\n",
       "    <tr>\n",
       "      <th>211</th>\n",
       "      <td>196</td>\n",
       "      <td>None</td>\n",
       "      <td>Falcon 9</td>\n",
       "      <td>9525.0</td>\n",
       "      <td>ISS</td>\n",
       "      <td>CCSFS SLC 40</td>\n",
       "      <td>None</td>\n",
       "      <td>NaN</td>\n",
       "      <td>None</td>\n",
       "      <td>None</td>\n",
       "      <td>None</td>\n",
       "      <td>None</td>\n",
       "      <td>NaN</td>\n",
       "      <td>NaN</td>\n",
       "      <td>None</td>\n",
       "      <td>-80.577366</td>\n",
       "      <td>28.561857</td>\n",
       "    </tr>\n",
       "    <tr>\n",
       "      <th>212</th>\n",
       "      <td>197</td>\n",
       "      <td>None</td>\n",
       "      <td>Falcon 9</td>\n",
       "      <td>15600.0</td>\n",
       "      <td>VLEO</td>\n",
       "      <td>CCSFS SLC 40</td>\n",
       "      <td>None</td>\n",
       "      <td>NaN</td>\n",
       "      <td>None</td>\n",
       "      <td>None</td>\n",
       "      <td>None</td>\n",
       "      <td>None</td>\n",
       "      <td>NaN</td>\n",
       "      <td>NaN</td>\n",
       "      <td>None</td>\n",
       "      <td>-80.577366</td>\n",
       "      <td>28.561857</td>\n",
       "    </tr>\n",
       "    <tr>\n",
       "      <th>213</th>\n",
       "      <td>198</td>\n",
       "      <td>None</td>\n",
       "      <td>Falcon 9</td>\n",
       "      <td>15600.0</td>\n",
       "      <td>VLEO</td>\n",
       "      <td>KSC LC 39A</td>\n",
       "      <td>None</td>\n",
       "      <td>NaN</td>\n",
       "      <td>None</td>\n",
       "      <td>None</td>\n",
       "      <td>None</td>\n",
       "      <td>None</td>\n",
       "      <td>NaN</td>\n",
       "      <td>NaN</td>\n",
       "      <td>None</td>\n",
       "      <td>-80.603956</td>\n",
       "      <td>28.608058</td>\n",
       "    </tr>\n",
       "  </tbody>\n",
       "</table>\n",
       "<p>198 rows × 17 columns</p>\n",
       "</div>"
      ],
      "text/plain": [
       "     FlightNumber                      Date BoosterVersion  PayloadMass Orbit  \\\n",
       "5               1  2010-06-04T18:45:00.000Z       Falcon 9        525.0   LEO   \n",
       "6               2  2010-12-08T15:43:00.000Z       Falcon 9        677.0   ISS   \n",
       "7               3  2012-05-22T07:44:00.000Z       Falcon 9        500.0    PO   \n",
       "8               4  2012-10-08T00:35:00.000Z       Falcon 9       3170.0   GTO   \n",
       "9               5  2013-03-01T19:10:00.000Z       Falcon 9       3325.0   GTO   \n",
       "..            ...                       ...            ...          ...   ...   \n",
       "209           194                      None       Falcon 9      15600.0  VLEO   \n",
       "210           195                      None       Falcon 9      15600.0  VLEO   \n",
       "211           196                      None       Falcon 9       9525.0   ISS   \n",
       "212           197                      None       Falcon 9      15600.0  VLEO   \n",
       "213           198                      None       Falcon 9      15600.0  VLEO   \n",
       "\n",
       "       LaunchSite    Outcome  Flights GridFins Reused   Legs LandingPad  \\\n",
       "5    CCSFS SLC 40  None None      1.0    False  False  False       None   \n",
       "6    CCSFS SLC 40  None None      1.0    False  False  False       None   \n",
       "7    CCSFS SLC 40  None None      1.0    False  False  False       None   \n",
       "8    CCSFS SLC 40  None None      1.0    False  False  False       None   \n",
       "9    CCSFS SLC 40  None None      1.0    False  False  False       None   \n",
       "..            ...        ...      ...      ...    ...    ...        ...   \n",
       "209    KSC LC 39A       None      NaN     None   None   None       None   \n",
       "210    KSC LC 39A       None      NaN     None   None   None       None   \n",
       "211  CCSFS SLC 40       None      NaN     None   None   None       None   \n",
       "212  CCSFS SLC 40       None      NaN     None   None   None       None   \n",
       "213    KSC LC 39A       None      NaN     None   None   None       None   \n",
       "\n",
       "     Block  ReusedCount Serial  Longitude   Latitude  \n",
       "5      1.0          0.0  B0003 -80.577366  28.561857  \n",
       "6      1.0          0.0  B0004 -80.577366  28.561857  \n",
       "7      1.0          0.0  B0005 -80.577366  28.561857  \n",
       "8      1.0          0.0  B0006 -80.577366  28.561857  \n",
       "9      1.0          0.0  B0007 -80.577366  28.561857  \n",
       "..     ...          ...    ...        ...        ...  \n",
       "209    NaN          NaN   None -80.603956  28.608058  \n",
       "210    NaN          NaN   None -80.603956  28.608058  \n",
       "211    NaN          NaN   None -80.577366  28.561857  \n",
       "212    NaN          NaN   None -80.577366  28.561857  \n",
       "213    NaN          NaN   None -80.603956  28.608058  \n",
       "\n",
       "[198 rows x 17 columns]"
      ]
     },
     "execution_count": 68,
     "metadata": {},
     "output_type": "execute_result"
    }
   ],
   "source": [
    "data_falcon9.loc[:,'FlightNumber'] = list(range(1, data_falcon9.shape[0]+1))\n",
    "data_falcon9"
   ]
  },
  {
   "cell_type": "markdown",
   "metadata": {},
   "source": [
    "## Data Wrangling\n"
   ]
  },
  {
   "cell_type": "markdown",
   "metadata": {},
   "source": [
    "We can see below that some of the rows are missing values in our dataset.\n"
   ]
  },
  {
   "cell_type": "code",
   "execution_count": 69,
   "metadata": {},
   "outputs": [
    {
     "data": {
      "text/plain": [
       "FlightNumber        0\n",
       "Date               99\n",
       "BoosterVersion      0\n",
       "PayloadMass        12\n",
       "Orbit               0\n",
       "LaunchSite          0\n",
       "Outcome            98\n",
       "Flights            98\n",
       "GridFins           98\n",
       "Reused             98\n",
       "Legs               98\n",
       "LandingPad        129\n",
       "Block              98\n",
       "ReusedCount        98\n",
       "Serial             98\n",
       "Longitude           0\n",
       "Latitude            0\n",
       "dtype: int64"
      ]
     },
     "execution_count": 69,
     "metadata": {},
     "output_type": "execute_result"
    }
   ],
   "source": [
    "data_falcon9.isnull().sum()"
   ]
  },
  {
   "cell_type": "markdown",
   "metadata": {},
   "source": [
    "Before we can continue we must deal with these missing values. The <code>LandingPad</code> column will retain None values to represent when landing pads were not used.\n"
   ]
  },
  {
   "cell_type": "markdown",
   "metadata": {},
   "source": [
    "### Task 3: Dealing with Missing Values\n"
   ]
  },
  {
   "cell_type": "markdown",
   "metadata": {},
   "source": [
    "Calculate below the mean for the <code>PayloadMass</code> using the <code>.mean()</code>. Then use the mean and the <code>.replace()</code> function to replace `np.nan` values in the data with the mean you calculated.\n"
   ]
  },
  {
   "cell_type": "code",
   "execution_count": 70,
   "metadata": {},
   "outputs": [
    {
     "name": "stdout",
     "output_type": "stream",
     "text": [
      "FlightNumber        0\n",
      "Date               99\n",
      "BoosterVersion      0\n",
      "PayloadMass         0\n",
      "Orbit               0\n",
      "LaunchSite          0\n",
      "Outcome            98\n",
      "Flights            98\n",
      "GridFins           98\n",
      "Reused             98\n",
      "Legs               98\n",
      "LandingPad        129\n",
      "Block              98\n",
      "ReusedCount        98\n",
      "Serial             98\n",
      "Longitude           0\n",
      "Latitude            0\n",
      "dtype: int64\n"
     ]
    },
    {
     "name": "stderr",
     "output_type": "stream",
     "text": [
      "/home/jupyterlab/conda/envs/python/lib/python3.7/site-packages/pandas/core/generic.py:6619: SettingWithCopyWarning: \n",
      "A value is trying to be set on a copy of a slice from a DataFrame\n",
      "\n",
      "See the caveats in the documentation: https://pandas.pydata.org/pandas-docs/stable/user_guide/indexing.html#returning-a-view-versus-a-copy\n",
      "  return self._update_inplace(result)\n"
     ]
    }
   ],
   "source": [
    "# Calculate the mean value of PayloadMass column\n",
    "payload_mass_mean = data_falcon9['PayloadMass'].mean()\n",
    "\n",
    "# Replace the np.nan values with its mean value\n",
    "data_falcon9['PayloadMass'].replace(np.nan, payload_mass_mean, inplace=True)\n",
    "\n",
    "# Verify the changes\n",
    "print(data_falcon9.isnull().sum())"
   ]
  },
  {
   "cell_type": "code",
   "execution_count": 73,
   "metadata": {
    "tags": []
   },
   "outputs": [
    {
     "name": "stdout",
     "output_type": "stream",
     "text": [
      "Number of missing values in the 'LandingPad' column: 129\n"
     ]
    }
   ],
   "source": [
    "# Count the number of missing values in the 'LandingPad' column\n",
    "missing_values_count = data_falcon9['LandingPad'].isnull().sum()\n",
    "\n",
    "# Display the result\n",
    "print(f\"Number of missing values in the 'LandingPad' column: {missing_values_count}\")\n"
   ]
  },
  {
   "cell_type": "markdown",
   "metadata": {},
   "source": [
    "You should see the number of missing values of the <code>PayLoadMass</code> change to zero.\n"
   ]
  },
  {
   "cell_type": "code",
   "execution_count": 74,
   "metadata": {
    "tags": []
   },
   "outputs": [],
   "source": [
    "data_falcon9.to_csv('dataset_part_1.csv', index=False)"
   ]
  },
  {
   "cell_type": "markdown",
   "metadata": {},
   "source": [
    "Now we should have no missing values in our dataset except for in <code>LandingPad</code>.\n"
   ]
  },
  {
   "cell_type": "markdown",
   "metadata": {},
   "source": [
    "We can now export it to a <b>CSV</b> for the next section,but to make the answers consistent, in the next lab we will provide data in a pre-selected date range. \n"
   ]
  },
  {
   "cell_type": "markdown",
   "metadata": {},
   "source": [
    "<code>data_falcon9.to_csv('dataset_part_1.csv', index=False)</code>\n"
   ]
  },
  {
   "cell_type": "markdown",
   "metadata": {},
   "source": [
    "## Authors\n"
   ]
  },
  {
   "cell_type": "markdown",
   "metadata": {},
   "source": [
    "<a href=\"https://www.linkedin.com/in/joseph-s-50398b136/?utm_medium=Exinfluencer&utm_source=Exinfluencer&utm_content=000026UJ&utm_term=10006555&utm_id=NA-SkillsNetwork-Channel-SkillsNetworkCoursesIBMDS0321ENSkillsNetwork865-2022-01-01\">Joseph Santarcangelo</a> has a PhD in Electrical Engineering, his research focused on using machine learning, signal processing, and computer vision to determine how videos impact human cognition. Joseph has been working for IBM since he completed his PhD. \n"
   ]
  },
  {
   "cell_type": "markdown",
   "metadata": {},
   "source": [
    "## Change Log\n"
   ]
  },
  {
   "cell_type": "markdown",
   "metadata": {},
   "source": [
    "|Date (YYYY-MM-DD)|Version|Changed By|Change Description|\n",
    "|-|-|-|-|\n",
    "|2020-09-20|1.1|Joseph|get result each time you run|\n",
    "|2020-09-20|1.1|Azim |Created Part 1 Lab using SpaceX API|\n",
    "|2020-09-20|1.0|Joseph |Modified Multiple Areas|\n"
   ]
  },
  {
   "cell_type": "markdown",
   "metadata": {},
   "source": [
    "Copyright © 2021 IBM Corporation. All rights reserved.\n"
   ]
  }
 ],
 "metadata": {
  "kernelspec": {
   "display_name": "Python",
   "language": "python",
   "name": "conda-env-python-py"
  },
  "language_info": {
   "codemirror_mode": {
    "name": "ipython",
    "version": 3
   },
   "file_extension": ".py",
   "mimetype": "text/x-python",
   "name": "python",
   "nbconvert_exporter": "python",
   "pygments_lexer": "ipython3",
   "version": "3.7.12"
  }
 },
 "nbformat": 4,
 "nbformat_minor": 4
}
